{
  "nbformat": 4,
  "nbformat_minor": 0,
  "metadata": {
    "colab": {
      "provenance": [],
      "authorship_tag": "ABX9TyOMBSJCgnfpZ63Cryo0m53n",
      "include_colab_link": true
    },
    "kernelspec": {
      "name": "python3",
      "display_name": "Python 3"
    },
    "language_info": {
      "name": "python"
    }
  },
  "cells": [
    {
      "cell_type": "markdown",
      "metadata": {
        "id": "view-in-github",
        "colab_type": "text"
      },
      "source": [
        "<a href=\"https://colab.research.google.com/github/Pattiecodes/DataCamp_As.AIEng/blob/main/Module_5_Responsible_AI_DataManagement.ipynb\" target=\"_parent\"><img src=\"https://colab.research.google.com/assets/colab-badge.svg\" alt=\"Open In Colab\"/></a>"
      ]
    },
    {
      "cell_type": "markdown",
      "source": [
        "# Module 5 Starts here"
      ],
      "metadata": {
        "id": "c7-WNxC9L4pi"
      }
    },
    {
      "cell_type": "markdown",
      "source": [
        "Module 5 is all lecture it seems to this point. If there are changes, then code will be added here."
      ],
      "metadata": {
        "id": "OoX50gT4xh4-"
      }
    },
    {
      "cell_type": "code",
      "source": [
        "# Module 5 is all lecture."
      ],
      "metadata": {
        "id": "IUhyFiF4xvKX"
      },
      "execution_count": 1,
      "outputs": []
    },
    {
      "cell_type": "markdown",
      "source": [
        "# Chi-Squared Test to analyze the distribution of demographic groups"
      ],
      "metadata": {
        "id": "C5KCUBxb8uQO"
      }
    },
    {
      "cell_type": "code",
      "source": [
        "from scipy.stats import chi2_contingency\n",
        "\n",
        "# Example data: observed frequencies of demographic groups in your dataset\n",
        "observed_frequencies = [[50, 30], [20, 100]]\n",
        "chi2, p, dof, expected = chi2_contingency(observed_frequencies)\n",
        "\n",
        "print(f\"Chi-squared test statistic: {chi2}\")\n",
        "print(f\"P-value: {p}\")"
      ],
      "metadata": {
        "id": "ApwAVNYH8ru5"
      },
      "execution_count": null,
      "outputs": []
    },
    {
      "cell_type": "markdown",
      "source": [],
      "metadata": {
        "id": "7D3JHzrJ84VW"
      }
    }
  ]
}