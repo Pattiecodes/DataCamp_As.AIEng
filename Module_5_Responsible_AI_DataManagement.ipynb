{
  "nbformat": 4,
  "nbformat_minor": 0,
  "metadata": {
    "colab": {
      "provenance": [],
      "authorship_tag": "ABX9TyNs+dketDZ16ZxduD8+DkN6",
      "include_colab_link": true
    },
    "kernelspec": {
      "name": "python3",
      "display_name": "Python 3"
    },
    "language_info": {
      "name": "python"
    }
  },
  "cells": [
    {
      "cell_type": "markdown",
      "metadata": {
        "id": "view-in-github",
        "colab_type": "text"
      },
      "source": [
        "<a href=\"https://colab.research.google.com/github/Pattiecodes/DataCamp_As.AIEng/blob/main/Module_5_Responsible_AI_DataManagement.ipynb\" target=\"_parent\"><img src=\"https://colab.research.google.com/assets/colab-badge.svg\" alt=\"Open In Colab\"/></a>"
      ]
    },
    {
      "cell_type": "markdown",
      "source": [
        "# Module 5 Starts here"
      ],
      "metadata": {
        "id": "c7-WNxC9L4pi"
      }
    },
    {
      "cell_type": "markdown",
      "source": [
        "Module 5 is all lecture it seems to this point. If there are changes, then code will be added here."
      ],
      "metadata": {
        "id": "OoX50gT4xh4-"
      }
    },
    {
      "cell_type": "code",
      "source": [
        "# Module 5 is all lecture."
      ],
      "metadata": {
        "id": "IUhyFiF4xvKX"
      },
      "execution_count": null,
      "outputs": []
    }
  ]
}