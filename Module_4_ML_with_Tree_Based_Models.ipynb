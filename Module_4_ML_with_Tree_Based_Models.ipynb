{
  "nbformat": 4,
  "nbformat_minor": 0,
  "metadata": {
    "colab": {
      "provenance": [],
      "authorship_tag": "ABX9TyNdygU8QZ/QhoA4f5j5Csb3",
      "include_colab_link": true
    },
    "kernelspec": {
      "name": "python3",
      "display_name": "Python 3"
    },
    "language_info": {
      "name": "python"
    }
  },
  "cells": [
    {
      "cell_type": "markdown",
      "metadata": {
        "id": "view-in-github",
        "colab_type": "text"
      },
      "source": [
        "<a href=\"https://colab.research.google.com/github/Pattiecodes/DataCamp_As.AIEng/blob/main/Module_4_ML_with_Tree_Based_Models.ipynb\" target=\"_parent\"><img src=\"https://colab.research.google.com/assets/colab-badge.svg\" alt=\"Open In Colab\"/></a>"
      ]
    },
    {
      "cell_type": "markdown",
      "source": [
        "# --- Module Start ---"
      ],
      "metadata": {
        "id": "rGXYPw8kKE8I"
      }
    },
    {
      "cell_type": "markdown",
      "source": [
        "# Train your first classification tree\n",
        "In this exercise you'll work with the Wisconsin Breast Cancer Dataset from the UCI machine learning repository. You'll predict whether a tumor is malignant or benign based on two features: the mean radius of the tumor (radius_mean) and its mean number of concave points (concave points_mean).\n",
        "\n",
        "The dataset is already loaded in your workspace and is split into 80% train and 20% test. The feature matrices are assigned to X_train and X_test, while the arrays of labels are assigned to y_train and y_test where class 1 corresponds to a malignant tumor and class 0 corresponds to a benign tumor. To obtain reproducible results, we also defined a variable called SEED which is set to 1.\n",
        "\n",
        "Instructions\n",
        "100 XP\n",
        "Import DecisionTreeClassifier from sklearn.tree.\n",
        "\n",
        "Instantiate a DecisionTreeClassifier dt of maximum depth equal to 6.\n",
        "\n",
        "Fit dt to the training set.\n",
        "\n",
        "Predict the test set labels and assign the result to y_pred."
      ],
      "metadata": {
        "id": "jT9azjEHQaKQ"
      }
    },
    {
      "cell_type": "code",
      "execution_count": null,
      "metadata": {
        "id": "EgCtbhF7J0_T"
      },
      "outputs": [],
      "source": [
        "  # Import DecisionTreeClassifier from sklearn.tree\n",
        "from sklearn.tree import DecisionTreeClassifier\n",
        "\n",
        "# Instantiate a DecisionTreeClassifier 'dt' with a maximum depth of 6\n",
        "dt = DecisionTreeClassifier(max_depth=6, random_state=SEED)\n",
        "\n",
        "# Fit dt to the training set\n",
        "dt.fit(X_train, y_train)\n",
        "\n",
        "# Predict test set labels\n",
        "y_pred = dt.predict(X_test)\n",
        "print(y_pred[0:5])"
      ]
    },
    {
      "cell_type": "markdown",
      "source": [
        "# Evaluate the classification tree\n",
        "Now that you've fit your first classification tree, it's time to evaluate its performance on the test set. You'll do so using the accuracy metric which corresponds to the fraction of correct predictions made on the test set.\n",
        "\n",
        "The trained model dt from the previous exercise is loaded in your workspace along with the test set features matrix X_test and the array of labels y_test.\n",
        "\n",
        "Instructions\n",
        "100 XP\n",
        "Import the function accuracy_score from sklearn.metrics.\n",
        "\n",
        "Predict the test set labels and assign the obtained array to y_pred.\n",
        "\n",
        "Evaluate the test set accuracy score of dt by calling accuracy_score() and assign the value to acc."
      ],
      "metadata": {
        "id": "9WeFsrNIRNtP"
      }
    },
    {
      "cell_type": "code",
      "source": [
        "# Import accuracy_score\n",
        "from sklearn.metrics import accuracy_score\n",
        "\n",
        "# Predict test set labels\n",
        "y_pred = dt.predict(X_test)\n",
        "\n",
        "# Compute test set accuracy\n",
        "acc = accuracy_score(y_test, y_pred)\n",
        "print(\"Test set accuracy: {:.2f}\".format(acc))"
      ],
      "metadata": {
        "id": "FqbgXOq6ROIy"
      },
      "execution_count": null,
      "outputs": []
    },
    {
      "cell_type": "markdown",
      "source": [
        "# Logistic regression vs classification tree\n",
        "A classification tree divides the feature space into rectangular regions. In contrast, a linear model such as logistic regression produces only a single linear decision boundary dividing the feature space into two decision regions.\n",
        "\n",
        "We have written a custom function called plot_labeled_decision_regions() that you can use to plot the decision regions of a list containing two trained classifiers. You can type help(plot_labeled_decision_regions) in the shell to learn more about this function.\n",
        "\n",
        "X_train, X_test, y_train, y_test, the model dt that you've trained in an earlier exercise, as well as the function plot_labeled_decision_regions() are available in your workspace.\n",
        "\n",
        "Instructions\n",
        "100 XP\n",
        "Import LogisticRegression from sklearn.linear_model.\n",
        "\n",
        "Instantiate a LogisticRegression model and assign it to logreg.\n",
        "\n",
        "Fit logreg to the training set.\n",
        "\n",
        "Review the plot generated by plot_labeled_decision_regions()."
      ],
      "metadata": {
        "id": "yNQp5c_bd3q3"
      }
    },
    {
      "cell_type": "code",
      "source": [
        "# Import LogisticRegression from sklearn.linear_model\n",
        "from sklearn.linear_model import LogisticRegression\n",
        "\n",
        "# Instatiate logreg\n",
        "logreg = LogisticRegression(random_state=1)\n",
        "\n",
        "# Fit logreg to the training set\n",
        "logreg.fit(X_train, y_train)\n",
        "\n",
        "# Define a list called clfs containing the two classifiers logreg and dt\n",
        "clfs = [logreg, dt]\n",
        "\n",
        "# Review the decision regions of the two classifiers\n",
        "plot_labeled_decision_regions(X_test, y_test, clfs)"
      ],
      "metadata": {
        "id": "eltJzkHWd4JC"
      },
      "execution_count": null,
      "outputs": []
    },
    {
      "cell_type": "markdown",
      "source": [
        "# Using entropy as a criterion\n",
        "In this exercise, you'll train a classification tree on the Wisconsin Breast Cancer dataset using entropy as an information criterion. You'll do so using all the 30 features in the dataset, which is split into 80% train and 20% test.\n",
        "\n",
        "X_train as well as the array of labels y_train are available in your workspace.\n",
        "\n",
        "Instructions\n",
        "100 XP\n",
        "Import DecisionTreeClassifier from sklearn.tree.\n",
        "\n",
        "Instantiate a DecisionTreeClassifier dt_entropy with a maximum depth of 8.\n",
        "\n",
        "Set the information criterion to 'entropy'.\n",
        "\n",
        "Fit dt_entropy on the training set."
      ],
      "metadata": {
        "id": "ylrs9Q-0mDXW"
      }
    },
    {
      "cell_type": "code",
      "source": [
        "# Import DecisionTreeClassifier from sklearn.tree\n",
        "from sklearn.tree import DecisionTreeClassifier\n",
        "\n",
        "# Instantiate dt_entropy, set 'entropy' as the information criterion\n",
        "dt_entropy = DecisionTreeClassifier(max_depth=8, criterion='entropy', random_state=1)\n",
        "\n",
        "# Fit dt_entropy to the training set\n",
        "dt_entropy.fit(X_train, y_train)"
      ],
      "metadata": {
        "id": "GKHW2st6mDsb"
      },
      "execution_count": null,
      "outputs": []
    },
    {
      "cell_type": "markdown",
      "source": [
        "# Entropy vs Gini index\n",
        "In this exercise you'll compare the test set accuracy of dt_entropy to the accuracy of another tree named dt_gini. The tree dt_gini was trained on the same dataset using the same parameters except for the information criterion which was set to the gini index using the keyword 'gini'.\n",
        "\n",
        "X_test, y_test, dt_entropy, as well as accuracy_gini which corresponds to the test set accuracy achieved by dt_gini are available in your workspace.\n",
        "\n",
        "Instructions\n",
        "100 XP\n",
        "Import accuracy_score from sklearn.metrics.\n",
        "Predict the test set labels of dt_entropy and assign the result to y_pred.\n",
        "Evaluate the test set accuracy of dt_entropy and assign the result to accuracy_entropy.\n",
        "Review accuracy_entropy and accuracy_gini."
      ],
      "metadata": {
        "id": "RLvNkoB6lLbU"
      }
    },
    {
      "cell_type": "code",
      "source": [
        "# Import accuracy_score from sklearn.metrics\n",
        "from sklearn.metrics import accuracy_score\n",
        "\n",
        "# Use dt_entropy to predict test set labels\n",
        "y_pred = dt_entropy.predict(X_test)\n",
        "\n",
        "# Evaluate accuracy_entropy\n",
        "accuracy_entropy = accuracy_score(y_test, y_pred)\n",
        "\n",
        "# Print accuracy_entropy\n",
        "print(f'Accuracy achieved by using entropy: {accuracy_entropy:.3f}')\n",
        "\n",
        "# Print accuracy_gini\n",
        "print(f'Accuracy achieved by using the gini index: {accuracy_gini:.3f}')"
      ],
      "metadata": {
        "id": "rX5yQGgDlLwB"
      },
      "execution_count": null,
      "outputs": []
    },
    {
      "cell_type": "markdown",
      "source": [
        "# Train your first regression tree\n",
        "In this exercise, you'll train a regression tree to predict the mpg (miles per gallon) consumption of cars in the auto-mpg dataset using all the six available features.\n",
        "\n",
        "The dataset is processed for you and is split to 80% train and 20% test. The features matrix X_train and the array y_train are available in your workspace.\n",
        "\n",
        "Instructions\n",
        "100 XP\n",
        "Import DecisionTreeRegressor from sklearn.tree.\n",
        "Instantiate a DecisionTreeRegressor dt with maximum depth 8 and min_samples_leaf set to 0.13.\n",
        "Fit dt to the training set."
      ],
      "metadata": {
        "id": "naw9RzijpCCj"
      }
    },
    {
      "cell_type": "code",
      "source": [
        "# Import DecisionTreeRegressor from sklearn.tree\n",
        "from sklearn.tree import DecisionTreeRegressor\n",
        "\n",
        "# Instantiate dt\n",
        "dt = DecisionTreeRegressor(max_depth=8,\n",
        "             min_samples_leaf=0.13,\n",
        "            random_state=3)\n",
        "\n",
        "# Fit dt to the training set\n",
        "dt.fit(X_train, y_train)"
      ],
      "metadata": {
        "id": "q30qCbgjpCVk"
      },
      "execution_count": null,
      "outputs": []
    },
    {
      "cell_type": "markdown",
      "source": [
        "# Evaluate the regression tree\n",
        "In this exercise, you will evaluate the test set performance of dt using the Root Mean Squared Error (RMSE) metric. The RMSE of a model measures, on average, how much the model's predictions differ from the actual labels. The RMSE of a model can be obtained by computing the square root of the model's Mean Squared Error (MSE).\n",
        "\n",
        "The features matrix X_test, the array y_test, as well as the decision tree regressor dt that you trained in the previous exercise are available in your workspace.\n",
        "\n",
        "Instructions\n",
        "100 XP\n",
        "Import the function mean_squared_error as MSE from sklearn.metrics.\n",
        "Predict the test set labels and assign the output to y_pred.\n",
        "Compute the test set MSE by calling MSE and assign the result to mse_dt.\n",
        "Compute the test set RMSE and assign it to rmse_dt."
      ],
      "metadata": {
        "id": "DkJncTVGhubE"
      }
    },
    {
      "cell_type": "code",
      "source": [
        "# Import mean_squared_error from sklearn.metrics as MSE\n",
        "from sklearn.metrics import mean_squared_error as MSE\n",
        "\n",
        "# Compute y_pred\n",
        "y_pred = dt.predict(X_test)\n",
        "\n",
        "# Compute mse_dt\n",
        "mse_dt = MSE(y_test, y_pred)\n",
        "\n",
        "# Compute rmse_dt\n",
        "rmse_dt = mse_dt**(1/2)\n",
        "\n",
        "# Print rmse_dt\n",
        "print(\"Test set RMSE of dt: {:.2f}\".format(rmse_dt))"
      ],
      "metadata": {
        "id": "GcCIzi1rhu-z"
      },
      "execution_count": null,
      "outputs": []
    },
    {
      "cell_type": "markdown",
      "source": [
        "# Linear regression vs regression tree\n",
        "In this exercise, you'll compare the test set RMSE of dt to that achieved by a linear regression model. We have already instantiated a linear regression model lr and trained it on the same dataset as dt.\n",
        "\n",
        "The features matrix X_test, the array of labels y_test, the trained linear regression model lr, mean_squared_error function which was imported under the alias MSE and rmse_dt from the previous exercise are available in your workspace.\n",
        "\n",
        "Instructions\n",
        "100 XP\n",
        "Predict test set labels using the linear regression model (lr) and assign the result to y_pred_lr.\n",
        "\n",
        "Compute the test set MSE and assign the result to mse_lr.\n",
        "\n",
        "Compute the test set RMSE and assign the result to rmse_lr."
      ],
      "metadata": {
        "id": "aW5U8Fk2ixg0"
      }
    },
    {
      "cell_type": "code",
      "source": [
        "# Predict test set labels\n",
        "y_pred_lr = lr.predict(X_test)\n",
        "\n",
        "# Compute mse_lr\n",
        "mse_lr = MSE(y_test, y_pred_lr)\n",
        "\n",
        "# Compute rmse_lr\n",
        "rmse_lr = mse_lr**(1/2)\n",
        "\n",
        "# Print rmse_lr\n",
        "print('Linear Regression test set RMSE: {:.2f}'.format(rmse_lr))\n",
        "\n",
        "# Print rmse_dt\n",
        "print('Regression Tree test set RMSE: {:.2f}'.format(rmse_dt))"
      ],
      "metadata": {
        "id": "MCCFwiXxixxA"
      },
      "execution_count": null,
      "outputs": []
    },
    {
      "cell_type": "markdown",
      "source": [
        "# Instantiate the model\n",
        "In the following set of exercises, you'll diagnose the bias and variance problems of a regression tree. The regression tree you'll define in this exercise will be used to predict the mpg consumption of cars from the auto dataset using all available features.\n",
        "\n",
        "We have already processed the data and loaded the features matrix X and the array y in your workspace. In addition, the DecisionTreeRegressor class was imported from sklearn.tree.\n",
        "\n",
        "Instructions\n",
        "100 XP\n",
        "Import train_test_split from sklearn.model_selection.\n",
        "Split the data into 70% train and 30% test.\n",
        "Instantiate a DecisionTreeRegressor with max depth 4 and min_samples_leaf set to 0.26."
      ],
      "metadata": {
        "id": "3TVYlAjtJeFt"
      }
    },
    {
      "cell_type": "code",
      "source": [
        "# Import train_test_split from sklearn.model_selection\n",
        "from sklearn.model_selection import train_test_split\n",
        "\n",
        "# Set SEED for reproducibility\n",
        "SEED = 1\n",
        "\n",
        "# Split the data into 70% train and 30% test\n",
        "X_train, X_test, y_train, y_test = train_test_split(X, y, test_size=0.3, random_state=SEED)\n",
        "\n",
        "# Instantiate a DecisionTreeRegressor dt\n",
        "dt = DecisionTreeRegressor(max_depth=4, min_samples_leaf=0.26, random_state=SEED)"
      ],
      "metadata": {
        "id": "Ow-QXQFWJeg9"
      },
      "execution_count": null,
      "outputs": []
    },
    {
      "cell_type": "markdown",
      "source": [
        "# Evaluate the 10-fold CV error\n",
        "In this exercise, you'll evaluate the 10-fold CV Root Mean Squared Error (RMSE) achieved by the regression tree dt that you instantiated in the previous exercise.\n",
        "\n",
        "In addition to dt, the training data including X_train and y_train are available in your workspace. We also imported cross_val_score from sklearn.model_selection.\n",
        "\n",
        "Note that since cross_val_score has only the option of evaluating the negative MSEs, its output should be multiplied by negative one to obtain the MSEs. The CV RMSE can then be obtained by computing the square root of the average MSE.\n",
        "\n",
        "Instructions\n",
        "100 XP\n",
        "Compute dt's 10-fold cross-validated MSE by setting the scoring argument to 'neg_mean_squared_error'.\n",
        "\n",
        "Compute RMSE from the obtained MSE scores."
      ],
      "metadata": {
        "id": "KGjkFSNbkqO9"
      }
    },
    {
      "cell_type": "code",
      "source": [
        "# Compute the array containing the 10-folds CV MSEs\n",
        "MSE_CV_scores = - cross_val_score(dt, X_train, y_train, cv=10,\n",
        "                       scoring='neg_mean_squared_error',\n",
        "                       n_jobs=-1)\n",
        "\n",
        "# Compute the 10-folds CV RMSE\n",
        "RMSE_CV = (MSE_CV_scores.mean())**(1/2)\n",
        "\n",
        "# Print RMSE_CV\n",
        "print('CV RMSE: {:.2f}'.format(RMSE_CV))"
      ],
      "metadata": {
        "id": "0G1iFd4RkqmS"
      },
      "execution_count": null,
      "outputs": []
    },
    {
      "cell_type": "markdown",
      "source": [
        "# Evaluate the training error\n",
        "You'll now evaluate the training set RMSE achieved by the regression tree dt that you instantiated in a previous exercise.\n",
        "\n",
        "In addition to dt, X_train and y_train are available in your workspace.\n",
        "\n",
        "Note that in scikit-learn, the MSE of a model can be computed as follows:\n",
        "\n",
        "MSE_model = mean_squared_error(y_true, y_predicted)\n",
        "where we use the function mean_squared_error from the metrics module and pass it the true labels y_true as a first argument, and the predicted labels from the model y_predicted as a second argument.\n",
        "\n",
        "Instructions\n",
        "100 XP\n",
        "Import mean_squared_error as MSE from sklearn.metrics.\n",
        "Fit dt to the training set.\n",
        "Predict dt's training set labels and assign the result to y_pred_train.\n",
        "Evaluate dt's training set RMSE and assign it to RMSE_train."
      ],
      "metadata": {
        "id": "YDgUYBbAlovW"
      }
    },
    {
      "cell_type": "code",
      "source": [
        "# Import mean_squared_error from sklearn.metrics as MSE\n",
        "from sklearn.metrics import mean_squared_error as MSE\n",
        "\n",
        "# Fit dt to the training set\n",
        "dt.fit(X_train, y_train)\n",
        "\n",
        "# Predict the labels of the training set\n",
        "y_pred_train = dt.predict(X_train)\n",
        "\n",
        "# Evaluate the training set RMSE of dt\n",
        "RMSE_train = (MSE(y_train, y_pred_train))**(1/2)\n",
        "\n",
        "# Print RMSE_train\n",
        "print('Train RMSE: {:.2f}'.format(RMSE_train))"
      ],
      "metadata": {
        "id": "IWEo7xXWlo-v"
      },
      "execution_count": null,
      "outputs": []
    },
    {
      "cell_type": "markdown",
      "source": [
        "# Define the ensemble\n",
        "In the following set of exercises, you'll work with the Indian Liver Patient Dataset from the UCI Machine learning repository.\n",
        "\n",
        "In this exercise, you'll instantiate three classifiers to predict whether a patient suffers from a liver disease using all the features present in the dataset.\n",
        "\n",
        "The classes LogisticRegression, DecisionTreeClassifier, and KNeighborsClassifier under the alias KNN are available in your workspace.\n",
        "\n",
        "Instructions\n",
        "100 XP\n",
        "Instantiate a Logistic Regression classifier and assign it to lr.\n",
        "\n",
        "Instantiate a KNN classifier that considers 27 nearest neighbors and assign it to knn.\n",
        "\n",
        "Instantiate a Decision Tree Classifier with the parameter min_samples_leaf set to 0.13 and assign it to dt."
      ],
      "metadata": {
        "id": "_CFnLMwbz1oP"
      }
    },
    {
      "cell_type": "code",
      "source": [
        "# Set seed for reproducibility\n",
        "SEED=1\n",
        "\n",
        "# Instantiate lr\n",
        "lr = LogisticRegression(random_state=SEED)\n",
        "\n",
        "# Instantiate knn\n",
        "knn = KNN(n_neighbors=27)\n",
        "\n",
        "# Instantiate dt\n",
        "dt = DecisionTreeClassifier(min_samples_leaf=0.13, random_state=SEED)\n",
        "\n",
        "# Define the list classifiers\n",
        "classifiers = [('Logistic Regression', lr), ('K Nearest Neighbours', knn), ('Classification Tree', dt)]"
      ],
      "metadata": {
        "id": "3noKr9luz16y"
      },
      "execution_count": null,
      "outputs": []
    },
    {
      "cell_type": "markdown",
      "source": [
        "# Evaluate individual classifiers\n",
        "In this exercise you'll evaluate the performance of the models in the list classifiers that we defined in the previous exercise. You'll do so by fitting each classifier on the training set and evaluating its test set accuracy.\n",
        "\n",
        "The dataset is already loaded and preprocessed for you (numerical features are standardized) and it is split into 70% train and 30% test. The features matrices X_train and X_test, as well as the arrays of labels y_train and y_test are available in your workspace. In addition, we have loaded the list classifiers from the previous exercise, as well as the function accuracy_score() from sklearn.metrics.\n",
        "\n",
        "Instructions\n",
        "100 XP\n",
        "Iterate over the tuples in classifiers. Use clf_name and clf as the for loop variables:\n",
        "Fit clf to the training set.\n",
        "Predict clf's test set labels and assign the results to y_pred.\n",
        "Evaluate the test set accuracy of clf and print the result."
      ],
      "metadata": {
        "id": "rFdCc_bY0QfC"
      }
    },
    {
      "cell_type": "code",
      "source": [
        "# Iterate over the pre-defined list of classifiers\n",
        "for clf_name, clf in classifiers:\n",
        "\n",
        "    # Fit clf to the training set\n",
        "    clf.fit(X_train, y_train)\n",
        "\n",
        "    # Predict y_pred\n",
        "    y_pred = clf.predict(X_test)\n",
        "\n",
        "    # Calculate accuracy\n",
        "    accuracy = accuracy_score(y_test, y_pred)\n",
        "\n",
        "    # Evaluate clf's accuracy on the test set\n",
        "    print('{:s} : {:.3f}'.format(clf_name, accuracy))"
      ],
      "metadata": {
        "id": "GWNZKT8D0Qyu"
      },
      "execution_count": null,
      "outputs": []
    },
    {
      "cell_type": "markdown",
      "source": [
        "# Better performance with a Voting Classifier\n",
        "Finally, you'll evaluate the performance of a voting classifier that takes the outputs of the models defined in the list classifiers and assigns labels by majority voting.\n",
        "\n",
        "X_train, X_test,y_train, y_test, the list classifiers defined in a previous exercise, as well as the function accuracy_score from sklearn.metrics are available in your workspace.\n",
        "\n",
        "Instructions\n",
        "100 XP\n",
        "Import VotingClassifier from sklearn.ensemble.\n",
        "Instantiate a VotingClassifier by setting the parameter estimators to classifiers and assign it to vc.\n",
        "Fit vc to the training set.\n",
        "Evaluate vc's test set accuracy using the test set predictions y_pred."
      ],
      "metadata": {
        "id": "gzJfGRUDvtEE"
      }
    },
    {
      "cell_type": "code",
      "source": [
        "# Import VotingClassifier from sklearn.ensemble\n",
        "from sklearn.ensemble import VotingClassifier\n",
        "\n",
        "# Instantiate a VotingClassifier vc\n",
        "vc = VotingClassifier(estimators=classifiers)\n",
        "\n",
        "# Fit vc to the training set\n",
        "vc.fit(X_train, y_train)\n",
        "\n",
        "# Evaluate the test set predictions\n",
        "y_pred = vc.predict(X_test)\n",
        "\n",
        "# Calculate accuracy score\n",
        "accuracy = accuracy_score(y_test, y_pred)\n",
        "print('Voting Classifier: {:.3f}'.format(accuracy))"
      ],
      "metadata": {
        "id": "DRakCucPvtan"
      },
      "execution_count": null,
      "outputs": []
    },
    {
      "cell_type": "markdown",
      "source": [
        "# Define the bagging classifier\n",
        "In the following exercises you'll work with the Indian Liver Patient dataset from the UCI machine learning repository. Your task is to predict whether a patient suffers from a liver disease using 10 features including Albumin, age and gender. You'll do so using a Bagging Classifier.\n",
        "\n",
        "Instructions\n",
        "100 XP\n",
        "Import DecisionTreeClassifier from sklearn.tree and BaggingClassifier from sklearn.ensemble.\n",
        "\n",
        "Instantiate a DecisionTreeClassifier called dt.\n",
        "\n",
        "Instantiate a BaggingClassifier called bc consisting of 50 trees."
      ],
      "metadata": {
        "id": "u3TxQwFg2im3"
      }
    },
    {
      "cell_type": "code",
      "source": [
        "# Import DecisionTreeClassifier\n",
        "from sklearn.tree import DecisionTreeClassifier\n",
        "\n",
        "# Import BaggingClassifier\n",
        "from sklearn.ensemble import BaggingClassifier\n",
        "\n",
        "# Instantiate dt\n",
        "dt = DecisionTreeClassifier(random_state=1)\n",
        "\n",
        "# Instantiate bc\n",
        "bc = BaggingClassifier(base_estimator=dt, n_estimators=50, random_state=1)"
      ],
      "metadata": {
        "id": "Vr9vAQZF2i8B"
      },
      "execution_count": null,
      "outputs": []
    },
    {
      "cell_type": "markdown",
      "source": [
        "# Evaluate Bagging performance\n",
        "Now that you instantiated the bagging classifier, it's time to train it and evaluate its test set accuracy.\n",
        "\n",
        "The Indian Liver Patient dataset is processed for you and split into 80% train and 20% test. The feature matrices X_train and X_test, as well as the arrays of labels y_train and y_test are available in your workspace. In addition, we have also loaded the bagging classifier bc that you instantiated in the previous exercise and the function accuracy_score() from sklearn.metrics.\n",
        "\n",
        "Instructions\n",
        "100 XP\n",
        "Fit bc to the training set.\n",
        "\n",
        "Predict the test set labels and assign the result to y_pred.\n",
        "\n",
        "Determine bc's test set accuracy."
      ],
      "metadata": {
        "id": "iYDS5352t8ah"
      }
    },
    {
      "cell_type": "code",
      "source": [
        "# Fit bc to the training set\n",
        "bc.fit(X_train, y_train)\n",
        "\n",
        "# Predict test set labels\n",
        "y_pred = bc.predict(X_test)\n",
        "\n",
        "# Evaluate acc_test\n",
        "acc_test = accuracy_score(y_test, y_pred)\n",
        "print('Test set accuracy of bc: {:.2f}'.format(acc_test))"
      ],
      "metadata": {
        "id": "YuLwshxst9Md"
      },
      "execution_count": null,
      "outputs": []
    },
    {
      "cell_type": "markdown",
      "source": [
        "# Prepare the ground\n",
        "In the following exercises, you'll compare the OOB accuracy to the test set accuracy of a bagging classifier trained on the Indian Liver Patient dataset.\n",
        "\n",
        "In sklearn, you can evaluate the OOB accuracy of an ensemble classifier by setting the parameter oob_score to True during instantiation. After training the classifier, the OOB accuracy can be obtained by accessing the .oob_score_ attribute from the corresponding instance.\n",
        "\n",
        "In your environment, we have made available the class DecisionTreeClassifier from sklearn.tree.\n",
        "\n",
        "Instructions\n",
        "100 XP\n",
        "Import BaggingClassifier from sklearn.ensemble.\n",
        "\n",
        "Instantiate a DecisionTreeClassifier with min_samples_leaf set to 8.\n",
        "\n",
        "Instantiate a BaggingClassifier consisting of 50 trees and set oob_score to True."
      ],
      "metadata": {
        "id": "cUjIcJj233Jr"
      }
    },
    {
      "cell_type": "code",
      "source": [
        "# Import DecisionTreeClassifier\n",
        "from sklearn.tree import DecisionTreeClassifier\n",
        "\n",
        "# Import BaggingClassifier\n",
        "from sklearn.ensemble import BaggingClassifier\n",
        "\n",
        "# Instantiate dt\n",
        "dt = DecisionTreeClassifier(min_samples_leaf=8, random_state=1)\n",
        "\n",
        "# Instantiate bc\n",
        "bc = BaggingClassifier(base_estimator=dt,\n",
        "            n_estimators=50,\n",
        "            oob_score=True,\n",
        "            random_state=1)"
      ],
      "metadata": {
        "id": "4731d2U533aP"
      },
      "execution_count": null,
      "outputs": []
    },
    {
      "cell_type": "markdown",
      "source": [
        "# OOB Score vs Test Set Score\n",
        "Now that you instantiated bc, you will fit it to the training set and evaluate its test set and OOB accuracies.\n",
        "\n",
        "The dataset is processed for you and split into 80% train and 20% test. The feature matrices X_train and X_test, as well as the arrays of labels y_train and y_test are available in your workspace. In addition, we have also loaded the classifier bc instantiated in the previous exercise and the function accuracy_score() from sklearn.metrics.\n",
        "\n",
        "Instructions\n",
        "100 XP\n",
        "Fit bc to the training set and predict the test set labels and assign the results to y_pred.\n",
        "\n",
        "Evaluate the test set accuracy acc_test by calling accuracy_score.\n",
        "\n",
        "Evaluate bc's OOB accuracy acc_oob by extracting the attribute oob_score_ from bc."
      ],
      "metadata": {
        "id": "rOnjts0Roaew"
      }
    },
    {
      "cell_type": "code",
      "source": [
        "# Fit bc to the training set\n",
        "bc.fit(X_train, y_train)\n",
        "\n",
        "# Predict test set labels\n",
        "y_pred = bc.predict(X_test)\n",
        "\n",
        "# Evaluate test set accuracy\n",
        "acc_test = accuracy_score(y_pred, y_test)\n",
        "\n",
        "# Evaluate OOB accuracy\n",
        "acc_oob = bc.oob_score_\n",
        "\n",
        "# Print acc_test and acc_oob\n",
        "print('Test set accuracy: {:.3f}, OOB accuracy: {:.3f}'.format(acc_test, acc_oob))"
      ],
      "metadata": {
        "id": "74ThlwYroa0J"
      },
      "execution_count": null,
      "outputs": []
    },
    {
      "cell_type": "markdown",
      "source": [
        "# Train an RF regressor\n",
        "In the following exercises you'll predict bike rental demand in the Capital Bikeshare program in Washington, D.C using historical weather data from the Bike Sharing Demand dataset available through Kaggle. For this purpose, you will be using the random forests algorithm. As a first step, you'll define a random forests regressor and fit it to the training set.\n",
        "\n",
        "The dataset is processed for you and split into 80% train and 20% test. The features matrix X_train and the array y_train are available in your workspace.\n",
        "\n",
        "Instructions\n",
        "100 XP\n",
        "Import RandomForestRegressor from sklearn.ensemble.\n",
        "\n",
        "Instantiate a RandomForestRegressor called rf consisting of 25 trees.\n",
        "\n",
        "Fit rf to the training set."
      ],
      "metadata": {
        "id": "UGiVFmNUy7yH"
      }
    },
    {
      "cell_type": "code",
      "source": [
        "# Import RandomForestRegressor\n",
        "from sklearn.ensemble import RandomForestRegressor\n",
        "\n",
        "# Instantiate rf\n",
        "rf = RandomForestRegressor(n_estimators=25,\n",
        "            random_state=2)\n",
        "\n",
        "# Fit rf to the training set\n",
        "rf.fit(X_train, y_train)"
      ],
      "metadata": {
        "id": "PvM98UoRy8MG"
      },
      "execution_count": null,
      "outputs": []
    },
    {
      "cell_type": "markdown",
      "source": [
        "# Evaluate the RF regressor\n",
        "You'll now evaluate the test set RMSE of the random forests regressor rf that you trained in the previous exercise.\n",
        "\n",
        "The dataset is processed for you and split into 80% train and 20% test. The features matrix X_test, as well as the array y_test are available in your workspace. In addition, we have also loaded the model rf that you trained in the previous exercise.\n",
        "\n",
        "Instructions\n",
        "100 XP\n",
        "Import mean_squared_error from sklearn.metrics as MSE.\n",
        "Predict the test set labels and assign the result to y_pred.\n",
        "Compute the test set RMSE and assign it to rmse_test."
      ],
      "metadata": {
        "id": "AoYzMTTpcBkD"
      }
    },
    {
      "cell_type": "code",
      "source": [
        "# Import mean_squared_error as MSE\n",
        "from sklearn.metrics import mean_squared_error as MSE\n",
        "\n",
        "# Predict the test set labels\n",
        "y_pred = rf.predict(X_test)\n",
        "\n",
        "# Evaluate the test set RMSE\n",
        "rmse_test = MSE(y_test, y_pred)**(1/2)\n",
        "\n",
        "# Print rmse_test\n",
        "print('Test set RMSE of rf: {:.2f}'.format(rmse_test))"
      ],
      "metadata": {
        "id": "kUdTvTfPcC0Y"
      },
      "execution_count": null,
      "outputs": []
    },
    {
      "cell_type": "markdown",
      "source": [
        "# Visualizing features importances\n",
        "In this exercise, you'll determine which features were the most predictive according to the random forests regressor rf that you trained in a previous exercise.\n",
        "\n",
        "For this purpose, you'll draw a horizontal barplot of the feature importance as assessed by rf. Fortunately, this can be done easily thanks to plotting capabilities of pandas.\n",
        "\n",
        "We have created a pandas.Series object called importances containing the feature names as index and their importances as values. In addition, matplotlib.pyplot is available as plt and pandas as pd.\n",
        "\n",
        "Instructions\n",
        "100 XP\n",
        "Call the .sort_values() method on importances and assign the result to importances_sorted.\n",
        "\n",
        "Call the .plot() method on importances_sorted and set the arguments:\n",
        "\n",
        "kind to 'barh'\n",
        "color to 'lightgreen'"
      ],
      "metadata": {
        "id": "jsG-sj9ncp6n"
      }
    },
    {
      "cell_type": "code",
      "source": [
        "# Create a pd.Series of features importances\n",
        "importances = pd.Series(data=rf.feature_importances_,\n",
        "                        index= X_train.columns)\n",
        "\n",
        "# Sort importances\n",
        "importances_sorted = importances.sort_values()\n",
        "\n",
        "# Draw a horizontal barplot of importances_sorted\n",
        "importances_sorted.plot(kind='barh', color='lightgreen')\n",
        "plt.title('Features Importances')\n",
        "plt.show()"
      ],
      "metadata": {
        "id": "2zBr5FAqcqL3"
      },
      "execution_count": null,
      "outputs": []
    },
    {
      "cell_type": "markdown",
      "source": [
        "# Define the AdaBoost classifier\n",
        "In the following exercises you'll revisit the Indian Liver Patient dataset which was introduced in a previous chapter. Your task is to predict whether a patient suffers from a liver disease using 10 features including Albumin, age and gender. However, this time, you'll be training an AdaBoost ensemble to perform the classification task. In addition, given that this dataset is imbalanced, you'll be using the ROC AUC score as a metric instead of accuracy.\n",
        "\n",
        "As a first step, you'll start by instantiating an AdaBoost classifier.\n",
        "\n",
        "Instructions\n",
        "100 XP\n",
        "Import AdaBoostClassifier from sklearn.ensemble.\n",
        "\n",
        "Instantiate a DecisionTreeClassifier with max_depth set to 2.\n",
        "\n",
        "Instantiate an AdaBoostClassifier consisting of 180 trees and setting the base_estimator to dt."
      ],
      "metadata": {
        "id": "4lxk1_7uHyij"
      }
    },
    {
      "cell_type": "code",
      "source": [
        "# Import DecisionTreeClassifier\n",
        "from sklearn.tree import DecisionTreeClassifier\n",
        "\n",
        "# Import AdaBoostClassifier\n",
        "from sklearn.ensemble import AdaBoostClassifier\n",
        "\n",
        "# Instantiate dt\n",
        "dt = DecisionTreeClassifier(max_depth=2, random_state=1)\n",
        "\n",
        "# Instantiate ada\n",
        "ada = AdaBoostClassifier(base_estimator=dt, n_estimators=180, random_state=1)"
      ],
      "metadata": {
        "id": "TxvYzmAlHy6a"
      },
      "execution_count": null,
      "outputs": []
    },
    {
      "cell_type": "markdown",
      "source": [
        "# Train the AdaBoost classifier\n",
        "Now that you've instantiated the AdaBoost classifier ada, it's time train it. You will also predict the probabilities of obtaining the positive class in the test set. This can be done as follows:\n",
        "\n",
        "Once the classifier ada is trained, call the .predict_proba() method by passing X_test as a parameter and extract these probabilities by slicing all the values in the second column as follows:\n",
        "```\n",
        "ada.predict_proba(X_test)[:,1]\n",
        "```\n",
        "The Indian Liver dataset is processed for you and split into 80% train and 20% test. Feature matrices X_train and X_test, as well as the arrays of labels y_train and y_test are available in your workspace. In addition, we have also loaded the instantiated model ada from the previous exercise.\n",
        "\n",
        "Instructions\n",
        "100 XP\n",
        "Fit ada to the training set.\n",
        "\n",
        "Evaluate the probabilities of obtaining the positive class in the test set."
      ],
      "metadata": {
        "id": "zi_oR5ziIHqa"
      }
    },
    {
      "cell_type": "code",
      "source": [
        "# Fit ada to the training set\n",
        "ada.fit(X_train, y_train)\n",
        "\n",
        "# Compute the probabilities of obtaining the positive class\n",
        "y_pred_proba = ada.predict_proba(X_test)[:, 1]"
      ],
      "metadata": {
        "id": "dlNtvDccIH-t"
      },
      "execution_count": null,
      "outputs": []
    },
    {
      "cell_type": "markdown",
      "source": [
        "# Evaluate the AdaBoost classifier\n",
        "Now that you're done training ada and predicting the probabilities of obtaining the positive class in the test set, it's time to evaluate ada's ROC AUC score. Recall that the ROC AUC score of a binary classifier can be determined using the roc_auc_score() function from sklearn.metrics.\n",
        "\n",
        "The arrays y_test and y_pred_proba that you computed in the previous exercise are available in your workspace.\n",
        "\n",
        "Instructions\n",
        "100 XP\n",
        "Import roc_auc_score from sklearn.metrics.\n",
        "\n",
        "Compute ada's test set ROC AUC score, assign it to ada_roc_auc, and print it out."
      ],
      "metadata": {
        "id": "qvOirbP0Ij9v"
      }
    },
    {
      "cell_type": "code",
      "source": [
        "# Import roc_auc_score\n",
        "from sklearn.metrics import roc_auc_score\n",
        "\n",
        "# Evaluate test-set roc_auc_score\n",
        "ada_roc_auc = roc_auc_score(y_test, y_pred_proba)\n",
        "\n",
        "# Print roc_auc_score\n",
        "print('ROC AUC score: {:.2f}'.format(ada_roc_auc))"
      ],
      "metadata": {
        "id": "U26Ir1jRIkQw"
      },
      "execution_count": null,
      "outputs": []
    },
    {
      "cell_type": "markdown",
      "source": [
        "# Define the GB regressor\n",
        "You'll now revisit the Bike Sharing Demand dataset that was introduced in the previous chapter. Recall that your task is to predict the bike rental demand using historical weather data from the Capital Bikeshare program in Washington, D.C.. For this purpose, you'll be using a gradient boosting regressor.\n",
        "\n",
        "As a first step, you'll start by instantiating a gradient boosting regressor which you will train in the next exercise.\n",
        "\n",
        "Instructions\n",
        "100 XP\n",
        "Import GradientBoostingRegressor from sklearn.ensemble.\n",
        "\n",
        "Instantiate a gradient boosting regressor by setting the parameters:\n",
        "\n",
        "max_depth to 4\n",
        "\n",
        "n_estimators to 200"
      ],
      "metadata": {
        "id": "g7U5oJ0dqJGC"
      }
    },
    {
      "cell_type": "code",
      "source": [
        "# Import GradientBoostingRegressor\n",
        "from sklearn.ensemble import GradientBoostingRegressor\n",
        "\n",
        "# Instantiate gb\n",
        "gb = GradientBoostingRegressor(max_depth=4,\n",
        "            n_estimators=200,\n",
        "            random_state=2)"
      ],
      "metadata": {
        "id": "JzVSFb58qJUi"
      },
      "execution_count": null,
      "outputs": []
    },
    {
      "cell_type": "markdown",
      "source": [
        "# Train the GB regressor\n",
        "You'll now train the gradient boosting regressor gb that you instantiated in the previous exercise and predict test set labels.\n",
        "\n",
        "The dataset is split into 80% train and 20% test. Feature matrices X_train and X_test, as well as the arrays y_train and y_test are available in your workspace. In addition, we have also loaded the model instance gb that you defined in the previous exercise.\n",
        "\n",
        "Instructions\n",
        "100 XP\n",
        "Fit gb to the training set.\n",
        "Predict the test set labels and assign the result to y_pred."
      ],
      "metadata": {
        "id": "BWHwojb1qt9I"
      }
    },
    {
      "cell_type": "code",
      "source": [
        "# Fit gb to the training set\n",
        "gb.fit(X_train, y_train)\n",
        "\n",
        "# Predict test set labels\n",
        "y_pred = gb.predict(X_test)"
      ],
      "metadata": {
        "id": "Alja1R6hquOX"
      },
      "execution_count": null,
      "outputs": []
    },
    {
      "cell_type": "markdown",
      "source": [
        "# Evaluate the GB regressor\n",
        "Now that the test set predictions are available, you can use them to evaluate the test set Root Mean Squared Error (RMSE) of gb.\n",
        "\n",
        "y_test and predictions y_pred are available in your workspace.\n",
        "\n",
        "Instructions\n",
        "100 XP\n",
        "Import mean_squared_error from sklearn.metrics as MSE.\n",
        "\n",
        "Compute the test set MSE and assign it to mse_test.\n",
        "\n",
        "Compute the test set RMSE and assign it to rmse_test."
      ],
      "metadata": {
        "id": "3_rDgaRZCM-W"
      }
    },
    {
      "cell_type": "code",
      "source": [
        "# Import mean_squared_error as MSE\n",
        "from sklearn.metrics import mean_squared_error as MSE\n",
        "\n",
        "# Compute MSE\n",
        "mse_test = MSE(y_test, y_pred)\n",
        "\n",
        "# Compute RMSE\n",
        "rmse_test = mse_test**(1/2)\n",
        "\n",
        "# Print RMSE\n",
        "print('Test set RMSE of gb: {:.3f}'.format(rmse_test))"
      ],
      "metadata": {
        "id": "1ySOLdvHCNRm"
      },
      "execution_count": null,
      "outputs": []
    },
    {
      "cell_type": "markdown",
      "source": [
        "# Regression with SGB\n",
        "As in the exercises from the previous lesson, you'll be working with the Bike Sharing Demand dataset. In the following set of exercises, you'll solve this bike count regression problem using stochastic gradient boosting.\n",
        "\n",
        "Instructions\n",
        "100 XP\n",
        "Instantiate a Stochastic Gradient Boosting Regressor (SGBR) and set:\n",
        "\n",
        "max_depth to 4 and n_estimators to 200,\n",
        "\n",
        "subsample to 0.9, and\n",
        "\n",
        "max_features to 0.75."
      ],
      "metadata": {
        "id": "V07Yo4d7Jext"
      }
    },
    {
      "cell_type": "code",
      "source": [
        "# Import GradientBoostingRegressor\n",
        "from sklearn.ensemble import GradientBoostingRegressor\n",
        "\n",
        "# Instantiate sgbr\n",
        "sgbr = GradientBoostingRegressor(max_depth=4,\n",
        "            subsample=0.9,\n",
        "            max_features=0.75,\n",
        "            n_estimators=200,\n",
        "            random_state=2)"
      ],
      "metadata": {
        "id": "JhEN_3MlJfCg"
      },
      "execution_count": null,
      "outputs": []
    },
    {
      "cell_type": "markdown",
      "source": [
        "# Train the SGB regressor\n",
        "In this exercise, you'll train the SGBR sgbr instantiated in the previous exercise and predict the test set labels.\n",
        "\n",
        "The bike sharing demand dataset is already loaded processed for you; it is split into 80% train and 20% test. The feature matrices X_train and X_test, the arrays of labels y_train and y_test, and the model instance sgbr that you defined in the previous exercise are available in your workspace.\n",
        "\n",
        "Instructions\n",
        "100 XP\n",
        "Fit sgbr to the training set.\n",
        "Predict the test set labels and assign the results to y_pred."
      ],
      "metadata": {
        "id": "pjcNVEc8JCtG"
      }
    },
    {
      "cell_type": "code",
      "source": [
        "# Fit sgbr to the training set\n",
        "sgbr.fit(X_train, y_train)\n",
        "\n",
        "# Predict test set labels\n",
        "y_pred = sgbr.predict(X_test)"
      ],
      "metadata": {
        "id": "KpgDt7_qJDHV"
      },
      "execution_count": null,
      "outputs": []
    }
  ]
}