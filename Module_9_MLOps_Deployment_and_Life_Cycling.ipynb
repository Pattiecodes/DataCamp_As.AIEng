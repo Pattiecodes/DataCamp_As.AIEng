{
  "nbformat": 4,
  "nbformat_minor": 0,
  "metadata": {
    "colab": {
      "provenance": [],
      "authorship_tag": "ABX9TyN/mfdPfd0/RkVCY+8xSmVq",
      "include_colab_link": true
    },
    "kernelspec": {
      "name": "python3",
      "display_name": "Python 3"
    },
    "language_info": {
      "name": "python"
    }
  },
  "cells": [
    {
      "cell_type": "markdown",
      "metadata": {
        "id": "view-in-github",
        "colab_type": "text"
      },
      "source": [
        "<a href=\"https://colab.research.google.com/github/Pattiecodes/DataCamp_As.AIEng/blob/main/Module_9_MLOps_Deployment_and_Life_Cycling.ipynb\" target=\"_parent\"><img src=\"https://colab.research.google.com/assets/colab-badge.svg\" alt=\"Open In Colab\"/></a>"
      ]
    },
    {
      "cell_type": "markdown",
      "source": [
        "# Module 9 starts here"
      ],
      "metadata": {
        "id": "Crs3wyIk1dla"
      }
    },
    {
      "cell_type": "code",
      "source": [
        "# Module 9 is a lecture-only module"
      ],
      "metadata": {
        "id": "AfsxC50V1gBz"
      },
      "execution_count": 1,
      "outputs": []
    }
  ]
}