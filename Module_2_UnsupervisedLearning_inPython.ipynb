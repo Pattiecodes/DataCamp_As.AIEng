{
  "nbformat": 4,
  "nbformat_minor": 0,
  "metadata": {
    "colab": {
      "provenance": [],
      "authorship_tag": "ABX9TyMn5U/xK8dlthj3hYjxcQuK",
      "include_colab_link": true
    },
    "kernelspec": {
      "name": "python3",
      "display_name": "Python 3"
    },
    "language_info": {
      "name": "python"
    }
  },
  "cells": [
    {
      "cell_type": "markdown",
      "metadata": {
        "id": "view-in-github",
        "colab_type": "text"
      },
      "source": [
        "<a href=\"https://colab.research.google.com/github/Pattiecodes/DataCamp_As.AIEng/blob/main/Module_2_UnsupervisedLearning_inPython.ipynb\" target=\"_parent\"><img src=\"https://colab.research.google.com/assets/colab-badge.svg\" alt=\"Open In Colab\"/></a>"
      ]
    },
    {
      "cell_type": "markdown",
      "source": [
        "# Unsupervised Learning in Python. Part II of the Associate AI Engineer for Data Scientists Career Track"
      ],
      "metadata": {
        "id": "XLXEiZfpZdPa"
      }
    },
    {
      "cell_type": "markdown",
      "source": [
        "# Clustering 2D points\n",
        "\n",
        "From the scatter plot of the previous exercise, you saw that the points seem to separate into 3 clusters. You'll now create a KMeans model to find 3 clusters, and fit it to the data points from the previous exercise. After the model has been fit, you'll obtain the cluster labels for some new points using the .predict() method.\n",
        "\n",
        "You are given the array points from the previous exercise, and also an array new_points.\n",
        "\n",
        "Instructions\n",
        "100 XP\n",
        "Import KMeans from sklearn.cluster.\n",
        "Using KMeans(), create a KMeans instance called model to find 3 clusters. To specify the number of clusters, use the n_clusters keyword argument.\n",
        "Use the .fit() method of model to fit the model to the array of points points.\n",
        "Use the .predict() method of model to predict the cluster labels of new_points, assigning the result to labels.\n",
        "Hit submit to see the cluster labels of new_points."
      ],
      "metadata": {
        "id": "Ng3x9lfVZtHS"
      }
    },
    {
      "cell_type": "code",
      "source": [
        "# Import KMeans\n",
        "from sklearn.cluster import KMeans\n",
        "\n",
        "# Create a KMeans instance with 3 clusters: model\n",
        "model = KMeans(n_clusters=3)\n",
        "\n",
        "# Fit model to points\n",
        "model.fit(points)\n",
        "\n",
        "# Determine the cluster labels of new_points: labels\n",
        "labels = model.predict(new_points)\n",
        "\n",
        "# Print cluster labels of new_points\n",
        "print(labels)\n"
      ],
      "metadata": {
        "id": "SyIE1IIjS8H2"
      },
      "execution_count": null,
      "outputs": []
    }
  ]
}