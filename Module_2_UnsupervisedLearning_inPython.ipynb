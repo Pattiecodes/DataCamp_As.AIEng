{
  "nbformat": 4,
  "nbformat_minor": 0,
  "metadata": {
    "colab": {
      "provenance": [],
      "authorship_tag": "ABX9TyMQ8J2yNA6GtQLuLkoFpJl2",
      "include_colab_link": true
    },
    "kernelspec": {
      "name": "python3",
      "display_name": "Python 3"
    },
    "language_info": {
      "name": "python"
    }
  },
  "cells": [
    {
      "cell_type": "markdown",
      "metadata": {
        "id": "view-in-github",
        "colab_type": "text"
      },
      "source": [
        "<a href=\"https://colab.research.google.com/github/Pattiecodes/DataCamp_As.AIEng/blob/main/Module_2_UnsupervisedLearning_inPython.ipynb\" target=\"_parent\"><img src=\"https://colab.research.google.com/assets/colab-badge.svg\" alt=\"Open In Colab\"/></a>"
      ]
    },
    {
      "cell_type": "markdown",
      "source": [
        "# Unsupervised Learning in Python. Part II of the Associate AI Engineer for Data Scientists Career Track"
      ],
      "metadata": {
        "id": "XLXEiZfpZdPa"
      }
    },
    {
      "cell_type": "markdown",
      "source": [
        "# Clustering 2D points\n",
        "\n",
        "From the scatter plot of the previous exercise, you saw that the points seem to separate into 3 clusters. You'll now create a KMeans model to find 3 clusters, and fit it to the data points from the previous exercise. After the model has been fit, you'll obtain the cluster labels for some new points using the .predict() method.\n",
        "\n",
        "You are given the array points from the previous exercise, and also an array new_points.\n",
        "\n",
        "Instructions\n",
        "100 XP\n",
        "Import KMeans from sklearn.cluster.\n",
        "Using KMeans(), create a KMeans instance called model to find 3 clusters. To specify the number of clusters, use the n_clusters keyword argument.\n",
        "Use the .fit() method of model to fit the model to the array of points points.\n",
        "Use the .predict() method of model to predict the cluster labels of new_points, assigning the result to labels.\n",
        "Hit submit to see the cluster labels of new_points."
      ],
      "metadata": {
        "id": "Ng3x9lfVZtHS"
      }
    },
    {
      "cell_type": "code",
      "source": [
        "# Import KMeans\n",
        "from sklearn.cluster import KMeans\n",
        "\n",
        "# Create a KMeans instance with 3 clusters: model\n",
        "model = KMeans(n_clusters=3)\n",
        "\n",
        "# Fit model to points\n",
        "model.fit(points)\n",
        "\n",
        "# Determine the cluster labels of new_points: labels\n",
        "labels = model.predict(new_points)\n",
        "\n",
        "# Print cluster labels of new_points\n",
        "print(labels)\n"
      ],
      "metadata": {
        "id": "SyIE1IIjS8H2"
      },
      "execution_count": null,
      "outputs": []
    },
    {
      "cell_type": "markdown",
      "source": [
        "# Inspect your clustering\n",
        "Let's now inspect the clustering you performed in the previous exercise!\n",
        "\n",
        "A solution to the previous exercise has already run, so new_points is an array of points and labels is the array of their cluster labels.\n",
        "\n",
        "Instructions\n",
        "100 XP\n",
        "Import matplotlib.pyplot as plt.\n",
        "Assign column 0 of new_points to xs, and column 1 of new_points to ys.\n",
        "Make a scatter plot of xs and ys, specifying the c=labels keyword arguments to color the points by their cluster label. Also specify alpha=0.5.\n",
        "Compute the coordinates of the centroids using the .cluster_centers_ attribute of model.\n",
        "Assign column 0 of centroids to centroids_x, and column 1 of centroids to centroids_y.\n",
        "Make a scatter plot of centroids_x and centroids_y, using 'D' (a diamond) as a marker by specifying the marker parameter. Set the size of the markers to be 50 using s=50."
      ],
      "metadata": {
        "id": "6g79Q1f4UoOO"
      }
    },
    {
      "cell_type": "code",
      "source": [
        "# Import pyplot\n",
        "import matplotlib.pyplot as plt\n",
        "\n",
        "# Assign the columns of new_points: xs and ys\n",
        "xs = new_points[:,0]\n",
        "ys = new_points[:,1]\n",
        "\n",
        "# Make a scatter plot of xs and ys, using labels to define the colors\n",
        "plt.scatter(xs, ys, c=labels, alpha=0.5)\n",
        "\n",
        "# Assign the cluster centers: centroids\n",
        "centroids = model.cluster_centers_\n",
        "\n",
        "# Assign the columns of centroids: centroids_x, centroids_y\n",
        "centroids_x = centroids[:,0]\n",
        "centroids_y = centroids[:,1]\n",
        "\n",
        "# Make a scatter plot of centroids_x and centroids_y\n",
        "plt.scatter(centroids_x, centroids_y, marker='D', s=50)\n",
        "plt.show()\n"
      ],
      "metadata": {
        "id": "tsY5hLxTUqOF"
      },
      "execution_count": null,
      "outputs": []
    },
    {
      "cell_type": "markdown",
      "source": [
        "# How many clusters of grain?\n",
        "\n",
        "In the video, you learned how to choose a good number of clusters for a dataset using the k-means inertia graph. You are given an array samples containing the measurements (such as area, perimeter, length, and several others) of samples of grain. What's a good number of clusters in this case?\n",
        "\n",
        "KMeans and PyPlot (plt) have already been imported for you.\n",
        "\n",
        "This dataset was sourced from the UCI Machine Learning Repository (https://archive.ics.uci.edu/dataset/236/seeds).\n",
        "\n",
        "Instructions\n",
        "100 XP\n",
        "For each of the given values of k, perform the following steps:\n",
        "Create a KMeans instance called model with k clusters.\n",
        "Fit the model to the grain data samples.\n",
        "Append the value of the inertia_ attribute of model to the list inertias.\n",
        "The code to plot ks vs inertias has been written for you, so hit submit to see the plot!"
      ],
      "metadata": {
        "id": "S8WTy_-G9cAo"
      }
    },
    {
      "cell_type": "code",
      "source": [
        "ks = range(1, 6)\n",
        "inertias = []\n",
        "\n",
        "for k in ks:\n",
        "    # Create a KMeans instance with k clusters: model\n",
        "    model = KMeans(n_clusters=k)\n",
        "\n",
        "    # Fit model to samples\n",
        "    model.fit(samples)\n",
        "\n",
        "    # Append the inertia to the list of inertias\n",
        "    inertias.append(model.inertia_)\n",
        "\n",
        "# Plot ks vs inertias\n",
        "plt.plot(ks, inertias, '-o')\n",
        "plt.xlabel('number of clusters, k')\n",
        "plt.ylabel('inertia')\n",
        "plt.xticks(ks)\n",
        "plt.show()\n"
      ],
      "metadata": {
        "id": "bTs9MR6h9hOq"
      },
      "execution_count": null,
      "outputs": []
    },
    {
      "cell_type": "markdown",
      "source": [
        "# Evaluating the grain clustering\n",
        "\n",
        "In the previous exercise, you observed from the inertia plot that 3 is a good number of clusters for the grain data. In fact, the grain samples come from a mix of 3 different grain varieties: \"Kama\", \"Rosa\" and \"Canadian\". In this exercise, cluster the grain samples into three clusters, and compare the clusters to the grain varieties using a cross-tabulation.\n",
        "\n",
        "You have the array samples of grain samples, and a list varieties giving the grain variety for each sample. Pandas (pd) and KMeans have already been imported for you.\n",
        "\n",
        "Instructions\n",
        "100 XP\n",
        "Create a KMeans model called model with 3 clusters.\n",
        "Use the .fit_predict() method of model to fit it to samples and derive the cluster labels. Using .fit_predict() is the same as using .fit() followed by .predict().\n",
        "Create a DataFrame df with two columns named 'labels' and 'varieties', using labels and varieties, respectively, for the column values. This has been done for you.\n",
        "Use the pd.crosstab() function on df['labels'] and df['varieties'] to count the number of times each grain variety coincides with each cluster label. Assign the result to ct.\n",
        "Hit submit to see the cross-tabulation!"
      ],
      "metadata": {
        "id": "Rq8q_l7T-fwG"
      }
    },
    {
      "cell_type": "code",
      "source": [
        "# Create a KMeans model with 3 clusters: model\n",
        "model = KMeans(n_clusters=3)\n",
        "\n",
        "# Use fit_predict to fit model and obtain cluster labels: labels\n",
        "labels = model.fit_predict(samples)\n",
        "\n",
        "# Create a DataFrame with labels and varieties as columns: df\n",
        "df = pd.DataFrame({'labels': labels, 'varieties': varieties})\n",
        "\n",
        "# Create crosstab: ct\n",
        "ct = pd.crosstab(df['labels'], df['varieties'])\n",
        "\n",
        "# Display ct\n",
        "print(ct)\n"
      ],
      "metadata": {
        "id": "Z1W5fjz3-iGd"
      },
      "execution_count": null,
      "outputs": []
    }
  ]
}