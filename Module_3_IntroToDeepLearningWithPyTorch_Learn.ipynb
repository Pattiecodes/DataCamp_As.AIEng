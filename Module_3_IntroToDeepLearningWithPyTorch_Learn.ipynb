{
  "nbformat": 4,
  "nbformat_minor": 0,
  "metadata": {
    "colab": {
      "provenance": [],
      "authorship_tag": "ABX9TyN/g8G1948VIrFnLnAO/JeV",
      "include_colab_link": true
    },
    "kernelspec": {
      "name": "python3",
      "display_name": "Python 3"
    },
    "language_info": {
      "name": "python"
    }
  },
  "cells": [
    {
      "cell_type": "markdown",
      "metadata": {
        "id": "view-in-github",
        "colab_type": "text"
      },
      "source": [
        "<a href=\"https://colab.research.google.com/github/Pattiecodes/DataCamp_As.AIEng/blob/main/Module_3_IntroToDeepLearningWithPyTorch_Learn.ipynb\" target=\"_parent\"><img src=\"https://colab.research.google.com/assets/colab-badge.svg\" alt=\"Open In Colab\"/></a>"
      ]
    },
    {
      "cell_type": "markdown",
      "source": [
        "This notebook is for Module 3 of the \"AI for Data Scientists\" Track from DataCamp"
      ],
      "metadata": {
        "id": "h36CQ4Ez9rPe"
      }
    },
    {
      "cell_type": "markdown",
      "source": [
        "# Getting started with PyTorch tensors\n",
        "Tensors are the primary data structure in PyTorch and will be the building blocks for our deep learning models. They share many similarities with NumPy arrays but have some unique attributes too.\n",
        "\n",
        "In this exercise, you'll practice creating a tensor from a Python list of temperature data from two weather stations. The Python list is named temperatures and has two sublists whose elements represent a different day each, with columns for readings from two stations.\n",
        "\n",
        "Instructions\n",
        "100 XP\n",
        "Begin by importing PyTorch.\n",
        "Create a tensor from the Python list temperatures."
      ],
      "metadata": {
        "id": "_j7JCqDVcpo3"
      }
    },
    {
      "cell_type": "code",
      "source": [
        "# Import PyTorch\n",
        "import torch\n",
        "\n",
        "temperatures = [[72, 75, 78], [70, 73, 76]]\n",
        "\n",
        "# Create a tensor from temperatures\n",
        "temp_tensor = torch.tensor(temperatures)"
      ],
      "metadata": {
        "id": "XDalQSW1cscc"
      },
      "execution_count": null,
      "outputs": []
    },
    {
      "cell_type": "markdown",
      "source": [
        "# Checking and adding tensors\n",
        "While continuing your temperature data collection, you realize that the recorded temperatures are off by 2 degrees, so you need to add 2 degrees to the tensor of temperatures. Before adjusting the data, you want to verify the shape and type of the tensor, to make sure they are compatible to be added together. The torch library has been pre-imported.\n",
        "\n",
        "Instructions\n",
        "100 XP\n",
        "Check the shape of the temperatures tensor.\n",
        "Check the type of the temperatures tensor.\n",
        "Add the temperatures and adjustment tensors."
      ],
      "metadata": {
        "id": "6U9gpBLUdllS"
      }
    },
    {
      "cell_type": "code",
      "source": [
        "temperatures = torch.tensor([[72, 75, 78], [70, 73, 76]])\n",
        "adjustment = torch.tensor([[2, 2, 2], [2, 2, 2]])\n",
        "\n",
        "# Check the shape of the temperatures tensor\n",
        "temp_shape = temperatures.shape\n",
        "print(\"Shape of temperatures:\", temp_shape)\n",
        "\n",
        "# Check the type of the temperatures tensor\n",
        "temp_type = temperatures.dtype\n",
        "print(\"Data type of temperatures:\", temp_type)\n",
        "\n",
        "# Adjust the temperatures by adding the adjustment tensor\n",
        "corrected_temperatures = torch.tensor(temperatures + adjustment)\n",
        "\n",
        "print(\"Corrected temperatures:\", corrected_temperatures)"
      ],
      "metadata": {
        "id": "x5mO5p1hdk5b"
      },
      "execution_count": null,
      "outputs": []
    },
    {
      "cell_type": "markdown",
      "source": [
        "# Creating my first Neural Network"
      ],
      "metadata": {
        "id": "u4mCoBD4d37S"
      }
    },
    {
      "cell_type": "code",
      "source": [],
      "metadata": {
        "id": "qD6l3_Xcd2Qi"
      },
      "execution_count": null,
      "outputs": []
    }
  ]
}