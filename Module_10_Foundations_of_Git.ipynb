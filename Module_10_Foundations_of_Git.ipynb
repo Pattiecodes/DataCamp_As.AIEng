{
  "nbformat": 4,
  "nbformat_minor": 0,
  "metadata": {
    "colab": {
      "provenance": [],
      "authorship_tag": "ABX9TyOlsWeCeosT7AvM4tqH0C17",
      "include_colab_link": true
    },
    "kernelspec": {
      "name": "python3",
      "display_name": "Python 3"
    },
    "language_info": {
      "name": "python"
    }
  },
  "cells": [
    {
      "cell_type": "markdown",
      "metadata": {
        "id": "view-in-github",
        "colab_type": "text"
      },
      "source": [
        "<a href=\"https://colab.research.google.com/github/Pattiecodes/DataCamp_As.AIEng/blob/main/Module_10_Foundations_of_Git.ipynb\" target=\"_parent\"><img src=\"https://colab.research.google.com/assets/colab-badge.svg\" alt=\"Open In Colab\"/></a>"
      ]
    },
    {
      "cell_type": "markdown",
      "source": [
        "# --- Module 10 starts here ---\n",
        "\n",
        "NOTE: Codes in this module are ran in a virtual Shell terminal"
      ],
      "metadata": {
        "id": "sqPfEZEz5bW7"
      }
    },
    {
      "cell_type": "markdown",
      "source": [
        "# Using the shell\n",
        "Git commands are typically performed using the Shell.\n",
        "\n",
        "Understanding some common shell commands allows you to perform more of your Git workflow in the shell without having to spend time navigating different programs.\n",
        "\n",
        "In this exercise, you will practice some of these commands.\n",
        "\n",
        "Find out how many files and directories are in the data directory.\n",
        "\n",
        "Instructions\n",
        "50 XP\n",
        "Possible answers\n",
        "\n",
        "\n",
        "Two\n",
        "\n",
        "One\n",
        "\n",
        "Three\n",
        "\n"
      ],
      "metadata": {
        "id": "7hNAEgmq0J9-"
      }
    },
    {
      "cell_type": "code",
      "execution_count": null,
      "metadata": {
        "id": "1xclIkti5VOM"
      },
      "outputs": [],
      "source": [
        "cd data\n",
        "ls"
      ]
    },
    {
      "cell_type": "markdown",
      "source": [
        "# Checking the version of Git\n",
        "Just like you need to know what version of a file you are working with, it's important to understand which version of Git is installed on your computer so you're aware of what functionality it offers.\n",
        "\n",
        "Instructions\n",
        "100 XP\n",
        "Using the terminal, enter the command to find out what version of Git is installed."
      ],
      "metadata": {
        "id": "WKDn90Av0Ptf"
      }
    },
    {
      "cell_type": "code",
      "source": [
        "git --version"
      ],
      "metadata": {
        "id": "5p4LXZRg0QJE"
      },
      "execution_count": null,
      "outputs": []
    },
    {
      "cell_type": "markdown",
      "source": [
        "# Adding a file\n",
        "For the remainder of the course, you will be working on a Git project analyzing the mental health of employees working at tech companies.\n",
        "\n",
        "In this exercise, you will complete a version control workflow to save an updated copy of mental_health_survey.csv file.\n",
        "\n",
        "You are located in mh_survey/data, which contains the csv file that has been recently edited.\n",
        "\n",
        "Instructions 1/2\n",
        "50 XP\n",
        "1\n",
        "Place the updated file in the staging area."
      ],
      "metadata": {
        "id": "fT0wEZJh0RZ4"
      }
    },
    {
      "cell_type": "code",
      "source": [
        "git add ."
      ],
      "metadata": {
        "id": "56KGk331E8HP"
      },
      "execution_count": null,
      "outputs": []
    },
    {
      "cell_type": "markdown",
      "source": [
        "Instructions 2/2\n",
        "2\n",
        "Commit the modified file with the log message \"Adding one new participant's data\""
      ],
      "metadata": {
        "id": "AfVDbgeYFEsi"
      }
    },
    {
      "cell_type": "code",
      "source": [
        "git commit -m \"Adding one new participant's data\""
      ],
      "metadata": {
        "id": "SCgqiLxBFHbR"
      },
      "execution_count": null,
      "outputs": []
    }
  ]
}