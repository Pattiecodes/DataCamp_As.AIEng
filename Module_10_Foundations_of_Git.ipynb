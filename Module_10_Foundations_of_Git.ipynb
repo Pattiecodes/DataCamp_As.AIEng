{
  "nbformat": 4,
  "nbformat_minor": 0,
  "metadata": {
    "colab": {
      "provenance": [],
      "authorship_tag": "ABX9TyPLrZ440udUS0VsDrIkwF8A",
      "include_colab_link": true
    },
    "kernelspec": {
      "name": "python3",
      "display_name": "Python 3"
    },
    "language_info": {
      "name": "python"
    }
  },
  "cells": [
    {
      "cell_type": "markdown",
      "metadata": {
        "id": "view-in-github",
        "colab_type": "text"
      },
      "source": [
        "<a href=\"https://colab.research.google.com/github/Pattiecodes/DataCamp_As.AIEng/blob/main/Module_10_Foundations_of_Git.ipynb\" target=\"_parent\"><img src=\"https://colab.research.google.com/assets/colab-badge.svg\" alt=\"Open In Colab\"/></a>"
      ]
    },
    {
      "cell_type": "markdown",
      "source": [
        "# --- Module 10 starts here ---\n",
        "\n",
        "NOTE: Codes in this module are ran in a virtual Shell terminal"
      ],
      "metadata": {
        "id": "sqPfEZEz5bW7"
      }
    },
    {
      "cell_type": "markdown",
      "source": [
        "# Using the shell\n",
        "Git commands are typically performed using the Shell.\n",
        "\n",
        "Understanding some common shell commands allows you to perform more of your Git workflow in the shell without having to spend time navigating different programs.\n",
        "\n",
        "In this exercise, you will practice some of these commands.\n",
        "\n",
        "Find out how many files and directories are in the data directory.\n",
        "\n",
        "Instructions\n",
        "50 XP\n",
        "Possible answers\n",
        "\n",
        "\n",
        "Two\n",
        "\n",
        "One\n",
        "\n",
        "Three\n",
        "\n"
      ],
      "metadata": {
        "id": "7hNAEgmq0J9-"
      }
    },
    {
      "cell_type": "code",
      "execution_count": null,
      "metadata": {
        "id": "1xclIkti5VOM"
      },
      "outputs": [],
      "source": [
        "cd data\n",
        "ls"
      ]
    },
    {
      "cell_type": "markdown",
      "source": [
        "# Checking the version of Git\n",
        "Just like you need to know what version of a file you are working with, it's important to understand which version of Git is installed on your computer so you're aware of what functionality it offers.\n",
        "\n",
        "Instructions\n",
        "100 XP\n",
        "Using the terminal, enter the command to find out what version of Git is installed."
      ],
      "metadata": {
        "id": "WKDn90Av0Ptf"
      }
    },
    {
      "cell_type": "code",
      "source": [
        "git --version"
      ],
      "metadata": {
        "id": "5p4LXZRg0QJE"
      },
      "execution_count": null,
      "outputs": []
    },
    {
      "cell_type": "markdown",
      "source": [],
      "metadata": {
        "id": "fT0wEZJh0RZ4"
      }
    }
  ]
}