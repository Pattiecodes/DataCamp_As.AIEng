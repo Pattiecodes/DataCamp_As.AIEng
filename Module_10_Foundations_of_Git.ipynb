{
  "nbformat": 4,
  "nbformat_minor": 0,
  "metadata": {
    "colab": {
      "provenance": [],
      "authorship_tag": "ABX9TyNtxdCY6HuomTg1w+K6c6Dy",
      "include_colab_link": true
    },
    "kernelspec": {
      "name": "python3",
      "display_name": "Python 3"
    },
    "language_info": {
      "name": "python"
    }
  },
  "cells": [
    {
      "cell_type": "markdown",
      "metadata": {
        "id": "view-in-github",
        "colab_type": "text"
      },
      "source": [
        "<a href=\"https://colab.research.google.com/github/Pattiecodes/DataCamp_As.AIEng/blob/main/Module_10_Foundations_of_Git.ipynb\" target=\"_parent\"><img src=\"https://colab.research.google.com/assets/colab-badge.svg\" alt=\"Open In Colab\"/></a>"
      ]
    },
    {
      "cell_type": "markdown",
      "source": [
        "# --- Module 10 starts here ---\n",
        "\n",
        "NOTE: Codes in this module are ran in a virtual Shell terminal"
      ],
      "metadata": {
        "id": "sqPfEZEz5bW7"
      }
    },
    {
      "cell_type": "markdown",
      "source": [
        "# Using the shell\n",
        "Git commands are typically performed using the Shell.\n",
        "\n",
        "Understanding some common shell commands allows you to perform more of your Git workflow in the shell without having to spend time navigating different programs.\n",
        "\n",
        "In this exercise, you will practice some of these commands.\n",
        "\n",
        "Find out how many files and directories are in the data directory.\n",
        "\n",
        "Instructions\n",
        "50 XP\n",
        "Possible answers\n",
        "\n",
        "\n",
        "Two\n",
        "\n",
        "One\n",
        "\n",
        "Three\n",
        "\n"
      ],
      "metadata": {
        "id": "7hNAEgmq0J9-"
      }
    },
    {
      "cell_type": "code",
      "execution_count": null,
      "metadata": {
        "id": "1xclIkti5VOM"
      },
      "outputs": [],
      "source": [
        "cd data\n",
        "ls"
      ]
    },
    {
      "cell_type": "markdown",
      "source": [
        "# Checking the version of Git\n",
        "Just like you need to know what version of a file you are working with, it's important to understand which version of Git is installed on your computer so you're aware of what functionality it offers.\n",
        "\n",
        "Instructions\n",
        "100 XP\n",
        "Using the terminal, enter the command to find out what version of Git is installed."
      ],
      "metadata": {
        "id": "WKDn90Av0Ptf"
      }
    },
    {
      "cell_type": "code",
      "source": [
        "git --version"
      ],
      "metadata": {
        "id": "5p4LXZRg0QJE"
      },
      "execution_count": null,
      "outputs": []
    },
    {
      "cell_type": "markdown",
      "source": [
        "# Adding a file\n",
        "For the remainder of the course, you will be working on a Git project analyzing the mental health of employees working at tech companies.\n",
        "\n",
        "In this exercise, you will complete a version control workflow to save an updated copy of mental_health_survey.csv file.\n",
        "\n",
        "You are located in mh_survey/data, which contains the csv file that has been recently edited.\n",
        "\n",
        "Instructions 1/2\n",
        "50 XP\n",
        "1\n",
        "Place the updated file in the staging area."
      ],
      "metadata": {
        "id": "fT0wEZJh0RZ4"
      }
    },
    {
      "cell_type": "code",
      "source": [
        "git add ."
      ],
      "metadata": {
        "id": "56KGk331E8HP"
      },
      "execution_count": null,
      "outputs": []
    },
    {
      "cell_type": "markdown",
      "source": [
        "Instructions 2/2\n",
        "2\n",
        "Commit the modified file with the log message \"Adding one new participant's data\""
      ],
      "metadata": {
        "id": "AfVDbgeYFEsi"
      }
    },
    {
      "cell_type": "code",
      "source": [
        "git commit -m \"Adding one new participant's data\""
      ],
      "metadata": {
        "id": "SCgqiLxBFHbR"
      },
      "execution_count": null,
      "outputs": []
    },
    {
      "cell_type": "markdown",
      "source": [
        "# Adding multiple files\n",
        "You've added one more task to the report.md and an extra row of participant data tomental_health_survey.csv files:\n",
        "\n",
        "report.md:\n",
        "\n",
        "TODO: Add data visualizations.\n",
        "mental_health_survey.csv:\n",
        "\n",
        "49,M,No,Yes,Never,Yes,Yes,No\n",
        "You need to figure out which files are in the repo, and which are in the staging area, so you can update everything.\n",
        "\n",
        "Instructions 1/3\n",
        "35 XP\n",
        "1\n",
        "Check which files are in the staging area but not yet committed."
      ],
      "metadata": {
        "id": "cZDyHcB8Fg85"
      }
    },
    {
      "cell_type": "code",
      "source": [
        "git status"
      ],
      "metadata": {
        "id": "5TBe4GniFhTW"
      },
      "execution_count": null,
      "outputs": []
    },
    {
      "cell_type": "markdown",
      "source": [
        "Instructions 2/3\n",
        "2\n",
        "Add all files in your current directory and all subdirectories into the staging area."
      ],
      "metadata": {
        "id": "Xbs_CHVxFlK2"
      }
    },
    {
      "cell_type": "code",
      "source": [
        "git add ."
      ],
      "metadata": {
        "id": "AIQCPA8KFnjv"
      },
      "execution_count": null,
      "outputs": []
    },
    {
      "cell_type": "markdown",
      "source": [
        "Instructions 3/3\n",
        "Commit all files in the staging area with the log message\n",
        "```\n",
        "\"Added 3 participants and a new section in report\"\n",
        "```"
      ],
      "metadata": {
        "id": "2nmKISAMFqW0"
      }
    },
    {
      "cell_type": "code",
      "source": [
        "git commit -m \"Added 3 participants and a new section in report\""
      ],
      "metadata": {
        "id": "mEm_hiyGFwXU"
      },
      "execution_count": null,
      "outputs": []
    },
    {
      "cell_type": "markdown",
      "source": [
        "# What has changed?\n",
        "Checking how the current version of a file compares to the last saved version can help keep track of the last round of edits, particularly if you need to revert to a previous version.\n",
        "\n",
        "You have been placed in the data directory of the mh_survey repo.\n",
        "\n",
        "How many lines have been added to the current version of mental_health_survey.csv compared to the version in the latest commit?\n",
        "\n",
        "Possible answers\n",
        "\n",
        "\n",
        "48\n",
        "\n",
        "3\n",
        "\n",
        "4\n",
        "\n",
        "1"
      ],
      "metadata": {
        "id": "ixWm_7P-F6fB"
      }
    },
    {
      "cell_type": "code",
      "source": [
        "git diff mental_health_survey_.csv"
      ],
      "metadata": {
        "id": "cRNTwERMR-qt"
      },
      "execution_count": null,
      "outputs": []
    },
    {
      "cell_type": "markdown",
      "source": [
        "# What is going to be committed?\n",
        "Sometimes you could be on the verge of making a new commit and want to double-check if any other files need to be included.\n",
        "\n",
        "You have been put in the mh_survey repo, where data/mental_health_survey.csv has been added to the staging area.\n",
        "\n",
        "Note: if the terminal output does not fit on your screen, you can scroll down using Enter and quit the view using q.\n",
        "\n",
        "Instructions 1/3\n",
        "30 XP\n",
        "1. Use a command to see how all files differ from the last saved revision."
      ],
      "metadata": {
        "id": "9nd5SP1jScE3"
      }
    },
    {
      "cell_type": "code",
      "source": [
        "git diff -r HEAD"
      ],
      "metadata": {
        "id": "D-imilhvSdtQ"
      },
      "execution_count": null,
      "outputs": []
    },
    {
      "cell_type": "markdown",
      "source": [
        "Instructions 2/3\n",
        "Use a Git command to add only report.md to the staging area."
      ],
      "metadata": {
        "id": "E1GnHSkwSgmt"
      }
    },
    {
      "cell_type": "code",
      "source": [
        "git add report.md"
      ],
      "metadata": {
        "id": "Tn-TOf-nSj0o"
      },
      "execution_count": null,
      "outputs": []
    },
    {
      "cell_type": "markdown",
      "source": [
        "Instructions 3/3\n",
        "Commit all files with the log message \"New participant data and reminder for analysis\"."
      ],
      "metadata": {
        "id": "bvW6Dtx9TAfH"
      }
    },
    {
      "cell_type": "code",
      "source": [
        "git commit -m \"New participant data and reminder for analysis\""
      ],
      "metadata": {
        "id": "POWD9fG-TB_S"
      },
      "execution_count": null,
      "outputs": []
    },
    {
      "cell_type": "markdown",
      "source": [
        "# Viewing a repository's history\n",
        "Recall that every commit has a unique identifier called a hash.\n",
        "\n",
        "Git has a command you can use to display all commits made to a repo, along with the hash, author, and time of the commit.\n",
        "\n",
        "Using the console, run a command to find the hash of the commit that added a summary report file.\n",
        "\n",
        "Instructions\n",
        "50 XP\n",
        "Possible answers\n",
        "\n",
        "\n",
        "7f71eade\n",
        "\n",
        "1182c282\n",
        "\n",
        "36b761e4\n",
        "\n",
        "e39ecc89"
      ],
      "metadata": {
        "id": "WLgPbiYk0zIn"
      }
    },
    {
      "cell_type": "code",
      "source": [
        "git log"
      ],
      "metadata": {
        "id": "VvmiRHRB0z0D"
      },
      "execution_count": null,
      "outputs": []
    },
    {
      "cell_type": "markdown",
      "source": [
        "# Viewing a specific commit\n",
        "A common workflow with Git is to view all commits, then compare files between a specific commit and the current version of the file.\n",
        "\n",
        "You are located in mh_survey.\n",
        "\n",
        "In this exercise, you will look into the commit history for report.md.\n",
        "\n",
        "Instructions 1/2\n",
        "50 XP\n",
        "1\n",
        "Use a command to display the repo's history."
      ],
      "metadata": {
        "id": "DR6j8-0O06QS"
      }
    },
    {
      "cell_type": "code",
      "source": [
        "git log"
      ],
      "metadata": {
        "id": "2IdswVsX07Fh"
      },
      "execution_count": null,
      "outputs": []
    },
    {
      "cell_type": "markdown",
      "source": [
        "Instructions 2/2\n",
        "Show the difference between the latest version of report.md and the version in the commit that added a funding source citation reminder."
      ],
      "metadata": {
        "id": "-X3e8KcJ1E_0"
      }
    },
    {
      "cell_type": "code",
      "source": [
        "git show 36b761e"
      ],
      "metadata": {
        "id": "5Bfs3kqW1HjG"
      },
      "execution_count": null,
      "outputs": []
    },
    {
      "cell_type": "markdown",
      "source": [
        "# Comparing to the second most recent commit\n",
        "Being able to look at what happened in a specific commit is useful to check how files have changed over time.\n",
        "\n",
        "Use an appropriate command to find out the changes in the second most recent commit compared to its parent commit.\n",
        "\n",
        "Choose the answer reflecting what changes occurred.\n",
        "\n",
        "Instructions\n",
        "50 XP\n",
        "Possible answers\n",
        "\n",
        "\n",
        "mental_health_survey.csv had three lines added.\n",
        "\n",
        "report.md had one line added.\n",
        "\n",
        "mental_health_survey.csv had 47 lines added.\n",
        "\n",
        "report.md had three lines added."
      ],
      "metadata": {
        "id": "POvp7Rd91T4h"
      }
    },
    {
      "cell_type": "code",
      "source": [
        "git diff -r HEAD~2"
      ],
      "metadata": {
        "id": "6hi6Y7A8gg3A"
      },
      "execution_count": null,
      "outputs": []
    },
    {
      "cell_type": "markdown",
      "source": [
        "# Comparing commits\n",
        "Not only can Git be used to check what changed in a specific commit, it also allows you to compare changes between commits!\n",
        "\n",
        "Which files were modified between the fourth most recent and second most recent commits?\n",
        "\n",
        "Instructions\n",
        "50 XP\n",
        "Possible answers\n",
        "\n",
        "\n",
        "report.md\n",
        "\n",
        "mental_health_survey.csv\n",
        "\n",
        "report.md and mental_health_survey.csv\n",
        "\n",
        "report.md, summary_statistics.csv, and mental_health_survey.csv"
      ],
      "metadata": {
        "id": "N5bytSEshhzh"
      }
    },
    {
      "cell_type": "code",
      "source": [
        "git log"
      ],
      "metadata": {
        "id": "sVujHyO5hmzg"
      },
      "execution_count": null,
      "outputs": []
    },
    {
      "cell_type": "markdown",
      "source": [
        "# Who changed what?\n",
        "Sometimes you need to see more detail than the commands you've used previously can provide.\n",
        "\n",
        "Your task is to use an appropriate command to show changes such as author, change made, time of change, and commit hash, for report.md.\n",
        "\n",
        "Instructions\n",
        "100 XP\n",
        "Display line-by-line changes and associated metadata for report.md."
      ],
      "metadata": {
        "id": "ACKKbDhcij8J"
      }
    },
    {
      "cell_type": "code",
      "source": [
        "git annotate report.md"
      ],
      "metadata": {
        "id": "Rh9BbCp2ilHt"
      },
      "execution_count": null,
      "outputs": []
    }
  ]
}