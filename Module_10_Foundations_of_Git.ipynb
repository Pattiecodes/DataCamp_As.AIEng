{
  "nbformat": 4,
  "nbformat_minor": 0,
  "metadata": {
    "colab": {
      "provenance": [],
      "authorship_tag": "ABX9TyPmLU+ys3sumOPZqtD5wTtx",
      "include_colab_link": true
    },
    "kernelspec": {
      "name": "python3",
      "display_name": "Python 3"
    },
    "language_info": {
      "name": "python"
    }
  },
  "cells": [
    {
      "cell_type": "markdown",
      "metadata": {
        "id": "view-in-github",
        "colab_type": "text"
      },
      "source": [
        "<a href=\"https://colab.research.google.com/github/Pattiecodes/DataCamp_As.AIEng/blob/main/Module_10_Foundations_of_Git.ipynb\" target=\"_parent\"><img src=\"https://colab.research.google.com/assets/colab-badge.svg\" alt=\"Open In Colab\"/></a>"
      ]
    },
    {
      "cell_type": "markdown",
      "source": [
        "# --- Module 10 starts here ---\n",
        "\n",
        "NOTE: Codes in this module are ran in a virtual Shell terminal"
      ],
      "metadata": {
        "id": "sqPfEZEz5bW7"
      }
    },
    {
      "cell_type": "markdown",
      "source": [
        "# Using the shell\n",
        "Git commands are typically performed using the Shell.\n",
        "\n",
        "Understanding some common shell commands allows you to perform more of your Git workflow in the shell without having to spend time navigating different programs.\n",
        "\n",
        "In this exercise, you will practice some of these commands.\n",
        "\n",
        "Find out how many files and directories are in the data directory.\n",
        "\n",
        "Instructions\n",
        "50 XP\n",
        "Possible answers\n",
        "\n",
        "\n",
        "Two\n",
        "\n",
        "One\n",
        "\n",
        "Three\n",
        "\n"
      ],
      "metadata": {
        "id": "7hNAEgmq0J9-"
      }
    },
    {
      "cell_type": "code",
      "execution_count": null,
      "metadata": {
        "id": "1xclIkti5VOM"
      },
      "outputs": [],
      "source": [
        "cd data\n",
        "ls"
      ]
    },
    {
      "cell_type": "markdown",
      "source": [
        "# Checking the version of Git\n",
        "Just like you need to know what version of a file you are working with, it's important to understand which version of Git is installed on your computer so you're aware of what functionality it offers.\n",
        "\n",
        "Instructions\n",
        "100 XP\n",
        "Using the terminal, enter the command to find out what version of Git is installed."
      ],
      "metadata": {
        "id": "WKDn90Av0Ptf"
      }
    },
    {
      "cell_type": "code",
      "source": [
        "git --version"
      ],
      "metadata": {
        "id": "5p4LXZRg0QJE"
      },
      "execution_count": null,
      "outputs": []
    },
    {
      "cell_type": "markdown",
      "source": [
        "# Adding a file\n",
        "For the remainder of the course, you will be working on a Git project analyzing the mental health of employees working at tech companies.\n",
        "\n",
        "In this exercise, you will complete a version control workflow to save an updated copy of mental_health_survey.csv file.\n",
        "\n",
        "You are located in mh_survey/data, which contains the csv file that has been recently edited.\n",
        "\n",
        "Instructions 1/2\n",
        "50 XP\n",
        "1\n",
        "Place the updated file in the staging area."
      ],
      "metadata": {
        "id": "fT0wEZJh0RZ4"
      }
    },
    {
      "cell_type": "code",
      "source": [
        "git add ."
      ],
      "metadata": {
        "id": "56KGk331E8HP"
      },
      "execution_count": null,
      "outputs": []
    },
    {
      "cell_type": "markdown",
      "source": [
        "Instructions 2/2\n",
        "2\n",
        "Commit the modified file with the log message \"Adding one new participant's data\""
      ],
      "metadata": {
        "id": "AfVDbgeYFEsi"
      }
    },
    {
      "cell_type": "code",
      "source": [
        "git commit -m \"Adding one new participant's data\""
      ],
      "metadata": {
        "id": "SCgqiLxBFHbR"
      },
      "execution_count": null,
      "outputs": []
    },
    {
      "cell_type": "markdown",
      "source": [
        "# Adding multiple files\n",
        "You've added one more task to the report.md and an extra row of participant data tomental_health_survey.csv files:\n",
        "\n",
        "report.md:\n",
        "\n",
        "TODO: Add data visualizations.\n",
        "mental_health_survey.csv:\n",
        "\n",
        "49,M,No,Yes,Never,Yes,Yes,No\n",
        "You need to figure out which files are in the repo, and which are in the staging area, so you can update everything.\n",
        "\n",
        "Instructions 1/3\n",
        "35 XP\n",
        "1\n",
        "Check which files are in the staging area but not yet committed."
      ],
      "metadata": {
        "id": "cZDyHcB8Fg85"
      }
    },
    {
      "cell_type": "code",
      "source": [
        "git status"
      ],
      "metadata": {
        "id": "5TBe4GniFhTW"
      },
      "execution_count": null,
      "outputs": []
    },
    {
      "cell_type": "markdown",
      "source": [
        "Instructions 2/3\n",
        "2\n",
        "Add all files in your current directory and all subdirectories into the staging area."
      ],
      "metadata": {
        "id": "Xbs_CHVxFlK2"
      }
    },
    {
      "cell_type": "code",
      "source": [
        "git add ."
      ],
      "metadata": {
        "id": "AIQCPA8KFnjv"
      },
      "execution_count": null,
      "outputs": []
    },
    {
      "cell_type": "markdown",
      "source": [
        "Instructions 3/3\n",
        "Commit all files in the staging area with the log message\n",
        "```\n",
        "\"Added 3 participants and a new section in report\"\n",
        "```"
      ],
      "metadata": {
        "id": "2nmKISAMFqW0"
      }
    },
    {
      "cell_type": "code",
      "source": [
        "git commit -m \"Added 3 participants and a new section in report\""
      ],
      "metadata": {
        "id": "mEm_hiyGFwXU"
      },
      "execution_count": null,
      "outputs": []
    },
    {
      "cell_type": "markdown",
      "source": [
        "# What has changed?\n",
        "Checking how the current version of a file compares to the last saved version can help keep track of the last round of edits, particularly if you need to revert to a previous version.\n",
        "\n",
        "You have been placed in the data directory of the mh_survey repo.\n",
        "\n",
        "How many lines have been added to the current version of mental_health_survey.csv compared to the version in the latest commit?\n",
        "\n",
        "Possible answers\n",
        "\n",
        "\n",
        "48\n",
        "\n",
        "3\n",
        "\n",
        "4\n",
        "\n",
        "1"
      ],
      "metadata": {
        "id": "ixWm_7P-F6fB"
      }
    },
    {
      "cell_type": "code",
      "source": [
        "git diff mental_health_survey_.csv"
      ],
      "metadata": {
        "id": "cRNTwERMR-qt"
      },
      "execution_count": null,
      "outputs": []
    },
    {
      "cell_type": "markdown",
      "source": [
        "# What is going to be committed?\n",
        "Sometimes you could be on the verge of making a new commit and want to double-check if any other files need to be included.\n",
        "\n",
        "You have been put in the mh_survey repo, where data/mental_health_survey.csv has been added to the staging area.\n",
        "\n",
        "Note: if the terminal output does not fit on your screen, you can scroll down using Enter and quit the view using q.\n",
        "\n",
        "Instructions 1/3\n",
        "30 XP\n",
        "1. Use a command to see how all files differ from the last saved revision."
      ],
      "metadata": {
        "id": "9nd5SP1jScE3"
      }
    },
    {
      "cell_type": "code",
      "source": [
        "git diff -r HEAD"
      ],
      "metadata": {
        "id": "D-imilhvSdtQ"
      },
      "execution_count": null,
      "outputs": []
    },
    {
      "cell_type": "markdown",
      "source": [
        "Instructions 2/3\n",
        "Use a Git command to add only report.md to the staging area."
      ],
      "metadata": {
        "id": "E1GnHSkwSgmt"
      }
    },
    {
      "cell_type": "code",
      "source": [
        "git add report.md"
      ],
      "metadata": {
        "id": "Tn-TOf-nSj0o"
      },
      "execution_count": null,
      "outputs": []
    },
    {
      "cell_type": "markdown",
      "source": [
        "Instructions 3/3\n",
        "Commit all files with the log message \"New participant data and reminder for analysis\"."
      ],
      "metadata": {
        "id": "bvW6Dtx9TAfH"
      }
    },
    {
      "cell_type": "code",
      "source": [
        "git commit -m \"New participant data and reminder for analysis\""
      ],
      "metadata": {
        "id": "POWD9fG-TB_S"
      },
      "execution_count": null,
      "outputs": []
    },
    {
      "cell_type": "markdown",
      "source": [
        "# Viewing a repository's history\n",
        "Recall that every commit has a unique identifier called a hash.\n",
        "\n",
        "Git has a command you can use to display all commits made to a repo, along with the hash, author, and time of the commit.\n",
        "\n",
        "Using the console, run a command to find the hash of the commit that added a summary report file.\n",
        "\n",
        "Instructions\n",
        "50 XP\n",
        "Possible answers\n",
        "\n",
        "\n",
        "7f71eade\n",
        "\n",
        "1182c282\n",
        "\n",
        "36b761e4\n",
        "\n",
        "e39ecc89"
      ],
      "metadata": {
        "id": "WLgPbiYk0zIn"
      }
    },
    {
      "cell_type": "code",
      "source": [
        "git log"
      ],
      "metadata": {
        "id": "VvmiRHRB0z0D"
      },
      "execution_count": null,
      "outputs": []
    },
    {
      "cell_type": "markdown",
      "source": [
        "# Viewing a specific commit\n",
        "A common workflow with Git is to view all commits, then compare files between a specific commit and the current version of the file.\n",
        "\n",
        "You are located in mh_survey.\n",
        "\n",
        "In this exercise, you will look into the commit history for report.md.\n",
        "\n",
        "Instructions 1/2\n",
        "50 XP\n",
        "1\n",
        "Use a command to display the repo's history."
      ],
      "metadata": {
        "id": "DR6j8-0O06QS"
      }
    },
    {
      "cell_type": "code",
      "source": [
        "git log"
      ],
      "metadata": {
        "id": "2IdswVsX07Fh"
      },
      "execution_count": null,
      "outputs": []
    },
    {
      "cell_type": "markdown",
      "source": [
        "Instructions 2/2\n",
        "Show the difference between the latest version of report.md and the version in the commit that added a funding source citation reminder."
      ],
      "metadata": {
        "id": "-X3e8KcJ1E_0"
      }
    },
    {
      "cell_type": "code",
      "source": [
        "git show 36b761e"
      ],
      "metadata": {
        "id": "5Bfs3kqW1HjG"
      },
      "execution_count": null,
      "outputs": []
    },
    {
      "cell_type": "markdown",
      "source": [
        "# Comparing to the second most recent commit\n",
        "Being able to look at what happened in a specific commit is useful to check how files have changed over time.\n",
        "\n",
        "Use an appropriate command to find out the changes in the second most recent commit compared to its parent commit.\n",
        "\n",
        "Choose the answer reflecting what changes occurred.\n",
        "\n",
        "Instructions\n",
        "50 XP\n",
        "Possible answers\n",
        "\n",
        "\n",
        "mental_health_survey.csv had three lines added.\n",
        "\n",
        "report.md had one line added.\n",
        "\n",
        "mental_health_survey.csv had 47 lines added.\n",
        "\n",
        "report.md had three lines added."
      ],
      "metadata": {
        "id": "POvp7Rd91T4h"
      }
    },
    {
      "cell_type": "code",
      "source": [
        "git diff -r HEAD~2"
      ],
      "metadata": {
        "id": "6hi6Y7A8gg3A"
      },
      "execution_count": null,
      "outputs": []
    },
    {
      "cell_type": "markdown",
      "source": [
        "# Comparing commits\n",
        "Not only can Git be used to check what changed in a specific commit, it also allows you to compare changes between commits!\n",
        "\n",
        "Which files were modified between the fourth most recent and second most recent commits?\n",
        "\n",
        "Instructions\n",
        "50 XP\n",
        "Possible answers\n",
        "\n",
        "\n",
        "report.md\n",
        "\n",
        "mental_health_survey.csv\n",
        "\n",
        "report.md and mental_health_survey.csv\n",
        "\n",
        "report.md, summary_statistics.csv, and mental_health_survey.csv"
      ],
      "metadata": {
        "id": "N5bytSEshhzh"
      }
    },
    {
      "cell_type": "code",
      "source": [
        "git log"
      ],
      "metadata": {
        "id": "sVujHyO5hmzg"
      },
      "execution_count": null,
      "outputs": []
    },
    {
      "cell_type": "markdown",
      "source": [
        "# Who changed what?\n",
        "Sometimes you need to see more detail than the commands you've used previously can provide.\n",
        "\n",
        "Your task is to use an appropriate command to show changes such as author, change made, time of change, and commit hash, for report.md.\n",
        "\n",
        "Instructions\n",
        "100 XP\n",
        "Display line-by-line changes and associated metadata for report.md."
      ],
      "metadata": {
        "id": "ACKKbDhcij8J"
      }
    },
    {
      "cell_type": "code",
      "source": [
        "git annotate report.md"
      ],
      "metadata": {
        "id": "Rh9BbCp2ilHt"
      },
      "execution_count": null,
      "outputs": []
    },
    {
      "cell_type": "markdown",
      "source": [
        "# How to unstage a file\n",
        "You've been working on the Mental Health in Tech project and have added mental_health_survey.csv to the staging area.\n",
        "\n",
        "However, you've just received data from one more participant.\n",
        "\n",
        "Instructions 1/4\n",
        "25 XP\n",
        "1\n",
        "Unstage mental_health_survey.csv."
      ],
      "metadata": {
        "id": "qe886Kub3ZUQ"
      }
    },
    {
      "cell_type": "code",
      "source": [
        "git reset HEAD mental_health_survey.csv"
      ],
      "metadata": {
        "id": "NUIErZ-J7KCr"
      },
      "execution_count": null,
      "outputs": []
    },
    {
      "cell_type": "markdown",
      "source": [
        "Instructions 2/4\n",
        "Add 41,M,Yes,No,No,No,Often,Yes to the end of mental_health_survey.csv."
      ],
      "metadata": {
        "id": "3Fm2dqkH7gNw"
      }
    },
    {
      "cell_type": "code",
      "source": [
        "nano mental_health_survey.csv\n",
        "41,M,Yes,No,No,No,Often,Yes\n",
        " (CMD+O)\n",
        " (Enter)\n",
        " (Y)\n",
        " (Y)\n",
        " (CMD+X)"
      ],
      "metadata": {
        "id": "ZWDbcg3U7iBl"
      },
      "execution_count": null,
      "outputs": []
    },
    {
      "cell_type": "markdown",
      "source": [
        "Instructions 3/4\n",
        "Restage this file"
      ],
      "metadata": {
        "id": "JduKL-lz8fWy"
      }
    },
    {
      "cell_type": "code",
      "source": [
        "git add mental_health_survey.csv"
      ],
      "metadata": {
        "id": "pKIdAcM08jC8"
      },
      "execution_count": null,
      "outputs": []
    },
    {
      "cell_type": "markdown",
      "source": [
        "Instructions 4/4\n",
        "Make a commit with the log message \"Extra participant\"."
      ],
      "metadata": {
        "id": "d25MV7qY8v5I"
      }
    },
    {
      "cell_type": "code",
      "source": [
        "git commit -m \"Extra participant\""
      ],
      "metadata": {
        "id": "tK32jcdQ8ygb"
      },
      "execution_count": null,
      "outputs": []
    },
    {
      "cell_type": "markdown",
      "source": [
        "# Undoing changes\n",
        "git reset is useful for unstaging files, but what if you need to undo changes made to a file that is not in the staging area?\n",
        "\n",
        "You've been working on the report.md file, but have not yet saved the file. You have just realized that the summary statistics changed with the addition of the last participant's data. As a result, you are not ready to add graphs to your report and would like to discard your recent edits.\n",
        "\n",
        "Your task is to use a Git command that will discard the changes made to report.md, restoring it to the last saved version.\n",
        "\n",
        "Instructions\n",
        "100 XP\n",
        "Undo the changes made to report.md."
      ],
      "metadata": {
        "id": "Id5-REBQ82e-"
      }
    },
    {
      "cell_type": "code",
      "source": [
        "git checkout -- report.md"
      ],
      "metadata": {
        "id": "_NHP3w5v9AZo"
      },
      "execution_count": null,
      "outputs": []
    },
    {
      "cell_type": "markdown",
      "source": [
        "# Undoing all changes\n",
        "You've been practicing your shell command skills to edit files when you realize you've accidentally been adding content to the wrong files—the report.md file now has participant data in, and you've added some summary statistics into the mental_health_survey.csv file!\n",
        "\n",
        "You have already added these files to the staging area.\n",
        "\n",
        "You will need to perform a couple of commands to undo these changes.\n",
        "\n",
        "Instructions 1/2\n",
        "50 XP\n",
        "1\n",
        "Remove all files from the staging area.\n",
        "\n"
      ],
      "metadata": {
        "id": "d83y5ApD9egq"
      }
    },
    {
      "cell_type": "code",
      "source": [
        "git reset HEAD"
      ],
      "metadata": {
        "id": "JfWP8chh9gS7"
      },
      "execution_count": null,
      "outputs": []
    },
    {
      "cell_type": "markdown",
      "source": [
        "Instructions 2/2\n",
        "Undo changes to all unstaged files since the last commit."
      ],
      "metadata": {
        "id": "GVBors769n4K"
      }
    },
    {
      "cell_type": "code",
      "source": [
        "git checkout ."
      ],
      "metadata": {
        "id": "hANwIzlf9tvK"
      },
      "execution_count": null,
      "outputs": []
    },
    {
      "cell_type": "markdown",
      "source": [
        "# Restoring an old version of a repo\n",
        "Restoring versions of files can be extremely powerful and useful, particularly if you've made a mistake and can pinpoint when it occurred.\n",
        "\n",
        "You've been working on the mental health in tech project for a couple of days when you spot an error in the participant data held in mental_health_survey.csv. Since then, you've modified report.md, summary_statistics.csv, and created a references document.\n",
        "\n",
        "Therefore, you need to restore versions of all of these files to the second to last commit, which is where the error occurred.\n",
        "\n",
        "Instructions\n",
        "100 XP\n",
        "Use a command to restore all files to their version located in the commit with a hash starting 7f71eade.\n"
      ],
      "metadata": {
        "id": "y-u-fc7q9xki"
      }
    },
    {
      "cell_type": "code",
      "source": [
        "git checkout 7f71eade"
      ],
      "metadata": {
        "id": "h5Dd1fyFxt4i"
      },
      "execution_count": null,
      "outputs": []
    },
    {
      "cell_type": "markdown",
      "source": [
        "# Restoring an old version of a file\n",
        "You previously saw how to use git checkout to undo the changes that you made since the last commit. This command can also be used to go back even further into a file's history and restore versions of that file from an older commit. In this way, you can think of committing as saving your work and checking out as loading that saved version.\n",
        "\n",
        "Your task is to restore a file to a previous version and update the repo so it contains this as the current version of the file.\n",
        "\n",
        "Instructions 1/4\n",
        "25 XP\n",
        "1\n",
        "Display the last two commits for the report.md file."
      ],
      "metadata": {
        "id": "GJqsErWbyBzq"
      }
    },
    {
      "cell_type": "code",
      "source": [
        "git log -2 report.md"
      ],
      "metadata": {
        "id": "vbZXv6T6yCN0"
      },
      "execution_count": null,
      "outputs": []
    },
    {
      "cell_type": "markdown",
      "source": [
        "Instructions 2/4\n",
        "Use the commit hash to restore the version of report.md committed with the log message \"Added summary report file\"."
      ],
      "metadata": {
        "id": "IqMy6GN-ysRS"
      }
    },
    {
      "cell_type": "code",
      "source": [
        "git checkout e39ecc report.md"
      ],
      "metadata": {
        "id": "sdcpSR3syuzY"
      },
      "execution_count": null,
      "outputs": []
    },
    {
      "cell_type": "markdown",
      "source": [
        "Instructions 3/4\n",
        "Put the restored version of report.md into the staging area."
      ],
      "metadata": {
        "id": "mcWIMkZ1zD8E"
      }
    },
    {
      "cell_type": "code",
      "source": [
        "git add report.md"
      ],
      "metadata": {
        "id": "nO06lpa8zFZZ"
      },
      "execution_count": null,
      "outputs": []
    },
    {
      "cell_type": "markdown",
      "source": [
        "Instructions 4/4 Commit the restored file with a log message of \"Restoring version from commit e39ecc8\"."
      ],
      "metadata": {
        "id": "fGrJJG1bzWYi"
      }
    },
    {
      "cell_type": "code",
      "source": [
        "git commit -m \"Restoring version from commit e39ecc8\""
      ],
      "metadata": {
        "id": "6AO4Rs70zYV_"
      },
      "execution_count": null,
      "outputs": []
    },
    {
      "cell_type": "markdown",
      "source": [
        "# Modifying your email address in Git\n",
        "Updating your configuration settings with Git can save you time, particularly where some commands require your credentials to verify access to repositories.\n",
        "\n",
        "In this exercise, you'll configure your email settings.\n",
        "\n",
        "Instructions 1/3\n",
        "35 XP\n",
        "1\n",
        "Display all settings."
      ],
      "metadata": {
        "id": "HkGV8odK1h-i"
      }
    },
    {
      "cell_type": "code",
      "source": [
        "  git config list"
      ],
      "metadata": {
        "id": "c37bNqGk1iYU"
      },
      "execution_count": null,
      "outputs": []
    },
    {
      "cell_type": "markdown",
      "source": [
        "Instructions 2/3\n",
        "\n",
        "Change the email address to I_love_Git@datacamp.com."
      ],
      "metadata": {
        "id": "m_iI-KMt13lg"
      }
    },
    {
      "cell_type": "code",
      "source": [
        "git config --global I_love_Git@datacamp.com"
      ],
      "metadata": {
        "id": "OVrTFd7115AP"
      },
      "execution_count": null,
      "outputs": []
    },
    {
      "cell_type": "markdown",
      "source": [
        "Instructions 3/3\n",
        "Check the --global settings to see if the update has been made.\n"
      ],
      "metadata": {
        "id": "8_V8IvbY6Azk"
      }
    },
    {
      "cell_type": "code",
      "source": [
        "git config --global --list"
      ],
      "metadata": {
        "id": "WRSJ8Ohw6FPU"
      },
      "execution_count": null,
      "outputs": []
    },
    {
      "cell_type": "markdown",
      "source": [
        "# Creating an alias\n",
        "As you work with Git more regularly, you will likely notice that you are performing certain tasks repetitively.\n",
        "\n",
        "In this case, you have noticed that you are often checking which files have been modified and where you are in the workflow.\n",
        "\n",
        "Therefore, you will change the command used to check the state of files to an alias, allowing you to save time.\n",
        "\n",
        "Instructions 1/2\n",
        "50 XP\n",
        "1\n",
        "Create a global alias for the status command used to check the state of files, calling it st."
      ],
      "metadata": {
        "id": "-Yvqw7ae6cej"
      }
    },
    {
      "cell_type": "code",
      "source": [
        "git config --global alias.st 'status'"
      ],
      "metadata": {
        "id": "5VYGZUu96cyk"
      },
      "execution_count": null,
      "outputs": []
    },
    {
      "cell_type": "markdown",
      "source": [
        "Instructions 2/2\n",
        "Run the new alias command to confirm it works."
      ],
      "metadata": {
        "id": "7hBaPyPP7Ang"
      }
    },
    {
      "cell_type": "code",
      "source": [
        "git st"
      ],
      "metadata": {
        "id": "BP2Rbqky7Krm"
      },
      "execution_count": null,
      "outputs": []
    },
    {
      "cell_type": "markdown",
      "source": [
        "# Ignoring files\n",
        "Data analysis often produces temporary or intermediate files that you don't want to save.\n",
        "\n",
        "You can tell it to stop paying attention to files you don't care about by creating a file in the root directory of your repository called .gitignore and storing a list of wildcard patterns that specify the files you don't want Git to pay attention to.\n",
        "\n",
        "Which of the following files would not be ignored by a .gitignore that contained the lines:\n",
        "```\n",
        "pdf\n",
        "*.py\n",
        "*.log\n",
        "backup/*\n",
        "```"
      ],
      "metadata": {
        "id": "ywcB72jP7Z2K"
      }
    },
    {
      "cell_type": "code",
      "source": [
        "report.pdf"
      ],
      "metadata": {
        "id": "pvOc4zMf7cSV"
      },
      "execution_count": null,
      "outputs": []
    },
    {
      "cell_type": "markdown",
      "source": [
        "# Creating new branches\n",
        "You have finalized the data for the mh_survey project, so you can now move on to the report phase. Therefore, you would like to make a new branch called report where you can work on the project report.\n",
        "\n",
        "The branch needs to be created from the summary-statistics branch, in which you are currently located.\n",
        "\n",
        "Your task is to finish working on the summary statistics text file, make a commit, then create the report branch.\n",
        "\n",
        "Instructions 1/3\n",
        "35 XP\n",
        "1\n",
        "Add the updated summary_statistics.txt to the staging area."
      ],
      "metadata": {
        "id": "xptrWyoKH2tq"
      }
    },
    {
      "cell_type": "code",
      "source": [
        "git add summary_statistics.txt"
      ],
      "metadata": {
        "id": "d7Y6xgDDH3Ie"
      },
      "execution_count": null,
      "outputs": []
    },
    {
      "cell_type": "markdown",
      "source": [
        "Instructions 2/3\n",
        "Make a commit with the log message \"Adding age summary statistics\"."
      ],
      "metadata": {
        "id": "b4GAz-qdH81M"
      }
    },
    {
      "cell_type": "code",
      "source": [
        "git commit -m \"Adding age summary statistics\""
      ],
      "metadata": {
        "id": "q4WaBrEmIJRo"
      },
      "execution_count": null,
      "outputs": []
    },
    {
      "cell_type": "markdown",
      "source": [
        "Instructions 3/3\n",
        "Create a new branch called report."
      ],
      "metadata": {
        "id": "eqPqRwsSIMOO"
      }
    },
    {
      "cell_type": "code",
      "source": [
        "git checkout -b report"
      ],
      "metadata": {
        "id": "5vvkOT25IO9d"
      },
      "execution_count": null,
      "outputs": []
    },
    {
      "cell_type": "markdown",
      "source": [
        "# Checking the number of branches\n",
        "You've seen how to create new branches and develop in them, but it's also important to be able to identify the number of branches in a repo so you can keep track of concurrent development across your project.\n",
        "\n",
        "You are in the mh_survey repos—how many branches are there?\n",
        "\n",
        "Instructions\n",
        "50 XP\n",
        "Possible answers\n",
        "\n",
        "\n",
        "2\n",
        "\n",
        "4\n",
        "\n",
        "6\n",
        "\n",
        "1"
      ],
      "metadata": {
        "id": "liGl8wYXIfTX"
      }
    },
    {
      "cell_type": "code",
      "source": [
        "git branch"
      ],
      "metadata": {
        "id": "CXYZdQtuIfp4"
      },
      "execution_count": null,
      "outputs": []
    },
    {
      "cell_type": "markdown",
      "source": [
        "# Comparing branches\n",
        "If you're working across multiple branches then you may want to compare the state of repos between branches from time to time.\n",
        "\n",
        "You are in the mh_survey repository and would like to compare two branches.\n",
        "\n",
        "Instructions\n",
        "100 XP\n",
        "Execute a command to compare the alter-report-title and summary-statistics branches."
      ],
      "metadata": {
        "id": "oYYbkwnIIpp1"
      }
    },
    {
      "cell_type": "code",
      "source": [
        "git diff alter-report-title summary-statistics"
      ],
      "metadata": {
        "id": "u-gxz3fPIp8E"
      },
      "execution_count": null,
      "outputs": []
    },
    {
      "cell_type": "markdown",
      "source": [
        "# Switching branches\n",
        "You have previously created a new branch called report.\n",
        "\n",
        "Now it's time to switch into this new branch and edit report.md with some of your findings.\n",
        "\n",
        "Instructions 1/4\n",
        "25 XP\n",
        "1\n",
        "Switch to the report branch."
      ],
      "metadata": {
        "id": "-UuhYcG0ap9z"
      }
    },
    {
      "cell_type": "code",
      "source": [
        "git checkout report"
      ],
      "metadata": {
        "id": "IwzObtqNar11"
      },
      "execution_count": null,
      "outputs": []
    },
    {
      "cell_type": "markdown",
      "source": [
        "Instructions 2/4\n",
        "Add \"80% of participants were male, compared to the industry average of 67%.\" to the end of report.md."
      ],
      "metadata": {
        "id": "qp4SROyBawCj"
      }
    },
    {
      "cell_type": "code",
      "source": [
        "nano report.md"
      ],
      "metadata": {
        "id": "1Ytm0_iPayAm"
      },
      "execution_count": null,
      "outputs": []
    },
    {
      "cell_type": "code",
      "source": [
        "80% of participants were male, compared to the industry average of 67%."
      ],
      "metadata": {
        "id": "m2O5KmivbY5_"
      },
      "execution_count": null,
      "outputs": []
    },
    {
      "cell_type": "markdown",
      "source": [
        "Instructions 3/4\n",
        "Place report.md into the staging area."
      ],
      "metadata": {
        "id": "HYF8QbnYbbop"
      }
    },
    {
      "cell_type": "code",
      "source": [
        "git add report.md"
      ],
      "metadata": {
        "id": "pxHeYcFWbkmi"
      },
      "execution_count": null,
      "outputs": []
    },
    {
      "cell_type": "markdown",
      "source": [
        "Instructions 4/4\n",
        "Make a commit with the log message \"Add gender summary in report\"."
      ],
      "metadata": {
        "id": "PvGkAcXSbml0"
      }
    },
    {
      "cell_type": "code",
      "source": [
        "git commit -m \"Add gender summary in report\""
      ],
      "metadata": {
        "id": "Sef4vlESbo4p"
      },
      "execution_count": null,
      "outputs": []
    },
    {
      "cell_type": "markdown",
      "source": [
        "# Merging two branches\n",
        "You've updated the project report in the report branch, and now need to merge it into main to keep it accurate and up to date.\n",
        "\n",
        "Instructions\n",
        "100 XP\n",
        "Merge the report branch into the main branch."
      ],
      "metadata": {
        "id": "ciXu3CLib3Fz"
      }
    },
    {
      "cell_type": "code",
      "source": [
        "git merge report main"
      ],
      "metadata": {
        "id": "f4xHHB9Cb3Zb"
      },
      "execution_count": null,
      "outputs": []
    },
    {
      "cell_type": "markdown",
      "source": [
        "# Resolving a conflict\n",
        "You've added a reminder to the report.md and then switched to the summary-statistics branch.\n",
        "\n",
        "You remember that you need that extra task from the report in this branch too, so you decide to add it and make a commit.\n",
        "\n",
        "You're now ready to merge summary-statistics into main but there is a conflict in report.md.\n",
        "\n",
        "Looks like there was an error when adding the task into report.md in the summary-statistics branch.\n",
        "\n",
        "You'll need to resolve any conflicts to merge the branches.\n",
        "\n",
        "Instructions\n",
        "100 XP\n",
        "Edit report.md in the nano text editor, removing content from the summary_statistics branch along with any Git conflict syntax."
      ],
      "metadata": {
        "id": "e2V2d7Xca8R8"
      }
    },
    {
      "cell_type": "code",
      "source": [
        "nano report.md"
      ],
      "metadata": {
        "id": "AeFckqlXa8m1"
      },
      "execution_count": null,
      "outputs": []
    }
  ]
}