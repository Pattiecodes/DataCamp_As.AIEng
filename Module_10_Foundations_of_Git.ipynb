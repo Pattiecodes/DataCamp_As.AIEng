{
  "nbformat": 4,
  "nbformat_minor": 0,
  "metadata": {
    "colab": {
      "provenance": [],
      "authorship_tag": "ABX9TyPpGu/72a5k0IQQYMTJPD/f",
      "include_colab_link": true
    },
    "kernelspec": {
      "name": "python3",
      "display_name": "Python 3"
    },
    "language_info": {
      "name": "python"
    }
  },
  "cells": [
    {
      "cell_type": "markdown",
      "metadata": {
        "id": "view-in-github",
        "colab_type": "text"
      },
      "source": [
        "<a href=\"https://colab.research.google.com/github/Pattiecodes/DataCamp_As.AIEng/blob/main/Module_10_Foundations_of_Git.ipynb\" target=\"_parent\"><img src=\"https://colab.research.google.com/assets/colab-badge.svg\" alt=\"Open In Colab\"/></a>"
      ]
    },
    {
      "cell_type": "markdown",
      "source": [
        "# --- Module 10 starts here ---\n",
        "\n",
        "NOTE: Codes in this module are ran in a virtual Shell terminal"
      ],
      "metadata": {
        "id": "sqPfEZEz5bW7"
      }
    },
    {
      "cell_type": "markdown",
      "source": [
        "# Using the shell\n",
        "Git commands are typically performed using the Shell.\n",
        "\n",
        "Understanding some common shell commands allows you to perform more of your Git workflow in the shell without having to spend time navigating different programs.\n",
        "\n",
        "In this exercise, you will practice some of these commands.\n",
        "\n",
        "Find out how many files and directories are in the data directory.\n",
        "\n",
        "Instructions\n",
        "50 XP\n",
        "Possible answers\n",
        "\n",
        "\n",
        "Two\n",
        "\n",
        "One\n",
        "\n",
        "Three\n",
        "\n"
      ],
      "metadata": {
        "id": "7hNAEgmq0J9-"
      }
    },
    {
      "cell_type": "code",
      "execution_count": null,
      "metadata": {
        "id": "1xclIkti5VOM"
      },
      "outputs": [],
      "source": [
        "cd data\n",
        "ls"
      ]
    },
    {
      "cell_type": "markdown",
      "source": [
        "# Checking the version of Git\n",
        "Just like you need to know what version of a file you are working with, it's important to understand which version of Git is installed on your computer so you're aware of what functionality it offers.\n",
        "\n",
        "Instructions\n",
        "100 XP\n",
        "Using the terminal, enter the command to find out what version of Git is installed."
      ],
      "metadata": {
        "id": "WKDn90Av0Ptf"
      }
    },
    {
      "cell_type": "code",
      "source": [
        "git --version"
      ],
      "metadata": {
        "id": "5p4LXZRg0QJE"
      },
      "execution_count": null,
      "outputs": []
    },
    {
      "cell_type": "markdown",
      "source": [
        "# Adding a file\n",
        "For the remainder of the course, you will be working on a Git project analyzing the mental health of employees working at tech companies.\n",
        "\n",
        "In this exercise, you will complete a version control workflow to save an updated copy of mental_health_survey.csv file.\n",
        "\n",
        "You are located in mh_survey/data, which contains the csv file that has been recently edited.\n",
        "\n",
        "Instructions 1/2\n",
        "50 XP\n",
        "1\n",
        "Place the updated file in the staging area."
      ],
      "metadata": {
        "id": "fT0wEZJh0RZ4"
      }
    },
    {
      "cell_type": "code",
      "source": [
        "git add ."
      ],
      "metadata": {
        "id": "56KGk331E8HP"
      },
      "execution_count": null,
      "outputs": []
    },
    {
      "cell_type": "markdown",
      "source": [
        "Instructions 2/2\n",
        "2\n",
        "Commit the modified file with the log message \"Adding one new participant's data\""
      ],
      "metadata": {
        "id": "AfVDbgeYFEsi"
      }
    },
    {
      "cell_type": "code",
      "source": [
        "git commit -m \"Adding one new participant's data\""
      ],
      "metadata": {
        "id": "SCgqiLxBFHbR"
      },
      "execution_count": null,
      "outputs": []
    },
    {
      "cell_type": "markdown",
      "source": [
        "# Adding multiple files\n",
        "You've added one more task to the report.md and an extra row of participant data tomental_health_survey.csv files:\n",
        "\n",
        "report.md:\n",
        "\n",
        "TODO: Add data visualizations.\n",
        "mental_health_survey.csv:\n",
        "\n",
        "49,M,No,Yes,Never,Yes,Yes,No\n",
        "You need to figure out which files are in the repo, and which are in the staging area, so you can update everything.\n",
        "\n",
        "Instructions 1/3\n",
        "35 XP\n",
        "1\n",
        "Check which files are in the staging area but not yet committed."
      ],
      "metadata": {
        "id": "cZDyHcB8Fg85"
      }
    },
    {
      "cell_type": "code",
      "source": [
        "git status"
      ],
      "metadata": {
        "id": "5TBe4GniFhTW"
      },
      "execution_count": null,
      "outputs": []
    },
    {
      "cell_type": "markdown",
      "source": [
        "Instructions 2/3\n",
        "2\n",
        "Add all files in your current directory and all subdirectories into the staging area."
      ],
      "metadata": {
        "id": "Xbs_CHVxFlK2"
      }
    },
    {
      "cell_type": "code",
      "source": [
        "git add ."
      ],
      "metadata": {
        "id": "AIQCPA8KFnjv"
      },
      "execution_count": null,
      "outputs": []
    },
    {
      "cell_type": "markdown",
      "source": [
        "Instructions 3/3\n",
        "Commit all files in the staging area with the log message\n",
        "```\n",
        "\"Added 3 participants and a new section in report\"\n",
        "```"
      ],
      "metadata": {
        "id": "2nmKISAMFqW0"
      }
    },
    {
      "cell_type": "code",
      "source": [
        "git commit -m \"Added 3 participants and a new section in report\""
      ],
      "metadata": {
        "id": "mEm_hiyGFwXU"
      },
      "execution_count": null,
      "outputs": []
    },
    {
      "cell_type": "markdown",
      "source": [
        "# What has changed?\n",
        "Checking how the current version of a file compares to the last saved version can help keep track of the last round of edits, particularly if you need to revert to a previous version.\n",
        "\n",
        "You have been placed in the data directory of the mh_survey repo.\n",
        "\n",
        "How many lines have been added to the current version of mental_health_survey.csv compared to the version in the latest commit?\n",
        "\n",
        "Possible answers\n",
        "\n",
        "\n",
        "48\n",
        "\n",
        "3\n",
        "\n",
        "4\n",
        "\n",
        "1"
      ],
      "metadata": {
        "id": "ixWm_7P-F6fB"
      }
    },
    {
      "cell_type": "code",
      "source": [
        "git diff mental_health_survey_.csv"
      ],
      "metadata": {
        "id": "cRNTwERMR-qt"
      },
      "execution_count": null,
      "outputs": []
    },
    {
      "cell_type": "markdown",
      "source": [
        "# What is going to be committed?\n",
        "Sometimes you could be on the verge of making a new commit and want to double-check if any other files need to be included.\n",
        "\n",
        "You have been put in the mh_survey repo, where data/mental_health_survey.csv has been added to the staging area.\n",
        "\n",
        "Note: if the terminal output does not fit on your screen, you can scroll down using Enter and quit the view using q.\n",
        "\n",
        "Instructions 1/3\n",
        "30 XP\n",
        "1. Use a command to see how all files differ from the last saved revision."
      ],
      "metadata": {
        "id": "9nd5SP1jScE3"
      }
    },
    {
      "cell_type": "code",
      "source": [
        "git diff -r HEAD"
      ],
      "metadata": {
        "id": "D-imilhvSdtQ"
      },
      "execution_count": null,
      "outputs": []
    },
    {
      "cell_type": "markdown",
      "source": [
        "Instructions 2/3\n",
        "Use a Git command to add only report.md to the staging area."
      ],
      "metadata": {
        "id": "E1GnHSkwSgmt"
      }
    },
    {
      "cell_type": "code",
      "source": [
        "git add report.md"
      ],
      "metadata": {
        "id": "Tn-TOf-nSj0o"
      },
      "execution_count": null,
      "outputs": []
    },
    {
      "cell_type": "markdown",
      "source": [
        "Instructions 3/3\n",
        "Commit all files with the log message \"New participant data and reminder for analysis\"."
      ],
      "metadata": {
        "id": "bvW6Dtx9TAfH"
      }
    },
    {
      "cell_type": "code",
      "source": [
        "git commit -m \"New participant data and reminder for analysis\""
      ],
      "metadata": {
        "id": "POWD9fG-TB_S"
      },
      "execution_count": null,
      "outputs": []
    },
    {
      "cell_type": "markdown",
      "source": [
        "# Viewing a repository's history\n",
        "Recall that every commit has a unique identifier called a hash.\n",
        "\n",
        "Git has a command you can use to display all commits made to a repo, along with the hash, author, and time of the commit.\n",
        "\n",
        "Using the console, run a command to find the hash of the commit that added a summary report file.\n",
        "\n",
        "Instructions\n",
        "50 XP\n",
        "Possible answers\n",
        "\n",
        "\n",
        "7f71eade\n",
        "\n",
        "1182c282\n",
        "\n",
        "36b761e4\n",
        "\n",
        "e39ecc89"
      ],
      "metadata": {
        "id": "WLgPbiYk0zIn"
      }
    },
    {
      "cell_type": "code",
      "source": [
        "git log"
      ],
      "metadata": {
        "id": "VvmiRHRB0z0D"
      },
      "execution_count": null,
      "outputs": []
    },
    {
      "cell_type": "markdown",
      "source": [
        "# Viewing a specific commit\n",
        "A common workflow with Git is to view all commits, then compare files between a specific commit and the current version of the file.\n",
        "\n",
        "You are located in mh_survey.\n",
        "\n",
        "In this exercise, you will look into the commit history for report.md.\n",
        "\n",
        "Instructions 1/2\n",
        "50 XP\n",
        "1\n",
        "Use a command to display the repo's history."
      ],
      "metadata": {
        "id": "DR6j8-0O06QS"
      }
    },
    {
      "cell_type": "code",
      "source": [
        "git log"
      ],
      "metadata": {
        "id": "2IdswVsX07Fh"
      },
      "execution_count": null,
      "outputs": []
    },
    {
      "cell_type": "markdown",
      "source": [
        "Instructions 2/2\n",
        "Show the difference between the latest version of report.md and the version in the commit that added a funding source citation reminder."
      ],
      "metadata": {
        "id": "-X3e8KcJ1E_0"
      }
    },
    {
      "cell_type": "code",
      "source": [
        "git show 36b761e"
      ],
      "metadata": {
        "id": "5Bfs3kqW1HjG"
      },
      "execution_count": null,
      "outputs": []
    },
    {
      "cell_type": "markdown",
      "source": [
        "# Comparing to the second most recent commit\n",
        "Being able to look at what happened in a specific commit is useful to check how files have changed over time.\n",
        "\n",
        "Use an appropriate command to find out the changes in the second most recent commit compared to its parent commit.\n",
        "\n",
        "Choose the answer reflecting what changes occurred.\n",
        "\n",
        "Instructions\n",
        "50 XP\n",
        "Possible answers\n",
        "\n",
        "\n",
        "mental_health_survey.csv had three lines added.\n",
        "\n",
        "report.md had one line added.\n",
        "\n",
        "mental_health_survey.csv had 47 lines added.\n",
        "\n",
        "report.md had three lines added."
      ],
      "metadata": {
        "id": "POvp7Rd91T4h"
      }
    },
    {
      "cell_type": "code",
      "source": [
        "git diff -r HEAD~2"
      ],
      "metadata": {
        "id": "6hi6Y7A8gg3A"
      },
      "execution_count": null,
      "outputs": []
    },
    {
      "cell_type": "markdown",
      "source": [
        "# Comparing commits\n",
        "Not only can Git be used to check what changed in a specific commit, it also allows you to compare changes between commits!\n",
        "\n",
        "Which files were modified between the fourth most recent and second most recent commits?\n",
        "\n",
        "Instructions\n",
        "50 XP\n",
        "Possible answers\n",
        "\n",
        "\n",
        "report.md\n",
        "\n",
        "mental_health_survey.csv\n",
        "\n",
        "report.md and mental_health_survey.csv\n",
        "\n",
        "report.md, summary_statistics.csv, and mental_health_survey.csv"
      ],
      "metadata": {
        "id": "N5bytSEshhzh"
      }
    },
    {
      "cell_type": "code",
      "source": [
        "git log"
      ],
      "metadata": {
        "id": "sVujHyO5hmzg"
      },
      "execution_count": null,
      "outputs": []
    },
    {
      "cell_type": "markdown",
      "source": [
        "# Who changed what?\n",
        "Sometimes you need to see more detail than the commands you've used previously can provide.\n",
        "\n",
        "Your task is to use an appropriate command to show changes such as author, change made, time of change, and commit hash, for report.md.\n",
        "\n",
        "Instructions\n",
        "100 XP\n",
        "Display line-by-line changes and associated metadata for report.md."
      ],
      "metadata": {
        "id": "ACKKbDhcij8J"
      }
    },
    {
      "cell_type": "code",
      "source": [
        "git annotate report.md"
      ],
      "metadata": {
        "id": "Rh9BbCp2ilHt"
      },
      "execution_count": null,
      "outputs": []
    },
    {
      "cell_type": "markdown",
      "source": [
        "# How to unstage a file\n",
        "You've been working on the Mental Health in Tech project and have added mental_health_survey.csv to the staging area.\n",
        "\n",
        "However, you've just received data from one more participant.\n",
        "\n",
        "Instructions 1/4\n",
        "25 XP\n",
        "1\n",
        "Unstage mental_health_survey.csv."
      ],
      "metadata": {
        "id": "qe886Kub3ZUQ"
      }
    },
    {
      "cell_type": "code",
      "source": [
        "git reset HEAD mental_health_survey.csv"
      ],
      "metadata": {
        "id": "NUIErZ-J7KCr"
      },
      "execution_count": null,
      "outputs": []
    },
    {
      "cell_type": "markdown",
      "source": [
        "Instructions 2/4\n",
        "Add 41,M,Yes,No,No,No,Often,Yes to the end of mental_health_survey.csv."
      ],
      "metadata": {
        "id": "3Fm2dqkH7gNw"
      }
    },
    {
      "cell_type": "code",
      "source": [
        "nano mental_health_survey.csv\n",
        "41,M,Yes,No,No,No,Often,Yes\n",
        " (CMD+O)\n",
        " (Enter)\n",
        " (Y)\n",
        " (Y)\n",
        " (CMD+X)"
      ],
      "metadata": {
        "id": "ZWDbcg3U7iBl"
      },
      "execution_count": null,
      "outputs": []
    },
    {
      "cell_type": "markdown",
      "source": [
        "Instructions 3/4\n",
        "Restage this file"
      ],
      "metadata": {
        "id": "JduKL-lz8fWy"
      }
    },
    {
      "cell_type": "code",
      "source": [
        "git add mental_health_survey.csv"
      ],
      "metadata": {
        "id": "pKIdAcM08jC8"
      },
      "execution_count": null,
      "outputs": []
    },
    {
      "cell_type": "markdown",
      "source": [
        "Instructions 4/4\n",
        "Make a commit with the log message \"Extra participant\"."
      ],
      "metadata": {
        "id": "d25MV7qY8v5I"
      }
    },
    {
      "cell_type": "code",
      "source": [
        "git commit -m \"Extra participant\""
      ],
      "metadata": {
        "id": "tK32jcdQ8ygb"
      },
      "execution_count": null,
      "outputs": []
    },
    {
      "cell_type": "markdown",
      "source": [
        "# Undoing changes\n",
        "git reset is useful for unstaging files, but what if you need to undo changes made to a file that is not in the staging area?\n",
        "\n",
        "You've been working on the report.md file, but have not yet saved the file. You have just realized that the summary statistics changed with the addition of the last participant's data. As a result, you are not ready to add graphs to your report and would like to discard your recent edits.\n",
        "\n",
        "Your task is to use a Git command that will discard the changes made to report.md, restoring it to the last saved version.\n",
        "\n",
        "Instructions\n",
        "100 XP\n",
        "Undo the changes made to report.md."
      ],
      "metadata": {
        "id": "Id5-REBQ82e-"
      }
    },
    {
      "cell_type": "code",
      "source": [
        "git checkout -- report.md"
      ],
      "metadata": {
        "id": "_NHP3w5v9AZo"
      },
      "execution_count": null,
      "outputs": []
    },
    {
      "cell_type": "markdown",
      "source": [
        "# Undoing all changes\n",
        "You've been practicing your shell command skills to edit files when you realize you've accidentally been adding content to the wrong files—the report.md file now has participant data in, and you've added some summary statistics into the mental_health_survey.csv file!\n",
        "\n",
        "You have already added these files to the staging area.\n",
        "\n",
        "You will need to perform a couple of commands to undo these changes.\n",
        "\n",
        "Instructions 1/2\n",
        "50 XP\n",
        "1\n",
        "Remove all files from the staging area.\n",
        "\n"
      ],
      "metadata": {
        "id": "d83y5ApD9egq"
      }
    },
    {
      "cell_type": "code",
      "source": [
        "git reset HEAD"
      ],
      "metadata": {
        "id": "JfWP8chh9gS7"
      },
      "execution_count": null,
      "outputs": []
    },
    {
      "cell_type": "markdown",
      "source": [
        "Instructions 2/2\n",
        "Undo changes to all unstaged files since the last commit."
      ],
      "metadata": {
        "id": "GVBors769n4K"
      }
    },
    {
      "cell_type": "code",
      "source": [
        "git checkout ."
      ],
      "metadata": {
        "id": "hANwIzlf9tvK"
      },
      "execution_count": null,
      "outputs": []
    },
    {
      "cell_type": "markdown",
      "source": [
        "# Restoring an old version of a repo\n",
        "Restoring versions of files can be extremely powerful and useful, particularly if you've made a mistake and can pinpoint when it occurred.\n",
        "\n",
        "You've been working on the mental health in tech project for a couple of days when you spot an error in the participant data held in mental_health_survey.csv. Since then, you've modified report.md, summary_statistics.csv, and created a references document.\n",
        "\n",
        "Therefore, you need to restore versions of all of these files to the second to last commit, which is where the error occurred.\n",
        "\n",
        "Instructions\n",
        "100 XP\n",
        "Use a command to restore all files to their version located in the commit with a hash starting 7f71eade.\n"
      ],
      "metadata": {
        "id": "y-u-fc7q9xki"
      }
    },
    {
      "cell_type": "code",
      "source": [
        "git checkout 7f71eade"
      ],
      "metadata": {
        "id": "h5Dd1fyFxt4i"
      },
      "execution_count": null,
      "outputs": []
    },
    {
      "cell_type": "markdown",
      "source": [
        "# Restoring an old version of a file\n",
        "You previously saw how to use git checkout to undo the changes that you made since the last commit. This command can also be used to go back even further into a file's history and restore versions of that file from an older commit. In this way, you can think of committing as saving your work and checking out as loading that saved version.\n",
        "\n",
        "Your task is to restore a file to a previous version and update the repo so it contains this as the current version of the file.\n",
        "\n",
        "Instructions 1/4\n",
        "25 XP\n",
        "1\n",
        "Display the last two commits for the report.md file."
      ],
      "metadata": {
        "id": "GJqsErWbyBzq"
      }
    },
    {
      "cell_type": "code",
      "source": [
        "git log -2 report.md"
      ],
      "metadata": {
        "id": "vbZXv6T6yCN0"
      },
      "execution_count": null,
      "outputs": []
    }
  ]
}