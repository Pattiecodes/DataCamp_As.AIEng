{
  "nbformat": 4,
  "nbformat_minor": 0,
  "metadata": {
    "colab": {
      "provenance": [],
      "authorship_tag": "ABX9TyOg1mDomN7XCrxDanstUjBO",
      "include_colab_link": true
    },
    "kernelspec": {
      "name": "python3",
      "display_name": "Python 3"
    },
    "language_info": {
      "name": "python"
    }
  },
  "cells": [
    {
      "cell_type": "markdown",
      "metadata": {
        "id": "view-in-github",
        "colab_type": "text"
      },
      "source": [
        "<a href=\"https://colab.research.google.com/github/Pattiecodes/DataCamp_As.AIEng/blob/main/Module_12_Introduction_to_Testing_in_Python.ipynb\" target=\"_parent\"><img src=\"https://colab.research.google.com/assets/colab-badge.svg\" alt=\"Open In Colab\"/></a>"
      ]
    },
    {
      "cell_type": "markdown",
      "source": [
        "# --- Module Start ---"
      ],
      "metadata": {
        "id": "vr0x7BKUHJZH"
      }
    },
    {
      "cell_type": "markdown",
      "source": [
        "# The first test suite\n",
        "In this exercise, you will write the first test suite that includes the types of tests that you have learned using the pytest library.\n",
        "\n",
        "The function multiple_of_two checks whether the num is a multiple of 2 or not. You will implement and run two regular assert tests.\n",
        "\n",
        "The pytest package has already been imported.\n",
        "\n",
        "Instructions 1/2\n",
        "50 XP\n",
        "1\n",
        "2\n",
        "Write an assert statement that is expected to be True."
      ],
      "metadata": {
        "id": "tzqO9zxHHNGY"
      }
    },
    {
      "cell_type": "code",
      "execution_count": null,
      "metadata": {
        "id": "aVcgGRqIEcEw"
      },
      "outputs": [],
      "source": [
        "def multiple_of_two(num):\n",
        "    if num == 0:\n",
        "        raise(ValueError)\n",
        "    return num % 2 == 0\n",
        "\n",
        "def test_numbers():\n",
        "    # Write the \"True\" test below\n",
        "    assert multiple_of_two(2) is True"
      ]
    },
    {
      "cell_type": "markdown",
      "source": [
        "Instructions 2/2\n",
        "Write an assert statement that is expected to be False."
      ],
      "metadata": {
        "id": "mlUbPbI1HXmx"
      }
    },
    {
      "cell_type": "code",
      "source": [
        "def multiple_of_two(num):\n",
        "    if num == 0:\n",
        "        raise(ValueError)\n",
        "    return num % 2 == 0\n",
        "\n",
        "def test_numbers():\n",
        "    assert multiple_of_two(2) is True\n",
        "    # Write the \"False\" test below\n",
        "    assert multiple_of_two(3) is False"
      ],
      "metadata": {
        "id": "2OyA7gpcHYm9"
      },
      "execution_count": null,
      "outputs": []
    },
    {
      "cell_type": "markdown",
      "source": [
        "# pytest.raises\n",
        "In this exercise, you will continue writing the first test suite using the pytest library.\n",
        "\n",
        "The function multiple_of_two checks whether the num is a multiple of 2 or not. In this exercise, you will implement a test that expects to raise an Exception.\n",
        "\n",
        "The pytest package has been imported.\n",
        "\n",
        "Instructions\n",
        "100 XP\n",
        "Define a context manager for the exception test.\n",
        "Write a test to check that the zero input multiple_of_two(num=0) results in the ValueError exception."
      ],
      "metadata": {
        "id": "edCGGN45Hxre"
      }
    },
    {
      "cell_type": "code",
      "source": [
        "def multiple_of_two(num):\n",
        "    if num == 0:\n",
        "        raise(ValueError)\n",
        "    return num % 2 == 0\n",
        "\n",
        "def test_zero():\n",
        "  \t# Add a context for an exception test here\n",
        "    with pytest.raises(ValueError):\n",
        "      \t# Check zero input below\n",
        "        multiple_of_two(0)"
      ],
      "metadata": {
        "id": "DjoTUioAHx8f"
      },
      "execution_count": null,
      "outputs": []
    },
    {
      "cell_type": "markdown",
      "source": [
        "# Run the test!\n",
        "Yay! Your pytest test suite is ready to be launched. Now you will enter a simple command to run the test suite you developed in the previous exercise. Let's run the tests via the command-line interface.\n",
        "\n",
        "A quick overview of the exercise: you can find the exercise instructions below this section, the run_the_test.py script on the right, and the terminal at the bottom (below the script).\n",
        "\n",
        "Instructions\n",
        "100XP\n",
        "Add import of the pytest library to the code.\n",
        "Enter the pytest run_the_test.py command to CLI and press Enter.\n",
        "Press the \"Submit Answer\" button at the end."
      ],
      "metadata": {
        "id": "ZIHcZcrz1K2M"
      }
    },
    {
      "cell_type": "code",
      "source": [
        "# Import the pytest library\n",
        "import pytest\n",
        "\n",
        "def multiple_of_two(num):\n",
        "    if num == 0:\n",
        "        raise(ValueError)\n",
        "    return num % 2 == 0\n",
        "\n",
        "def test_numbers():\n",
        "    assert multiple_of_two(2) is True\n",
        "    assert multiple_of_two(3) is False\n",
        "\n",
        "def test_zero():\n",
        "    with pytest.raises(ValueError):\n",
        "        multiple_of_two(0)\n"
      ],
      "metadata": {
        "id": "pRmNlY1G1LKn"
      },
      "execution_count": null,
      "outputs": []
    },
    {
      "cell_type": "code",
      "source": [
        "# Run in CLI\n",
        "pytest run_the_test.py"
      ],
      "metadata": {
        "id": "e4VGeE231QCl"
      },
      "execution_count": null,
      "outputs": []
    },
    {
      "cell_type": "markdown",
      "source": [
        "# Run with the keyword\n",
        "Sometimes you want to run only the tests with a certain name (assuming that the names of the tests are meaningful). In this exercise, you will practice running tests with keyword selection. To be accurate, you have to run only the tests containing the word \"numbers\".\n",
        "\n",
        "Instructions\n",
        "100XP\n",
        "Add import of the pytest library to the code.\n",
        "Execute the pytest command to run run_the_test.py, specifying the keywords as \"numbers\".\n",
        "Press Enter.\n",
        "Press the \"Submit Answer\" button at the end."
      ],
      "metadata": {
        "id": "FLEMtAfN1Q1L"
      }
    },
    {
      "cell_type": "code",
      "source": [
        "# Import the pytest library\n",
        "import pytest\n",
        "\n",
        "def multiple_of_two(num):\n",
        "    if num == 0:\n",
        "        raise(ValueError)\n",
        "    return num % 2 == 0\n",
        "\n",
        "def test_numbers():\n",
        "    assert multiple_of_two(2) == True\n",
        "    assert multiple_of_two(3) == False\n",
        "\n",
        "def test_zero():\n",
        "    with pytest.raises(ValueError):\n",
        "        multiple_of_two(0)\n"
      ],
      "metadata": {
        "id": "dLHne--K1aIm"
      },
      "execution_count": null,
      "outputs": []
    },
    {
      "cell_type": "code",
      "source": [
        "# Run in CLI\n",
        "pytest run_the_test.py -k \"numbers\""
      ],
      "metadata": {
        "id": "bbZGvmMI1cAM"
      },
      "execution_count": null,
      "outputs": []
    },
    {
      "cell_type": "markdown",
      "source": [
        "# Failed tests with xfail\n",
        "In this exercise, you will use pytest markers for the first time in order to specify the behavior of the test. You have already seen the function multiple_of_two, which checks whether the num is a multiple of 2 or not. The pytest library was already imported for you.\n",
        "\n",
        "Instructions\n",
        "100 XP\n",
        "Add the correct pytest marker for a test that is expected to fail.\n",
        "Write any assert test that is expected to fail."
      ],
      "metadata": {
        "id": "vtaY2BNRsRne"
      }
    },
    {
      "cell_type": "code",
      "source": [
        "def multiple_of_two(num):\n",
        "    if num == 0:\n",
        "        raise(ValueError)\n",
        "    return num % 2 == 0\n",
        "\n",
        "# Add the pytest marker decorator here\n",
        "@pytest.mark.xfail\n",
        "def test_fails():\n",
        "    # Write any assert test that will fail\n",
        "    assert multiple_of_two('2 * 2 == 5') is True"
      ],
      "metadata": {
        "id": "lm1_UFsMsR9h"
      },
      "execution_count": null,
      "outputs": []
    },
    {
      "cell_type": "markdown",
      "source": [
        "# Conditional skipping\n",
        "Sometimes, you want to skip a test if some condition is met. For example, you want to conduct a test unless today is Saturday. In this case, you can use the datetime library for getting the current day of the week and the pytest marker for conditional skipping the test function. To pass a condition to the conditional skipping pytest marker, you can use @pytest.mark.skipif(condition) The pytest library was already imported for you.\n",
        "\n",
        "Instructions\n",
        "100 XP\n",
        "Add the \"conditional skip\" decorator to make it work.\n",
        "Add the condition_string into the decorator call.\n",
        "Complete the assertion tests."
      ],
      "metadata": {
        "id": "14qoiC-9s34K"
      }
    },
    {
      "cell_type": "code",
      "source": [
        "day_of_week = datetime.now().isoweekday()\n",
        "\n",
        "def get_unique_values(lst):\n",
        "    return list(set(lst))\n",
        "\n",
        "condition_string = 'day_of_week == 6'\n",
        "# Add the conditional skip marker and the string here\n",
        "@pytest.mark.skipif(condition_string)\n",
        "def test_function():\n",
        "\t# Complete the assertion tests here\n",
        "    assert get_unique_values([1,2,3]) == [1,2,3]\n",
        "    assert get_unique_values([1,2,3,1]) == [1,2,3]"
      ],
      "metadata": {
        "id": "u7NymW6Os4a8"
      },
      "execution_count": null,
      "outputs": []
    },
    {
      "cell_type": "markdown",
      "source": [
        "# Data preparation\n",
        "In this exercise you will create a fixture and finish test functions. Here, you have a simple data pipeline and some tests to check the data it returns. Since the tests goal is to check that the data is correct, it would be convenient to implement the pipeline as a fixture.\n",
        "\n",
        "Instructions 1/3\n",
        "35 XP\n",
        "1\n",
        "2\n",
        "3\n",
        "Start with importing the pytest package."
      ],
      "metadata": {
        "id": "fLTE-Hl0mSJJ"
      }
    },
    {
      "cell_type": "code",
      "source": [
        "# Import the pytest library\n",
        "import pytest"
      ],
      "metadata": {
        "id": "i3iNEw91mSa3"
      },
      "execution_count": null,
      "outputs": []
    },
    {
      "cell_type": "markdown",
      "source": [
        "Instructions 2/3\n",
        "35 XP\n",
        "3\n",
        "Declare the fixture decorator.\n",
        "Give your fixture function the name prepare_data()."
      ],
      "metadata": {
        "id": "n0Fhpj9GmbuW"
      }
    },
    {
      "cell_type": "code",
      "source": [
        "# Import the pytest library\n",
        "import pytest\n",
        "\n",
        "# --- Added code ---\n",
        "# Define the fixture decorator\n",
        "@pytest.fixture\n",
        "# Name the fixture function\n",
        "def prepare_data():\n",
        "    return [i for i in range(10)]"
      ],
      "metadata": {
        "id": "hpQTdQxCmb8G"
      },
      "execution_count": null,
      "outputs": []
    },
    {
      "cell_type": "markdown",
      "source": [
        "Instructions 3/3 Pass the prepare_data() to the test function.\n",
        "Create a test to ensure that prepare_data() contains 9 and does not contain 10."
      ],
      "metadata": {
        "id": "1CNF537Ymqo7"
      }
    },
    {
      "cell_type": "code",
      "source": [
        "# Import the pytest library\n",
        "import pytest\n",
        "\n",
        "# Define the fixture decorator\n",
        "@pytest.fixture\n",
        "# Name the fixture function\n",
        "def prepare_data():\n",
        "    return [i for i in range(10)]\n",
        "\n",
        "# Create the tests\n",
        "def test_elements(prepare_data):\n",
        "    assert 9 in prepare_data\n",
        "    assert 10 not in prepare_data"
      ],
      "metadata": {
        "id": "AhS9A3jBmrFC"
      },
      "execution_count": null,
      "outputs": []
    },
    {
      "cell_type": "markdown",
      "source": [
        "# Run with a fixture\n",
        "You will supplement the test that you made before with a fixture. It is really important that you run your tests after implementation, because that is the way to see the results.\n",
        "\n",
        "Instructions\n",
        "100XP\n",
        "Import the pytest library.\n",
        "Execute the CLI command to run the test from the terminal.\n",
        "Discover the output."
      ],
      "metadata": {
        "id": "wc-n9LUJniIB"
      }
    },
    {
      "cell_type": "code",
      "source": [
        "import pytest\n",
        "\n",
        "@pytest.fixture\n",
        "def prepare_data():\n",
        "    return [i for i in range(10)]\n",
        "\n",
        "def test_elements(prepare_data):\n",
        "    assert 9 in prepare_data\n",
        "    assert 10 not in prepare_data"
      ],
      "metadata": {
        "id": "Fn4X5rk1njCI"
      },
      "execution_count": null,
      "outputs": []
    },
    {
      "cell_type": "code",
      "source": [
        "# CLI\n",
        "pytest run_with_fixtures.py"
      ],
      "metadata": {
        "id": "4xtohdfeno3r"
      },
      "execution_count": null,
      "outputs": []
    },
    {
      "cell_type": "markdown",
      "source": [],
      "metadata": {
        "id": "zPKlONtznqvM"
      }
    }
  ]
}