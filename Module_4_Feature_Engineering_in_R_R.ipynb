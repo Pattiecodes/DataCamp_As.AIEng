{
  "nbformat": 4,
  "nbformat_minor": 0,
  "metadata": {
    "colab": {
      "provenance": [],
      "authorship_tag": "ABX9TyPyClgE2tEAE25Ujh/OvaFj",
      "include_colab_link": true
    },
    "kernelspec": {
      "name": "ir",
      "display_name": "R"
    },
    "language_info": {
      "name": "R"
    }
  },
  "cells": [
    {
      "cell_type": "markdown",
      "metadata": {
        "id": "view-in-github",
        "colab_type": "text"
      },
      "source": [
        "<a href=\"https://colab.research.google.com/github/Pattiecodes/DataCamp_As.AIEng/blob/main/Module_4_Feature_Engineering_in_R_R.ipynb\" target=\"_parent\"><img src=\"https://colab.research.google.com/assets/colab-badge.svg\" alt=\"Open In Colab\"/></a>"
      ]
    },
    {
      "cell_type": "markdown",
      "source": [
        "# --- Module Start ---\n",
        "\n"
      ],
      "metadata": {
        "id": "IbR-0h-jhcgE"
      }
    },
    {
      "cell_type": "markdown",
      "source": [
        "# A tentative model\n",
        "You are handed a data set with measures of the gravitational force between two bodies at different distances and are challenged to build a simple model to predict such force given a specific distance. Initially, you want to stick to simple linear regression. The data consist of 120 pairs of distance and force, and is loaded for you as newton.\n",
        "\n",
        "Instructions\n",
        "100 XP\n",
        "Build a linear model for the newton data using the linear model from base R function and assign it to lr_force.\n",
        "Create a new data frame df by binding the prediction values to the original newton data.\n",
        "Generate a scatterplot of force versus distance using ggplot().\n",
        "Add a regression line to the scatterplot with the fitted values."
      ],
      "metadata": {
        "id": "AenshZBrhfWw"
      }
    },
    {
      "cell_type": "code",
      "execution_count": null,
      "metadata": {
        "id": "Q-H6c9M3NtH1"
      },
      "outputs": [],
      "source": [
        "# Build a linear model for the newton the data and assign it to lr_force\n",
        "lr_force <- lm(force ~ distance, data = newton)\n",
        "\n",
        "# Create a new data frame by binding the prediction values to the original data\n",
        "df <- newton %>% bind_cols(lr_pred = predict(lr_force))\n",
        "\n",
        "# Generate a scatterplot of force vs. distance\n",
        "df %>%\n",
        "  ggplot(aes(x = distance, y = force)) +\n",
        "  geom_point() +\n",
        "# Add a regression line with the fitted values\n",
        "  geom_line(aes(y = lr_pred), color = \"blue\", lwd = .75) +\n",
        "  ggtitle(\"Linear regression of force vs. distance\") +\n",
        "  theme_classic()\n"
      ]
    },
    {
      "cell_type": "markdown",
      "source": [
        "# Manually engineering a feature\n",
        "After doing some research with your team, you recall that the gravitational force of attraction between two bodies obeys Newton's formula:\n",
        "\n",
        "\n",
        "$$\n",
        "F = G \\frac{m_1 m_2}{r^2}\n",
        "$$.\n",
        "\n",
        "You can't use the formula directly because the masses are unknown, but you can fit a regression model of force as a function of inv_square_distance. The augmented dataset df you built in the previous exercise has been loaded for you.\n",
        "\n",
        "Instructions\n",
        "100 XP\n",
        "Create a new variable inv_square_distance defined as the reciprocal of the squared distance and add it to the df data frame.\n",
        "Build a simple regression model using lm() of force versus inv_square_distance and save it as lr_force_2.\n",
        "Bind your predictions to df_inverse."
      ],
      "metadata": {
        "id": "lqcgdxddk5Np"
      }
    },
    {
      "cell_type": "code",
      "source": [
        "# Create a new variable inv_square_distance\n",
        "df_inverse <- df %>% mutate(inv_square_distance = 1/distance^2)\n",
        "\n",
        "# Build a simple regression model\n",
        "lr_force_2 <- lm(force ~ inv_square_distance, data = df_inverse)\n",
        "\n",
        "# Bind your predictions to df_inverse\n",
        "df_inverse <- df_inverse %>% bind_cols(lr2_pred = predict(lr_force_2))\n",
        "\n",
        "df_inverse %>% ggplot(aes(x = distance, y = force)) +\n",
        "  geom_point() +\n",
        "  geom_line(aes(y = lr2_pred), col = \"blue\", lwd = .75) +\n",
        "  ggtitle(\"Linear regression of force vs. inv_square_distance\") +\n",
        "  theme_classic()"
      ],
      "metadata": {
        "id": "RQcWKKqplkkI"
      },
      "execution_count": null,
      "outputs": []
    },
    {
      "cell_type": "markdown",
      "source": [
        "# Setting up your data for analysis\n",
        "You will look at a version of the nycflights13 dataset, loaded as flights. It contains information on flights departing from New York City. You are interested in predicting whether or not they will arrive late to their destination, but first, you need to set up the data for analysis.\n",
        "\n",
        "After discussing our model goals with a team of experts, you selected the following variables for your model: flight, sched_dep_time, dep_delay, sched_arr_time, carrier, origin, dest, distance, date, arrival.\n",
        "\n",
        "You will also mutate() the date using as.Date() and convert character type variables to factors.\n",
        "\n",
        "Lastly, you will split the data into train and test datasets.\n",
        "\n",
        "Instructions\n",
        "100 XP\n",
        "Transform all character-type variables to factors.\n",
        "Split the flights data into test and train sets."
      ],
      "metadata": {
        "id": "wkSM9aNz9NDC"
      }
    },
    {
      "cell_type": "code",
      "source": [
        "flights <- flights %>%\n",
        "  select(flight, sched_dep_time, dep_delay, sched_arr_time, carrier, origin, dest, distance, date, arrival) %>%\n",
        "\n",
        "# Tranform all character-type variables to factors\n",
        "  mutate(date = as.Date(date), across(where(is.character), as.factor))\n",
        "\n",
        "# Split the flights data into test and train sets\n",
        "set.seed(246)\n",
        "split <- flights %>% initial_split(prop = 3/4, strata = arrival)\n",
        "test <- testing(split)\n",
        "train <- training(split)\n",
        "\n",
        "test %>% select(arrival) %>% table() %>% prop.table()\n",
        "train %>% select(arrival) %>% table() %>% prop.table()"
      ],
      "metadata": {
        "id": "TFjviP9u9Ntc"
      },
      "execution_count": null,
      "outputs": []
    },
    {
      "cell_type": "markdown",
      "source": [
        "# Building a workflow\n",
        "With your data ready for analysis, you will declare a logistic_model() to predict whether or not they will arrive late.\n",
        "\n",
        "You assign the role of \"ID\" to the flight variable to keep it as a reference for analysis and debugging. From the date variable, you will create new features to explicitly model the effect of holidays and represent factors as dummy variables.\n",
        "\n",
        "Bundling your model and recipe() together using workflow()will help ensure that subsequent fittings or predictions will implement consistent feature engineering steps.\n",
        "\n",
        "Instructions\n",
        "100 XP\n",
        "Assign an \"ID\" role to flight.\n",
        "Bundle the model and the recipe into a workflow object.\n",
        "Fit lr_workflow to the test data.\n",
        "Tidy the fitted workflow."
      ],
      "metadata": {
        "id": "IBzXbsU7-FvB"
      }
    },
    {
      "cell_type": "code",
      "source": [
        "lr_model <- logistic_reg()\n",
        "\n",
        "# Assign an \"ID\" role to flight\n",
        "lr_recipe <- recipe(arrival ~., data = train) %>% update_role(flight, new_role = \"ID\") %>%\n",
        "  step_holiday(date, holidays = timeDate::listHolidays(\"US\")) %>% step_dummy(all_nominal_predictors())\n",
        "\n",
        "# Bundle the model and the recipe into a workflow object\n",
        "lr_workflow <- workflow() %>% add_model(lr_model) %>% add_recipe(lr_recipe)\n",
        "lr_workflow\n",
        "\n",
        "# Fit lr_workflow workflow to the test data\n",
        "lr_fit <- lr_workflow %>% fit(data = test)\n",
        "\n",
        "# Tidy the fitted workflow\n",
        "tidy(lr_fit)"
      ],
      "metadata": {
        "id": "GJqmQrKZ-GEx"
      },
      "execution_count": null,
      "outputs": []
    },
    {
      "cell_type": "markdown",
      "source": [
        "# Identifying missing values\n",
        "Attrition is a critical issue for corporations, as losing an employee implies not only the cost of recruiting and training a new one, but constitutes a loss in tacit knowledge and culture that is hard to recover.\n",
        "\n",
        "The attritiondataset has information on employee attrition including Age, WorkLifeBalance, DistanceFromHome, StockOptionLevel, and 27 others. Before continuing with your analysis, you want to detect any missing variables.\n",
        "\n",
        "The package naniar and the attritiondataset are already loaded for you."
      ],
      "metadata": {
        "id": "naUdrdzN4r9O"
      }
    },
    {
      "cell_type": "code",
      "source": [
        "# Explore missing data on the attrition dataset\n",
        "vis_miss(attrition)"
      ],
      "metadata": {
        "id": "FAhkTBOa4tAX"
      },
      "execution_count": null,
      "outputs": []
    },
    {
      "cell_type": "markdown",
      "source": [
        "Instructions 2/2\n",
        "\n",
        "Select the variables with missing values and visualize only those."
      ],
      "metadata": {
        "id": "qMAVIht-4uqe"
      }
    },
    {
      "cell_type": "code",
      "source": [
        "# Select the variables with missing values and rerun the analysis on those variables.\n",
        "attrition %>%\n",
        "  select(\"BusinessTravel\", \"DistanceFromHome\",\n",
        "         \"StockOptionLevel\", \"WorkLifeBalance\") %>%\n",
        "  vis_miss()"
      ],
      "metadata": {
        "id": "lC56zlJY4xNO"
      },
      "execution_count": null,
      "outputs": []
    },
    {
      "cell_type": "markdown",
      "source": [
        "#Imputing missing values and creating dummy variables\n",
        "After detecting missing values in the attrition dataset and determining that they are missing completely at random (MCAR), you decide to use K Nearest Neighbors (KNN) imputation. While configuring your feature engineering recipe, you decide to create dummy variables for all your nominal variables and update the role of the ...1 variable to \"ID\" so you can keep it in the dataset for reference, without affecting your model.\n",
        "\n",
        "Instructions\n",
        "100 XP\n",
        "Update the role of ...1 to \"ID\".\n",
        "Impute values to all predictors where data are missing.\n",
        "Create dummy variables for all nominal predictors."
      ],
      "metadata": {
        "id": "nDnBdTkQ5pjw"
      }
    },
    {
      "cell_type": "code",
      "source": [
        "lr_model <- logistic_reg()\n",
        "\n",
        "lr_recipe <-\n",
        "  recipe(Attrition ~., data = train) %>%\n",
        "\n",
        "# Update the role of \"...1\" to \"ID\"\n",
        "  update_role(...1, new_role = \"ID\" ) %>%\n",
        "\n",
        "# Impute values to all predictors where data are missing\n",
        "  step_impute_knn(all_predictors()) %>%\n",
        "\n",
        "# Create dummy variables for all nominal predictors\n",
        "  step_dummy(all_nominal_predictors())\n",
        "\n",
        "lr_recipe"
      ],
      "metadata": {
        "id": "AdjHL0Dd5qIf"
      },
      "execution_count": null,
      "outputs": []
    },
    {
      "cell_type": "markdown",
      "source": [
        "# Fitting and assessing the model\n",
        "Now that you have addressed missing values and created dummy variables, it is time to assess your model's performance!\n",
        "\n",
        "The attritiondataset, along with the testand train splits, the lr_recipe and your declared logistic_model() are all loaded for you.\n",
        "\n",
        "Instructions\n",
        "100 XP\n",
        "Bundle model and recipe in workflow.\n",
        "Fit workflow to the train data.\n",
        "Generate an augmented data frame for performance assessment."
      ],
      "metadata": {
        "id": "JeYINv8R_wIX"
      }
    },
    {
      "cell_type": "code",
      "source": [
        "# Bundle model and recipe in workflow\n",
        "lr_workflow <- workflow() %>%\n",
        "  add_model(lr_model) %>%\n",
        "  add_recipe(lr_recipe)\n",
        "\n",
        "# Fit workflow to the train data\n",
        "lr_fit <- fit(lr_workflow, data = train)\n",
        "\n",
        "# Generate an augmented data frame for performance assessment\n",
        "lr_aug <- lr_fit %>% augment(test)\n",
        "\n",
        "lr_aug %>% roc_curve(truth = Attrition, .pred_No) %>% autoplot()\n",
        "bind_rows(lr_aug %>% roc_auc(truth = Attrition, .pred_No),\n",
        "          lr_aug %>% accuracy(truth = Attrition, .pred_class))"
      ],
      "metadata": {
        "id": "4Mzmm0QQ_wcV"
      },
      "execution_count": null,
      "outputs": []
    },
    {
      "cell_type": "markdown",
      "source": [
        "# Predicting hotel bookings\n",
        "You just got a job at a hospitality research company, and your first task is to build a model that predicts whether or not a hotel stay will include children. To train your model, you will rely on a modified version of the hotel booking demands dataset by Antonio, Almeida, and Nunes (2019). You are restricting your data to the following features:\n",
        "```\n",
        "features <- c('hotel', 'adults',\n",
        "              'children', 'meal',\n",
        "              'reserved_room_type',\n",
        "              'customer_type',\n",
        "              'arrival_date')\n",
        "```\n",
        "The data has been loaded for you as hotels, along with its corresponding test and train splits, and the model has been declared as lr_model <- logistic_reg().\n",
        "\n",
        "You will assess model performance by accuracy and area under the ROC curve or AUC.\n",
        "\n",
        "Instructions 1/2\n",
        "50 XP\n",
        "2\n",
        "Generate \"day of the week\", \"week\" and \"month\" features.\n",
        "Create dummy variables for all nominal predictors."
      ],
      "metadata": {
        "id": "rGtfpm4rAkW1"
      }
    },
    {
      "cell_type": "code",
      "source": [
        "lr_recipe <-\n",
        "  recipe(children ~., data = train) %>%\n",
        "# Generate \"day of the week\", \"week\" and \"month\" features\n",
        "\n",
        "  step_date(arrival_date, features = c(\"dow\", \"week\", \"month\")) %>%\n",
        "\n",
        "# Create dummy variables for all nominal predictors\n",
        "  step_dummy(all_nominal_predictors())"
      ],
      "metadata": {
        "id": "Fhfz0v-UAkrA"
      },
      "execution_count": null,
      "outputs": []
    },
    {
      "cell_type": "markdown",
      "source": [
        "Instructions 2/2\n",
        "50 XP\n",
        "Bundle your model and recipe in a workflow().\n",
        "Fit the workflow to the training data."
      ],
      "metadata": {
        "id": "8-D12-L0Axdu"
      }
    },
    {
      "cell_type": "code",
      "source": [
        "lr_recipe <- recipe(children ~., data = train) %>%\n",
        "\n",
        "# Generate \"day of the week\", \"week\" and \"month\" features\n",
        "  step_date(arrival_date, features = c(\"dow\", \"week\", \"month\")) %>%\n",
        "\n",
        "# Create dummy variables for all nominal predictors\n",
        "  step_dummy(all_nominal_predictors())\n",
        "\n",
        "# Bundle your model and recipe in a workflow\n",
        "lr_workflow <-workflow() %>% add_model(lr_model) %>% add_recipe(lr_recipe)\n",
        "\n",
        "# Fit the workflow to the training data\n",
        "lr_fit <-  lr_workflow %>% fit(data = train)\n",
        "lr_aug <- lr_fit %>% augment(test)\n",
        "bind_rows(roc_auc(lr_aug,truth = children, .pred_children),accuracy(lr_aug,truth = children, .pred_class))"
      ],
      "metadata": {
        "id": "Y_UuUyJZAxtO"
      },
      "execution_count": null,
      "outputs": []
    },
    {
      "cell_type": "markdown",
      "source": [
        "# Normalizing and log-transforming\n",
        "You are handed a dataset, attrition_num with numerical data about employees who left the company. Features include Age, DistanceFromHome, and MonthlyRate.\n",
        "\n",
        "You want to use this data to build a model that can predict if an employee is likely to stay, denoted by Attrition, a binary variable coded as a factor. In preparation for modeling, you want to reduce possible skewness and prevent some variables from outweighing others due to variations in scale.\n",
        "\n",
        "The attrition_numdata and the trainand test splits are loaded for you.\n",
        "\n",
        "Instructions\n",
        "100 XP\n",
        "Normalize all numeric predictors.\n",
        "Log-transform all numeric features, with an offset of one.\n",
        "\n",
        "Take Hint (-30 XP)"
      ],
      "metadata": {
        "id": "PN5qeLZNKZFG"
      }
    },
    {
      "cell_type": "code",
      "source": [
        "lr_model <- logistic_reg()\n",
        "\n",
        "lr_recipe <-\n",
        "  recipe(Attrition~., data = train) %>%\n",
        "\n",
        "# Normalize all numeric predictors\n",
        "  step_normalize(all_numeric_predictors()) %>%\n",
        "\n",
        "# Log-transform all numeric features, with an offset of one\n",
        "  step_log(all_numeric_predictors(), offset = 1)\n",
        "\n",
        "lr_workflow <-\n",
        "  workflow() %>%\n",
        "  add_model(lr_model) %>%\n",
        "  add_recipe(lr_recipe)\n",
        "\n",
        "lr_workflow"
      ],
      "metadata": {
        "id": "BKT42k-3KZef"
      },
      "execution_count": null,
      "outputs": []
    },
    {
      "cell_type": "markdown",
      "source": [
        "# Fit and augment\n",
        "With your lr_workflow ready to go, you can fit it to the test data to make predictions.\n",
        "\n",
        "For model assessment, it is convenient to augment your fitted object by adding predictions and probabilities using augment().\n",
        "\n",
        "Instructions\n",
        "100 XP\n",
        "Fit the workflow to the train data.\n",
        "Augment the lr_fit object using the test data to get it ready for assessment."
      ],
      "metadata": {
        "id": "s09z0WKeL06z"
      }
    },
    {
      "cell_type": "code",
      "source": [
        "# Fit the workflow to the train data\n",
        "lr_fit <-\n",
        "  fit(lr_workflow, data = train)\n",
        "\n",
        "# Augment the lr_fit object\n",
        "lr_aug <-\n",
        "  augment(lr_fit, new_data = test)\n",
        "\n",
        "lr_aug"
      ],
      "metadata": {
        "id": "N6dKeP-XL1XD"
      },
      "execution_count": null,
      "outputs": []
    },
    {
      "cell_type": "markdown",
      "source": [
        "# Customize your model assessment\n",
        "Creating custom assessment functions is quite convenient when iterating through various models. The metric_set() function from the yardstickpackage can help you to achieve this.\n",
        "\n",
        "Define a function that returns roc_auc, accuracy, sens(sensitivity) and specificity spec(specificity) and use it to assess your model.\n",
        "\n",
        "The augmented data frame lr_augis already loaded and ready to go.\n",
        "\n",
        "Instructions\n",
        "100 XP\n",
        "Define a custom assessment function that returns roc_auc, accuracy, sens, and spec.\n",
        "Assess your model using your new function on lr_augto obtain the metrics you just chose."
      ],
      "metadata": {
        "id": "_Ig8afoLMpWA"
      }
    },
    {
      "cell_type": "code",
      "source": [
        "# Define a custom assessment function\n",
        "class_evaluate <- metric_set(roc_auc, accuracy, sens, spec)\n",
        "\n",
        "# Assess your model using your new function\n",
        "class_evaluate(lr_aug, truth = Attrition,\n",
        "               estimate = .pred_class,\n",
        "               .pred_No)"
      ],
      "metadata": {
        "id": "jlKAEF0kMp0o"
      },
      "execution_count": null,
      "outputs": []
    }
  ]
}