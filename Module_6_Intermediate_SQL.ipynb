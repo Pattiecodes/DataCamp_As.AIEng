{
  "nbformat": 4,
  "nbformat_minor": 0,
  "metadata": {
    "colab": {
      "provenance": [],
      "authorship_tag": "ABX9TyMRFTSG9hMqw5qCecdpyB/J",
      "include_colab_link": true
    },
    "kernelspec": {
      "name": "python3",
      "display_name": "Python 3"
    },
    "language_info": {
      "name": "python"
    }
  },
  "cells": [
    {
      "cell_type": "markdown",
      "metadata": {
        "id": "view-in-github",
        "colab_type": "text"
      },
      "source": [
        "<a href=\"https://colab.research.google.com/github/Pattiecodes/DataCamp_As.AIEng/blob/main/Module_6_Intermediate_SQL.ipynb\" target=\"_parent\"><img src=\"https://colab.research.google.com/assets/colab-badge.svg\" alt=\"Open In Colab\"/></a>"
      ]
    },
    {
      "cell_type": "markdown",
      "source": [
        "# --- Module Start ---"
      ],
      "metadata": {
        "id": "MnDJbqr0K6Yd"
      }
    },
    {
      "cell_type": "markdown",
      "source": [
        "# Learning to COUNT()\n",
        "You saw how to use COUNT() in the video. Do you remember what it returns?\n",
        "\n",
        "Here is a query counting film_id. Select the answer below that correctly describes what the query will return.\n",
        "\n",
        "SELECT COUNT(film_id) AS count_film_id\n",
        "FROM reviews;\n",
        "Run the query in the console to test your theory!\n",
        "\n",
        "Instructions\n",
        "50 XP\n",
        "Possible answers\n",
        "\n",
        "\n",
        "The number of unique films in the reviews table.\n",
        "\n",
        "The number of records containing a film_id.\n",
        "\n",
        "The total number of records in the reviews table.\n",
        "\n",
        "The sum of the film_id field."
      ],
      "metadata": {
        "id": "I_SdJrWqK_BK"
      }
    },
    {
      "cell_type": "code",
      "execution_count": null,
      "metadata": {
        "id": "65xS58Ry1TPN"
      },
      "outputs": [],
      "source": [
        "SELECT COUNT(film_id) AS count_film_id\n",
        "FROM reviews;"
      ]
    },
    {
      "cell_type": "markdown",
      "source": [
        "# Practice with COUNT()\n",
        "As you've seen, COUNT(*) tells you how many records are in a table. However, if you want to count the number of non-missing values in a particular field, you can call COUNT() on just that field.\n",
        "\n",
        "Let's get some practice with COUNT()! You can look at the data in the tables throughout these exercises by clicking on the table name in the console.\n",
        "\n",
        "Instructions 1/3\n",
        "35 XP\n",
        "Count the total number of records in the people table, aliasing the result as count_records."
      ],
      "metadata": {
        "id": "DOpX5rsBMB8O"
      }
    },
    {
      "cell_type": "code",
      "source": [
        "-- Count the number of records in the people table\n",
        "SELECT COUNT(*) AS count_records\n",
        "FROM people;"
      ],
      "metadata": {
        "id": "_0Gjx88CMCSW"
      },
      "execution_count": null,
      "outputs": []
    },
    {
      "cell_type": "markdown",
      "source": [
        "Instructions 2/3\n",
        "Count the number of records with a birthdate in the people table, aliasing the result as count_birthdate."
      ],
      "metadata": {
        "id": "ENenxawiMTid"
      }
    },
    {
      "cell_type": "code",
      "source": [
        "-- Count the number of birthdates in the people table\n",
        "SELECT COUNT(birthdate) AS count_birthdate\n",
        "FROM people;"
      ],
      "metadata": {
        "id": "MUZIp2EwMU1R"
      },
      "execution_count": null,
      "outputs": []
    },
    {
      "cell_type": "markdown",
      "source": [
        "Instructions 3/3\n",
        "Count the records for languages and countries in the films table; alias as count_languages and count_countries.\n",
        "\n"
      ],
      "metadata": {
        "id": "satcuVBiM1Z5"
      }
    },
    {
      "cell_type": "code",
      "source": [
        "-- Count the records for languages and countries represented in the films table\n",
        "SELECT COUNT(language) AS count_languages, COUNT(country) AS count_countries\n",
        "FROM films;"
      ],
      "metadata": {
        "id": "Yv-KTd4BM22I"
      },
      "execution_count": null,
      "outputs": []
    },
    {
      "cell_type": "markdown",
      "source": [
        "# SELECT DISTINCT\n",
        "Often query results will include many duplicate values. You can use the DISTINCT keyword to select the unique values from a field.\n",
        "\n",
        "This might be useful if, for example, you're interested in knowing which languages are represented in the films table. See if you can find out what countries are represented in this table with the following exercises.\n",
        "\n",
        "Instructions 1/2\n",
        "50 XP\n",
        "1\n",
        "Return the unique countries represented in the films table using DISTINCT."
      ],
      "metadata": {
        "id": "zKnRnVtZNU5U"
      }
    },
    {
      "cell_type": "code",
      "source": [
        "-- Return the unique countries from the films table\n",
        "SELECT DISTINCT country\n",
        "FROM films;"
      ],
      "metadata": {
        "id": "QE6qWzwvNVHR"
      },
      "execution_count": null,
      "outputs": []
    },
    {
      "cell_type": "markdown",
      "source": [
        "Instructions 2/2\n",
        "Return the number of unique countries represented in the films table, aliased as count_distinct_countries."
      ],
      "metadata": {
        "id": "KN5drv-WNkuI"
      }
    },
    {
      "cell_type": "code",
      "source": [
        "-- Count the distinct countries from the films table\n",
        "SELECT COUNT(DISTINCT country) AS count_distinct_countries\n",
        "FROM films;"
      ],
      "metadata": {
        "id": "x5e3VXvANlul"
      },
      "execution_count": null,
      "outputs": []
    },
    {
      "cell_type": "markdown",
      "source": [
        "# Debugging errors\n",
        "Debugging is an essential skill for all coders, and it comes from making many mistakes and learning from them.\n",
        "\n",
        "In this exercise, you'll be given some buggy code that you'll need to fix.\n",
        "\n",
        "Instructions 1/3\n",
        "35 XP\n",
        "Debug and fix the SQL query provided."
      ],
      "metadata": {
        "id": "GPXBDaluXTSQ"
      }
    },
    {
      "cell_type": "code",
      "source": [
        "-- Debug this code\n",
        "SELECT certification\n",
        "FROM films\n",
        "LIMIT 5;"
      ],
      "metadata": {
        "id": "ffIOINgFXTjQ"
      },
      "execution_count": null,
      "outputs": []
    },
    {
      "cell_type": "markdown",
      "source": [
        "Instructions 2/3\n",
        "Find the two errors in this code; the same error has been repeated twice."
      ],
      "metadata": {
        "id": "bTcc-myKXWUI"
      }
    },
    {
      "cell_type": "code",
      "source": [
        "-- Debug this code\n",
        "SELECT film_id, imdb_score, num_votes\n",
        "FROM reviews;"
      ],
      "metadata": {
        "id": "e1FI3ujyXXVw"
      },
      "execution_count": null,
      "outputs": []
    },
    {
      "cell_type": "markdown",
      "source": [
        "Instructions 3/3 Find the two bugs in this final query."
      ],
      "metadata": {
        "id": "Mp0if3bwXsQX"
      }
    },
    {
      "cell_type": "code",
      "source": [
        "-- Debug this code\n",
        "SELECT COUNT(birthdate) AS count_birthdays\n",
        "FROM people;"
      ],
      "metadata": {
        "id": "1spvZ4wlXtVA"
      },
      "execution_count": null,
      "outputs": []
    },
    {
      "cell_type": "markdown",
      "source": [
        "# Formatting\n",
        "Readable code is highly valued in the coding community and professional settings. Without proper formatting, code and results can be difficult to interpret. You'll often be working with other people that need to understand your code or be able to explain your results, so having a solid formatting habit is essential.\n",
        "\n",
        "In this exercise, you'll correct poorly written code to better adhere to SQL style standards.\n",
        "\n",
        "Instructions\n",
        "100 XP\n",
        "Adjust the sample code so that it is in line with standard practices."
      ],
      "metadata": {
        "id": "KduCw81XsjnU"
      }
    },
    {
      "cell_type": "code",
      "source": [
        "-- Rewrite this query\n",
        "SELECT\n",
        "    person_id,\n",
        "    role\n",
        "FROM roles\n",
        "LIMIT 10;"
      ],
      "metadata": {
        "id": "QW1nse83sj50"
      },
      "execution_count": null,
      "outputs": []
    },
    {
      "cell_type": "markdown",
      "source": [
        "# Using WHERE with numbers\n",
        "Filtering with WHERE allows you to analyze your data better. You may have a dataset that includes a range of different movies, and you need to do a case study on the most notable films with the biggest budgets. In this case, you'll want to filter your data to a specific budget range.\n",
        "\n",
        "Now it's your turn to use the WHERE clause to filter numeric values!\n",
        "\n",
        "Instructions 1/3\n",
        "35 XP\n",
        "Select the film_id and imdb_score from the reviews table and filter on scores higher than 7.0."
      ],
      "metadata": {
        "id": "cUs88mlWfGOd"
      }
    },
    {
      "cell_type": "code",
      "source": [
        "-- Select film_id and imdb_score with an imdb_score over 7.0\n",
        "SELECT film_id, imdb_score\n",
        "FROM reviews\n",
        "WHERE imdb_score > 7.0"
      ],
      "metadata": {
        "id": "QFxGt_ipfGuz"
      },
      "execution_count": null,
      "outputs": []
    },
    {
      "cell_type": "markdown",
      "source": [
        "Instructions 2/3 Select the film_id and facebook_likes of the first ten records with less than 1000 likes from the reviews table."
      ],
      "metadata": {
        "id": "ku7Kmlr2fbBi"
      }
    },
    {
      "cell_type": "code",
      "source": [
        "-- Select film_id and facebook_likes for ten records with less than 1000 likes\n",
        "SELECT film_id, facebook_likes\n",
        "FROM reviews\n",
        "WHERE facebook_likes < 1000\n",
        "LIMIT 10;"
      ],
      "metadata": {
        "id": "rX15TXokfcyu"
      },
      "execution_count": null,
      "outputs": []
    },
    {
      "cell_type": "markdown",
      "source": [
        "Instructions 3/3 Count how many records have a num_votes of at least 100,000; use the alias films_over_100K_votes."
      ],
      "metadata": {
        "id": "x3bOFOG8feBi"
      }
    },
    {
      "cell_type": "code",
      "source": [
        "-- Count the records with at least 100,000 votes\n",
        "SELECT COUNT(*) AS films_over_100K_votes\n",
        "FROM reviews\n",
        "WHERE num_votes >= 100000;"
      ],
      "metadata": {
        "id": "cxWq4rm_f7T9"
      },
      "execution_count": null,
      "outputs": []
    },
    {
      "cell_type": "markdown",
      "source": [
        "# Using WHERE with text\n",
        "WHERE can also filter string values.\n",
        "\n",
        "Imagine you are part of an organization that gives cinematography awards, and you have several international categories. Before you confirm an award for every language listed in your dataset, it may be worth seeing if there are enough films of a specific language to make it a fair competition. If there is only one movie or a significant skew, it may be worth considering a different way of giving international awards.\n",
        "\n",
        "Let's try this out!\n",
        "\n",
        "Instructions\n",
        "100 XP\n",
        "Select and count the language field using the alias count_spanish.\n",
        "Apply a filter to select only Spanish from the language field."
      ],
      "metadata": {
        "id": "ZuIhaxpmdY68"
      }
    },
    {
      "cell_type": "code",
      "source": [
        "-- Count the Spanish-language films\n",
        "SELECT COUNT(language) AS count_spanish\n",
        "FROM films\n",
        "WHERE language = 'Spanish';"
      ],
      "metadata": {
        "id": "41jHoDQtdZQl"
      },
      "execution_count": null,
      "outputs": []
    },
    {
      "cell_type": "markdown",
      "source": [
        "# Using AND\n",
        "The following exercises combine AND and OR with the WHERE clause. Using these operators together strengthens your queries and analyses of data.\n",
        "\n",
        "You will apply these new skills now on the films table.\n",
        "\n",
        "Instructions 1/3\n",
        "35 XP\n",
        "Select the title and release_year for all German-language films released before 2000."
      ],
      "metadata": {
        "id": "ahdqwl90gP7n"
      }
    },
    {
      "cell_type": "code",
      "source": [
        "-- Select the title and release_year for all German-language films released before 2000\n",
        "SELECT title, release_year\n",
        "FROM films\n",
        "WHERE release_year < 2000 AND language = 'German';"
      ],
      "metadata": {
        "id": "nKhN37YPgQX0"
      },
      "execution_count": null,
      "outputs": []
    },
    {
      "cell_type": "markdown",
      "source": [
        "Instructions 2/3 Update the query from the previous step to show German-language films released after 2000 rather than before."
      ],
      "metadata": {
        "id": "wumWfwPrgW2j"
      }
    },
    {
      "cell_type": "code",
      "source": [
        "-- Update the query to see all German-language films released after 2000\n",
        "SELECT title, release_year\n",
        "FROM films\n",
        "WHERE release_year > 2000\n",
        "\tAND language = 'German';"
      ],
      "metadata": {
        "id": "B9DxTaxUgYZ-"
      },
      "execution_count": null,
      "outputs": []
    },
    {
      "cell_type": "markdown",
      "source": [
        "Instructions 3/3 Select all details for German-language films released after 2000 but before 2010 using only WHERE and AND."
      ],
      "metadata": {
        "id": "BHrJcqP4g2XF"
      }
    },
    {
      "cell_type": "code",
      "source": [
        "-- Select all records for German-language films released after 2000 and before 2010\n",
        "SELECT *\n",
        "FROM films\n",
        "WHERE release_year > 2000\n",
        "\tAND release_year < 2010\n",
        "\tAND language = 'German';"
      ],
      "metadata": {
        "id": "DdVJSTtHg3mb"
      },
      "execution_count": null,
      "outputs": []
    },
    {
      "cell_type": "markdown",
      "source": [
        "# Using OR\n",
        "This time you'll write a query to get the title and release_year of films released in 1990 or 1999, which were in English or Spanish and took in more than $2,000,000 gross.\n",
        "\n",
        "It looks like a lot, but you can build the query up one step at a time to get comfortable with the underlying concept in each step. Let's go!\n",
        "\n",
        "Instructions 1/3\n",
        "35 XP\n",
        "2\n",
        "3\n",
        "Select the title and release_year for films released in 1990 or 1999 using only WHERE and OR."
      ],
      "metadata": {
        "id": "jbPT42hSoGcV"
      }
    },
    {
      "cell_type": "code",
      "source": [
        "-- Find the title and year of films from the 1990 or 1999\n",
        "SELECT title, release_year\n",
        "FROM films\n",
        "WHERE release_year = 1990 OR release_year = 1999;"
      ],
      "metadata": {
        "id": "ZoVqKavKoGwg"
      },
      "execution_count": null,
      "outputs": []
    },
    {
      "cell_type": "markdown",
      "source": [
        "Instructions 2/3\n",
        "35 XP\n",
        "3\n",
        "Filter the records to only include English or Spanish-language films."
      ],
      "metadata": {
        "id": "BIp8XX3ZoWEQ"
      }
    },
    {
      "cell_type": "code",
      "source": [
        "SELECT title, release_year\n",
        "FROM films\n",
        "WHERE (release_year = 1990 OR release_year = 1999)\n",
        "-- Add a filter to see only English or Spanish-language films\n",
        "\tAND (language = 'English' OR language = 'Spanish');"
      ],
      "metadata": {
        "id": "qNo8kqv_oYcs"
      },
      "execution_count": null,
      "outputs": []
    },
    {
      "cell_type": "markdown",
      "source": [
        "Instructions 3/3\n",
        "30 XP\n",
        "Finally, restrict the query to only return films worth more than $2,000,000 gross."
      ],
      "metadata": {
        "id": "Wpk_g6-qoolw"
      }
    },
    {
      "cell_type": "code",
      "source": [
        "SELECT title, release_year\n",
        "FROM films\n",
        "WHERE (release_year = 1990 OR release_year = 1999)\n",
        "\tAND (language = 'English' OR language = 'Spanish')\n",
        "-- Filter films with more than $2,000,000 gross\n",
        "\tAND (gross > 2000000);"
      ],
      "metadata": {
        "id": "hq53CDuEoo3m"
      },
      "execution_count": null,
      "outputs": []
    },
    {
      "cell_type": "markdown",
      "source": [
        "# Using BETWEEN\n",
        "Let's use BETWEEN with AND on the films database to get the title and release_year of all Spanish-language films released between 1990 and 2000 (inclusive) with budgets over $100 million.\n",
        "\n",
        "We have broken the problem into smaller steps so that you can build the query as you go along!\n",
        "\n",
        "Instructions 1/4\n",
        "25 XP\n",
        "2\n",
        "3\n",
        "4\n",
        "Select the title and release_year of all films released between 1990 and 2000 (inclusive) using BETWEEN."
      ],
      "metadata": {
        "id": "lv6tdWAQo7M-"
      }
    },
    {
      "cell_type": "code",
      "source": [
        "-- Select the title and release_year for films released between 1990 and 2000\n",
        "SELECT title, release_year\n",
        "FROM films\n",
        "WHERE release_year\n",
        "BETWEEN 1990 AND 2000;"
      ],
      "metadata": {
        "id": "cxdVQNoto7gb"
      },
      "execution_count": null,
      "outputs": []
    },
    {
      "cell_type": "markdown",
      "source": [
        "Instructions 2/4\n",
        "25 XP\n",
        "3\n",
        "4\n",
        "Build on your previous query to select only films with a budget over $100 million."
      ],
      "metadata": {
        "id": "RKzjqfqkpO3z"
      }
    },
    {
      "cell_type": "code",
      "source": [
        "SELECT title, release_year\n",
        "FROM films\n",
        "WHERE release_year BETWEEN 1990 AND 2000\n",
        "-- Narrow down your query to films with budgets > $100 million\n",
        "\tAND budget > 100000000;"
      ],
      "metadata": {
        "id": "Qh8qkznepQWg"
      },
      "execution_count": null,
      "outputs": []
    },
    {
      "cell_type": "markdown",
      "source": [
        "Instructions 3/4\n",
        "25 XP\n",
        "3\n",
        "4\n",
        "Now, restrict the query to only return Spanish-language films."
      ],
      "metadata": {
        "id": "HNbD9RjYpaTe"
      }
    },
    {
      "cell_type": "code",
      "source": [
        "SELECT title, release_year\n",
        "FROM films\n",
        "WHERE release_year BETWEEN 1990 AND 2000\n",
        "\tAND budget > 100000000\n",
        "-- Restrict the query to only Spanish-language films\n",
        "\tAND language = 'Spanish';"
      ],
      "metadata": {
        "id": "L2ckHrlnpanq"
      },
      "execution_count": null,
      "outputs": []
    },
    {
      "cell_type": "markdown",
      "source": [
        "Instructions 4/4\n",
        "25 XP\n",
        "Finally, amend the query to include all Spanish-language or French-language films with the same criteria."
      ],
      "metadata": {
        "id": "8mybLYd2qFvz"
      }
    },
    {
      "cell_type": "code",
      "source": [
        "SELECT title, release_year\n",
        "FROM films\n",
        "WHERE release_year BETWEEN 1990 AND 2000\n",
        "\tAND budget > 100000000\n",
        "-- Amend the query to include Spanish or French-language films\n",
        "\tAND (language = 'Spanish' OR language = 'French');"
      ],
      "metadata": {
        "id": "m_lGcaDtqF_7"
      },
      "execution_count": null,
      "outputs": []
    },
    {
      "cell_type": "markdown",
      "source": [
        "# LIKE and NOT LIKE\n",
        "The LIKE and NOT LIKE operators can be used to find records that either match or do not match a specified pattern, respectively. They can be coupled with the wildcards % and _. The % will match zero or many characters, and _ will match a single character.\n",
        "\n",
        "This is useful when you want to filter text, but not to an exact word.\n",
        "\n",
        "Do the following exercises to gain some practice with these keywords.\n",
        "\n",
        "Instructions 1/3\n",
        "35 XP\n",
        "Select the names of all people whose names begin with 'B'."
      ],
      "metadata": {
        "id": "C0F1iJ1CAyPD"
      }
    },
    {
      "cell_type": "code",
      "source": [
        "-- Select the names that start with B\n",
        "SELECT name\n",
        "FROM people\n",
        "WHERE name LIKE 'B%';"
      ],
      "metadata": {
        "id": "FV3PNR25AylE"
      },
      "execution_count": null,
      "outputs": []
    },
    {
      "cell_type": "markdown",
      "source": [
        "Instructions 2/3 Select the names of people whose names have 'r' as the second letter."
      ],
      "metadata": {
        "id": "i090MAHWA8wG"
      }
    },
    {
      "cell_type": "code",
      "source": [
        "SELECT name\n",
        "FROM people\n",
        "-- Select the names that have r as the second letter\n",
        "WHERE name LIKE '_r%';"
      ],
      "metadata": {
        "id": "b6RnbzfyA-W0"
      },
      "execution_count": null,
      "outputs": []
    },
    {
      "cell_type": "markdown",
      "source": [
        "Instructions 3/3\n",
        "Select the names of people whose names don't start with 'A'."
      ],
      "metadata": {
        "id": "QpgDtqIrBItk"
      }
    },
    {
      "cell_type": "code",
      "source": [
        "SELECT name\n",
        "FROM people\n",
        "-- Select names that don't start with A\n",
        "WHERE name NOT LIKE 'A%';"
      ],
      "metadata": {
        "id": "0y3Od_EaBJtO"
      },
      "execution_count": null,
      "outputs": []
    },
    {
      "cell_type": "markdown",
      "source": [
        "# WHERE IN\n",
        "You now know you can query multiple conditions using the IN operator and a set of parentheses. It is a valuable piece of code that helps us keep our queries clean and concise.\n",
        "\n",
        "Try using the IN operator yourself!\n",
        "\n",
        "Instructions 1/3\n",
        "35 XP\n",
        "Select the title and release_year of all films released in 1990 or 2000 that were longer than two hours."
      ],
      "metadata": {
        "id": "BpfPgA67B7Gv"
      }
    },
    {
      "cell_type": "code",
      "source": [
        "-- Find the title and release_year for all films over two hours in length released in 1990 and 2000\n",
        "SELECT title, release_year\n",
        "FROM films\n",
        "WHERE (release_year = 1990 OR release_year = 2000) AND\n",
        "    (duration > 120)"
      ],
      "metadata": {
        "id": "bFxmD4dLB7ao"
      },
      "execution_count": null,
      "outputs": []
    },
    {
      "cell_type": "markdown",
      "source": [
        "Instructions 2/3\n",
        "Select the title and language of all films in English, Spanish, or French using IN."
      ],
      "metadata": {
        "id": "HNGXIFOvCGLD"
      }
    },
    {
      "cell_type": "code",
      "source": [
        "SELECT title, language\n",
        "FROM films\n",
        "WHERE language IN ('English', 'Spanish', 'French');"
      ],
      "metadata": {
        "id": "3coU12knCHYT"
      },
      "execution_count": null,
      "outputs": []
    },
    {
      "cell_type": "markdown",
      "source": [
        "Instruction 3/3\n",
        "Select the title, certification and language of all films certified NC-17 or R that are in English, Italian, or Greek."
      ],
      "metadata": {
        "id": "GhRcp_caC0pv"
      }
    },
    {
      "cell_type": "code",
      "source": [
        "-- Find the title, certification, and language all films certified NC-17 or R that are in English, Italian, or Greek\n",
        "SELECT title, certification, language\n",
        "FROM films\n",
        "WHERE (certification = 'R' OR certification = 'NC-17')\n",
        "    AND (language = 'English' OR language = 'Italian' OR language = 'Greek');"
      ],
      "metadata": {
        "id": "W3xjnvleC1jK"
      },
      "execution_count": null,
      "outputs": []
    },
    {
      "cell_type": "markdown",
      "source": [
        "# Combining filtering and selecting\n",
        "Time for a little challenge. So far, your SQL vocabulary from this course includes COUNT(), DISTINCT, LIMIT, WHERE, OR, AND, BETWEEN, LIKE, NOT LIKE, and IN. In this exercise, you will try to use some of these together. Writing more complex queries will be standard for you as you become a qualified SQL programmer.\n",
        "\n",
        "As this query will be a little more complicated than what you've seen so far, we've included a bit of code to get you started. You will be using DISTINCT here too because, surprise, there are two movies named 'Hamlet' in this dataset!\n",
        "\n",
        "Follow the instructions to find out what 90's films we have in our dataset that would be suitable for English-speaking teens.\n",
        "\n",
        "Instructions\n",
        "100 XP\n",
        "Count the unique titles from the films database and use the alias provided.\n",
        "Filter to include only movies with a release_year from 1990 to 1999, inclusive.\n",
        "Add another filter narrowing your query down to English-language films.\n",
        "Add a final filter to select only films with 'G', 'PG', 'PG-13' certifications."
      ],
      "metadata": {
        "id": "7q43SklkDhIR"
      }
    },
    {
      "cell_type": "code",
      "source": [
        "-- Count the unique titles\n",
        "SELECT COUNT(DISTINCT title) AS nineties_english_films_for_teens\n",
        "FROM films\n",
        "-- Filter to release_years to between 1990 and 1999\n",
        "WHERE release_year BETWEEN 1990 AND 1999\n",
        "-- Filter to English-language films\n",
        "\tAND language = 'English'\n",
        "-- Narrow it down to G, PG, and PG-13 certifications\n",
        "\tAND (certification = 'G' OR certification = 'PG' OR certification = 'PG-13');"
      ],
      "metadata": {
        "id": "vs1m3peuDhat"
      },
      "execution_count": null,
      "outputs": []
    },
    {
      "cell_type": "markdown",
      "source": [
        "# Practice with NULLs\n",
        "Well done. Now that you know what NULL means and what it's used for, it's time for some more practice!\n",
        "\n",
        "Let's explore the films table again to better understand what data you have.\n",
        "\n",
        "Instructions 1/2\n",
        "50 XP\n",
        "Select the title of every film that doesn't have a budget associated with it and use the alias no_budget_info."
      ],
      "metadata": {
        "id": "kGaUekcCMKtz"
      }
    },
    {
      "cell_type": "code",
      "source": [
        "-- List all film titles with missing budgets\n",
        "SELECT title AS no_budget_info\n",
        "FROM films\n",
        "WHERE budget IS NULL;"
      ],
      "metadata": {
        "id": "HEGZTg3TMLCl"
      },
      "execution_count": null,
      "outputs": []
    },
    {
      "cell_type": "markdown",
      "source": [
        "Instructions 2/2\n",
        "Count the number of films with a language associated with them and use the alias count_language_known."
      ],
      "metadata": {
        "id": "oR4FKCC5MgJB"
      }
    },
    {
      "cell_type": "code",
      "source": [
        "-- Count the number of films we have language data for\n",
        "SELECT COUNT(*) AS count_language_known\n",
        "FROM films\n",
        "WHERE language IS NOT NULL;"
      ],
      "metadata": {
        "id": "FtovmahOMiEr"
      },
      "execution_count": null,
      "outputs": []
    },
    {
      "cell_type": "markdown",
      "source": [
        "# Practice with aggregate functions\n",
        "Now let's try extracting summary information from a table using these new aggregate functions. Summarizing is helpful in real life when extracting top-line details from your dataset. Perhaps you'd like to know how old the oldest film in the films table is, what the most expensive film is, or how many films you have listed.\n",
        "\n",
        "Now it's your turn to get more insights about the films table!\n",
        "\n",
        "Instructions 1/4\n",
        "25 XP\n",
        "Use the SUM() function to calculate the total duration of all films and alias with total_duration."
      ],
      "metadata": {
        "id": "K05aVTb9R42q"
      }
    },
    {
      "cell_type": "code",
      "source": [
        "-- Query the sum of film durations\n",
        "SELECT SUM(duration) AS total_duration\n",
        "FROM films;"
      ],
      "metadata": {
        "id": "NmBdYzSCR5Jl"
      },
      "execution_count": null,
      "outputs": []
    },
    {
      "cell_type": "markdown",
      "source": [
        "Instructions 2/4\n",
        "Calculate the average duration of all films and alias with average_duration."
      ],
      "metadata": {
        "id": "3NFPfre6SZES"
      }
    },
    {
      "cell_type": "code",
      "source": [
        "-- Calculate the average duration of all films\n",
        "SELECT AVG(duration) AS average_duration\n",
        "FROM films;"
      ],
      "metadata": {
        "id": "EIDV4F06SaEc"
      },
      "execution_count": null,
      "outputs": []
    },
    {
      "cell_type": "markdown",
      "source": [
        "Instructions 3/4\n",
        "Find the most recent release_year in the films table, aliasing as latest_year."
      ],
      "metadata": {
        "id": "M-jmIOoGSnpy"
      }
    },
    {
      "cell_type": "code",
      "source": [
        "-- Find the latest release_year\n",
        "SELECT MAX(release_year) AS latest_year\n",
        "FROM films;"
      ],
      "metadata": {
        "id": "YRy0FyakSoq7"
      },
      "execution_count": null,
      "outputs": []
    },
    {
      "cell_type": "markdown",
      "source": [
        "Instructions 4/4\n",
        "Find the duration of the shortest film and use the alias shortest_film.\n"
      ],
      "metadata": {
        "id": "4k7o85N2TPHp"
      }
    },
    {
      "cell_type": "code",
      "source": [
        "-- Find the duration of the shortest film\n",
        "SELECT MIN(duration) AS shortest_film\n",
        "FROM films;"
      ],
      "metadata": {
        "id": "flvcQdO7TReU"
      },
      "execution_count": null,
      "outputs": []
    },
    {
      "cell_type": "markdown",
      "source": [
        "# Combining aggregate functions with WHERE\n",
        "When combining aggregate functions with WHERE, you get a powerful tool that allows you to get more granular with your insights, for example, to get the total budget of movies made from the year 2010 onwards.\n",
        "\n",
        "This combination is useful when you only want to summarize a subset of your data. In your film-industry role, as an example, you may like to summarize each certification category to compare how they each perform or if one certification has a higher average budget than another.\n",
        "\n",
        "Let's see what insights you can gain about the financials in the dataset.\n",
        "\n",
        "Instructions 1/4\n",
        "25 XP\n",
        "Use SUM() to calculate the total gross for all films made in the year 2000 or later, and use the alias total_gross."
      ],
      "metadata": {
        "id": "2vXNJhywsvCW"
      }
    },
    {
      "cell_type": "code",
      "source": [
        "-- Calculate the sum of gross from the year 2000 or later\n",
        "SELECT SUM(gross) AS total_gross\n",
        "FROM films\n",
        "WHERE release_year >= 2000;"
      ],
      "metadata": {
        "id": "9JiIpTDvsvVZ"
      },
      "execution_count": null,
      "outputs": []
    },
    {
      "cell_type": "markdown",
      "source": [
        "Instructions 2/4\n",
        "\n",
        "Calculate the average amount grossed by all films whose titles start with the letter 'A' and alias with avg_gross_A."
      ],
      "metadata": {
        "id": "GZ-MXN0Gswkn"
      }
    },
    {
      "cell_type": "code",
      "source": [
        "-- Calculate the average gross of films that start with A\n",
        "SELECT AVG(gross) AS avg_gross_A\n",
        "FROM films\n",
        "WHERE title LIKE 'A%';"
      ],
      "metadata": {
        "id": "gQXbgrsas566"
      },
      "execution_count": null,
      "outputs": []
    },
    {
      "cell_type": "markdown",
      "source": [
        "Instructions 3/4\n",
        "\n",
        "Calculate the lowest gross film in 1994 and use the alias lowest_gross."
      ],
      "metadata": {
        "id": "4GSqu2L1uAmx"
      }
    },
    {
      "cell_type": "code",
      "source": [
        "-- Calculate the lowest gross film in 1994\n",
        "SELECT MIN(gross) AS lowest_gross\n",
        "FROM films\n",
        "WHERE release_year = 1994;"
      ],
      "metadata": {
        "id": "VCybXqYQuGw9"
      },
      "execution_count": null,
      "outputs": []
    },
    {
      "cell_type": "markdown",
      "source": [
        "Instructions 4/4\n",
        "\n",
        "Calculate the highest gross film between 2000 and 2012, inclusive, and use the alias highest_gross."
      ],
      "metadata": {
        "id": "X_kWf1v1uWKC"
      }
    },
    {
      "cell_type": "code",
      "source": [
        "-- Calculate the highest gross film released between 2000-2012\n",
        "SELECT MAX(gross) AS highest_gross\n",
        "FROM films\n",
        "WHERE release_year BETWEEN 2000 AND 2012;"
      ],
      "metadata": {
        "id": "6USuUYrHuXSH"
      },
      "execution_count": null,
      "outputs": []
    },
    {
      "cell_type": "markdown",
      "source": [
        "# Using ROUND()\n",
        "Aggregate functions work great with numerical values; however, these results can sometimes get unwieldy when dealing with long decimal values. Luckily, SQL provides you with the ROUND() function to tame these long decimals.\n",
        "\n",
        "If asked to give the average budget of your films, ten decimal places is not necessary. Instead, you can round to two decimal places to create results that make more sense for currency.\n",
        "\n",
        "Now you try!\n",
        "\n",
        "Instructions\n",
        "100 XP\n",
        "Calculate the average facebook_likes to one decimal place and assign to the alias, avg_facebook_likes."
      ],
      "metadata": {
        "id": "Kb8Len-4vDbP"
      }
    },
    {
      "cell_type": "code",
      "source": [
        "-- Round the average number of facebook_likes to one decimal place\n",
        "SELECT ROUND(AVG(facebook_likes), 1) AS avg_facebook_likes\n",
        "FROM reviews;"
      ],
      "metadata": {
        "id": "S72K4XcivDqU"
      },
      "execution_count": null,
      "outputs": []
    },
    {
      "cell_type": "markdown",
      "source": [
        "# ROUND() with a negative parameter\n",
        "A useful thing you can do with ROUND() is have a negative number as the decimal place parameter. This can come in handy if your manager only needs to know the average number of facebook_likes to the hundreds since granularity below one hundred likes won't impact decision making.\n",
        "\n",
        "Social media plays a significant role in determining success. If a movie trailer is posted and barely gets any likes, the movie itself may not be successful. Remember how 2020's \"Sonic the Hedgehog\" movie got a revamp after the public saw the trailer?\n",
        "\n",
        "Let's apply this to other parts of the dataset and see what the benchmark is for movie budgets so, in the future, it's clear whether the film is above or below budget.\n",
        "\n",
        "Instructions\n",
        "100 XP\n",
        "Calculate the average budget from the films table, aliased as avg_budget_thousands, and round to the nearest thousand."
      ],
      "metadata": {
        "id": "GlAlx-5egRbV"
      }
    },
    {
      "cell_type": "code",
      "source": [
        "-- Calculate the average budget rounded to the thousands\n",
        "SELECT ROUND(AVG(budget), -3) AS avg_budget_thousands\n",
        "FROM films;"
      ],
      "metadata": {
        "id": "6ib2aw8ygS15"
      },
      "execution_count": null,
      "outputs": []
    },
    {
      "cell_type": "markdown",
      "source": [
        "# Aliasing with functions\n",
        "Aliasing can be a lifesaver, especially as we start to do more complex SQL queries with multiple criteria. Aliases help you keep your code clean and readable. For example, if you want to find the MAX() value of several fields without aliasing, you'll end up with the result with several columns called max and no idea which is which. You can fix this with aliasing.\n",
        "\n",
        "Now, it's over to you to clean up the following queries.\n",
        "\n",
        "Instructions 1/3\n",
        "35 XP\n",
        "Select the title and duration in hours for all films and alias as duration_hours; since the current durations are in minutes, you'll need to divide duration by 60.0."
      ],
      "metadata": {
        "id": "L5AIcd2Sjfe2"
      }
    },
    {
      "cell_type": "code",
      "source": [
        "-- Calculate the title and duration_hours from films\n",
        "SELECT title, (duration / 60.0) AS duration_hours\n",
        "FROM films;"
      ],
      "metadata": {
        "id": "1Z-VZpwIjfzd"
      },
      "execution_count": null,
      "outputs": []
    },
    {
      "cell_type": "markdown",
      "source": [
        "Instructions 2/3\n",
        "\n",
        "Calculate the percentage of people who are no longer alive and alias the result as percentage_dead."
      ],
      "metadata": {
        "id": "EVGcWr7cj3EH"
      }
    },
    {
      "cell_type": "code",
      "source": [
        "-- Calculate the percentage of people who are no longer alive\n",
        "SELECT COUNT(deathdate) * 100.0 / COUNT(*) AS percentage_dead\n",
        "FROM people;"
      ],
      "metadata": {
        "id": "0hk0t8Nrj4Wj"
      },
      "execution_count": null,
      "outputs": []
    },
    {
      "cell_type": "markdown",
      "source": [
        "Instructions 3/3\n",
        "\n",
        "Find how many decades (period of ten years) the films table covers by using MIN() and MAX() -- alias as number_of_decades."
      ],
      "metadata": {
        "id": "cbdb97GOkXjV"
      }
    },
    {
      "cell_type": "code",
      "source": [
        "-- Find the number of decades in the films table\n",
        "SELECT (MAX(release_year) - MIN(release_year)) / 10.0 AS number_of_decades\n",
        "FROM films;"
      ],
      "metadata": {
        "id": "Nq3tO24ZkZLf"
      },
      "execution_count": null,
      "outputs": []
    },
    {
      "cell_type": "markdown",
      "source": [
        "## Sorting single fields\n",
        "Now that you understand how ORDER BY works, you'll put it into practice. In this exercise, you'll work on sorting single fields only. This can be helpful to extract quick insights such as the top-grossing or top-scoring film.\n",
        "\n",
        "The following exercises will help you gain further insights into the film database.\n",
        "\n",
        "Instructions 1/2\n",
        "50 XP\n",
        "Select the name of each person in the people table, sorted alphabetically."
      ],
      "metadata": {
        "id": "LHbaqY6gDdqg"
      }
    },
    {
      "cell_type": "code",
      "source": [
        "-- Select name from people and sort alphabetically\n",
        "SELECT name\n",
        "FROM people\n",
        "ORDER BY name DESC;"
      ],
      "metadata": {
        "id": "adj6P8nyDece"
      },
      "execution_count": null,
      "outputs": []
    },
    {
      "cell_type": "markdown",
      "source": [
        "Instructions 2/2\n",
        "\n",
        "Select the title and duration for every film, from longest duration to shortest."
      ],
      "metadata": {
        "id": "U4oibREsDkLg"
      }
    },
    {
      "cell_type": "code",
      "source": [
        "-- Select the title and duration from longest to shortest film\n",
        "SELECT title, duration\n",
        "FROM films\n",
        "ORDER BY duration DESC;"
      ],
      "metadata": {
        "id": "jVsCSLIwDlhM"
      },
      "execution_count": null,
      "outputs": []
    }
  ]
}