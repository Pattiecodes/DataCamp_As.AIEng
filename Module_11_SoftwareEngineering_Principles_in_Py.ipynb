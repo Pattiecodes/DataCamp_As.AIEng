{
  "nbformat": 4,
  "nbformat_minor": 0,
  "metadata": {
    "colab": {
      "provenance": [],
      "authorship_tag": "ABX9TyPhOdZkvLs/dzf1nobhtoXt",
      "include_colab_link": true
    },
    "kernelspec": {
      "name": "python3",
      "display_name": "Python 3"
    },
    "language_info": {
      "name": "python"
    }
  },
  "cells": [
    {
      "cell_type": "markdown",
      "metadata": {
        "id": "view-in-github",
        "colab_type": "text"
      },
      "source": [
        "<a href=\"https://colab.research.google.com/github/Pattiecodes/DataCamp_As.AIEng/blob/main/Module_11_SoftwareEngineering_Principles_in_Py.ipynb\" target=\"_parent\"><img src=\"https://colab.research.google.com/assets/colab-badge.svg\" alt=\"Open In Colab\"/></a>"
      ]
    },
    {
      "cell_type": "markdown",
      "source": [
        "# --- Module Start ---"
      ],
      "metadata": {
        "id": "EGaYZj2gmmfu"
      }
    },
    {
      "cell_type": "markdown",
      "source": [
        "# Python modularity in the wild\n",
        "In the slides, we covered 3 ways that you can write modular code with Python: packages, classes, and methods. For reference, you can see the example code we reviewed below.\n",
        "```\n",
        "# Import the pandas PACKAGE\n",
        "import pandas as pd\n",
        "\n",
        "# Create some example data\n",
        "data = {'x': [1, 2, 3, 4],\n",
        "        'y': [20.1, 62.5, 34.8, 42.7]}\n",
        "\n",
        "# Create a dataframe CLASS object\n",
        "df = pd.DataFrame(data)\n",
        "\n",
        "# Use the plot METHOD\n",
        "df.plot('x', 'y')\n",
        "In this exercise, you'll utilize a class & a method from the popular package numpy.\n",
        "```\n",
        "Instructions\n",
        "100 XP\n",
        "Complete the import statement to load the numpy package.\n",
        "Use numpy's array class to define arr.\n",
        "Use arr's sort method to sort the numpy array."
      ],
      "metadata": {
        "id": "BcM7vdxh41mu"
      }
    },
    {
      "cell_type": "code",
      "execution_count": null,
      "metadata": {
        "id": "wuzXGqgdmjg7"
      },
      "outputs": [],
      "source": [
        "# import the numpy package\n",
        "import numpy as np\n",
        "\n",
        "# create an array class object\n",
        "arr = np.array([8, 6, 7, 5, 3, 0, 9])\n",
        "\n",
        "# use the sort method\n",
        "arr.sort()\n",
        "\n",
        "# print the sorted array\n",
        "print(arr)\n"
      ]
    },
    {
      "cell_type": "markdown",
      "source": [
        "# Leveraging documentation\n",
        "When writing code for Data Science, it's inevitable that you'll need to install and use someone else's code. You'll quickly learn that using someone else's code is much more pleasant when they use good software engineering practices. In particular, good documentation makes the right way to call a function obvious. In this exercise you'll use python's help() method to view a function's documentation so you can determine how to correctly call a new method.\n",
        "\n",
        "The list words has been loaded in your session.\n",
        "\n",
        "Instructions 1/2\n",
        "50 XP\n",
        "1\n",
        "2\n",
        "View the documentation of the Counter.most_common method using the help() function. Note, you need to run the import statement before completing this step."
      ],
      "metadata": {
        "id": "XyP81ZF0FVlX"
      }
    },
    {
      "cell_type": "code",
      "source": [
        "# load the Counter function into our environment\n",
        "from collections import Counter\n",
        "\n",
        "# View the documentation for Counter.most_common\n",
        "help(Counter.most_common)\n"
      ],
      "metadata": {
        "id": "geVDqs02FV4G"
      },
      "execution_count": null,
      "outputs": []
    },
    {
      "cell_type": "markdown",
      "source": [
        "Instrcutions 2/2\n",
        "Correctly call Counter.most_common() by reading its documentation.\n",
        "Print the results stored in top_5_words."
      ],
      "metadata": {
        "id": "dWhqdYZBFdqn"
      }
    },
    {
      "cell_type": "code",
      "source": [
        "# load the Counter function into our environment\n",
        "from collections import Counter\n",
        "\n",
        "# View the documentation for Counter.most_common\n",
        "help(Counter.most_common)\n",
        "\n",
        "# use Counter to find the top 5 most common words\n",
        "top_5_words = Counter(words).most_common(5)\n",
        "\n",
        "# display the top 5 most common words\n",
        "print(top_5_words)\n"
      ],
      "metadata": {
        "id": "HFXFKXaVFfvm"
      },
      "execution_count": null,
      "outputs": []
    },
    {
      "cell_type": "markdown",
      "source": [
        "# Using pycodestyle\n",
        "We saw earlier that pycodestyle can be run from the command line to check a file for PEP 8 compliance. Sometimes it's useful to run this kind of check from a Python script.\n",
        "\n",
        "In this exercise, you'll use pycodestyle's StyleGuide class to check multiple files for PEP 8 compliance. Both files accomplish the same task, but they differ greatly in formatting and readability. You can view the contents of the files by following their links below.\n",
        "\n",
        "Instructions\n",
        "100 XP\n",
        "Import the pycodestyle package.\n",
        "Create an instance of StyleGuide named style_checker.\n",
        "There are two files that we'll be checking; they're named 'nay_pep8.py' and 'yay_pep8.py'. Pass a list containing these file names to our style_checker's check_files method.\n",
        "print() the results of our style check to the console. Make sure to read the output!"
      ],
      "metadata": {
        "id": "aVHXNCI4vNDg"
      }
    },
    {
      "cell_type": "code",
      "source": [
        "# Import needed package\n",
        "import pycodestyle\n",
        "\n",
        "# Create a StyleGuide instance\n",
        "style_checker = pycodestyle.StyleGuide()\n",
        "\n",
        "# Run PEP 8 check on multiple files\n",
        "result = style_checker.check_files(['nay_pep8.py', 'yay_pep8.py'])\n",
        "\n",
        "# Print result of PEP 8 style check\n",
        "print(result.messages)\n"
      ],
      "metadata": {
        "id": "eGpTWCW1vNZo"
      },
      "execution_count": null,
      "outputs": []
    },
    {
      "cell_type": "markdown",
      "source": [
        "# Conforming to PEP 8\n",
        "As we've covered, there are tools available to check if your code conforms to the PEP 8 guidelines. One possible way to stay compliant is to use an IDE that warns you when you accidentally stray from the style guide. Another way to check code is to use the pycodestyle package.\n",
        "\n",
        "The results below show the output of running pycodestyle check against the code shown in your editor. The leading number in each line shows how many occurrences there were of that particular violation.\n",
        "```\n",
        "my_script.py:2:2:  E225 missing whitespace around operator\n",
        "my_script.py:2:7:  E231 missing whitespace after ','\n",
        "my_script.py:2:9:  E231 missing whitespace after ','\n",
        "my_script.py:5:7:  E201 whitespace after '('\n",
        "my_script.py:5:11: E202 whitespace before ')'\n",
        "```\n",
        "Instructions\n",
        "100 XP\n",
        "Leverage the output of pycodestyle to edit the code to be compliant with PEP 8."
      ],
      "metadata": {
        "id": "_AdHF-C_vwYV"
      }
    },
    {
      "cell_type": "code",
      "source": [
        "# Assign data to x\n",
        "x = [8, 3, 4]\n",
        "\n",
        "# Print the data\n",
        "print(x)\n"
      ],
      "metadata": {
        "id": "icUQ9MxovyhN"
      },
      "execution_count": null,
      "outputs": []
    },
    {
      "cell_type": "markdown",
      "source": [
        "# PEP 8 in documentation\n",
        "So far we've focused on how PEP 8 affects functional pieces of code. There are also rules to help make comments and documentation more readable. In this exercise, you'll be fixing various types of comments to be PEP 8 compliant.\n",
        "\n",
        "The result of a pycodestyle style check on the code can be seen below.\n",
        "```\n",
        "my_script.py:2:15: E261 at least two spaces before inline comment\n",
        "my_script.py:5:16: E262 inline comment should start with '# '\n",
        "my_script.py:11:1: E265 block comment should start with '# '\n",
        "my_script.py:13:2: E114 indentation is not a multiple of four (comment)\n",
        "my_script.py:13:2: E116 unexpected indentation (comment)\n",
        "```\n",
        "Instructions\n",
        "100 XP\n",
        "Leverage the output of pycodestyle to edit the code's comments to be compliant with PEP 8."
      ],
      "metadata": {
        "id": "zhF_AtdJwRNE"
      }
    },
    {
      "cell_type": "code",
      "source": [
        "def print_phrase(phrase, polite=True, shout=False):\n",
        "    if polite:  # It's generally polite to say please\n",
        "        phrase = 'Please ' + phrase\n",
        "\n",
        "    if shout:  # All caps looks like a written shout\n",
        "        phrase = phrase.upper() + '!!'\n",
        "\n",
        "    print(phrase)\n",
        "\n",
        "\n",
        "# Politely ask for help\n",
        "print_phrase('help me', polite=True)\n",
        "# Shout about a discovery\n",
        "print_phrase('eureka', shout=True)\n"
      ],
      "metadata": {
        "id": "YpdhHx1ywTaf"
      },
      "execution_count": null,
      "outputs": []
    },
    {
      "cell_type": "markdown",
      "source": [
        "# Naming packages\n",
        "We covered the PEP 8 guidelines for naming packages. In this exercise, you'll use that knowledge to identify a package following the requirements.\n",
        "\n",
        "For additional reference, you can view the PEP 8 section on package naming here (https://www.python.org/dev/peps/pep-0008/#package-and-module-name)\n",
        "\n",
        "Instructions\n",
        "100 XP\n",
        "The possible package names to import are the following: text_analyzer, textAnalyzer, TextAnalyzer, & __text_analyzer__.\n",
        "import the package from the list above that follows the PEP 8 naming conventions."
      ],
      "metadata": {
        "id": "b02C6eb2cit1"
      }
    },
    {
      "cell_type": "code",
      "source": [
        "# Import the package with a name that follows PEP 8\n",
        "import text_analyzer\n"
      ],
      "metadata": {
        "id": "s9lXDSAhcnSD"
      },
      "execution_count": null,
      "outputs": []
    },
    {
      "cell_type": "markdown",
      "source": [
        "# Recognizing packages\n",
        "The structure of your directory tree is printed below. You'll be working in the file my_script.py that you can see in the tree.\n",
        "```\n",
        "recognizing_packages\n",
        "├── MY_PACKAGE\n",
        "│   └── __init__.py\n",
        "├── package\n",
        "│   └── __init__.py\n",
        "├── package_py\n",
        "│   └── __init__\n",
        "│       └── __init__.py\n",
        "├── py_package\n",
        "│   └── __init__.py\n",
        "├── pyackage\n",
        "│   └── init.py\n",
        "└── my_script.py\n",
        "```\n",
        "Instructions\n",
        "100 XP\n",
        "Use the information from the context to identify the packages in the directory that follow the minimal structure.\n",
        "import the two packages that follow the minimal package requirements.\n",
        "Use help() to print information about each imported package."
      ],
      "metadata": {
        "id": "fpxG9ig0dBQK"
      }
    },
    {
      "cell_type": "code",
      "source": [
        "# Import local packages\n",
        "import package\n",
        "import py_package\n",
        "\n",
        "# View the help for each package\n",
        "help(package)\n",
        "help(py_package)\n"
      ],
      "metadata": {
        "id": "jMXaLaXNdDBS"
      },
      "execution_count": null,
      "outputs": []
    },
    {
      "cell_type": "markdown",
      "source": [
        "# Adding functionality to your package\n",
        "Thanks to your work before, you already have a skeleton for your python package. In this exercise, you will work to define the functions needed for a text analysis of word usage.\n",
        "\n",
        "In the file counter_utils.py, you will write 2 functions to be a part of your package: plot_counter and sum_counters. The structure of your package can be seen in the tree below. For the coding portions of this exercise, you will be working in the file counter_utils.py.\n",
        "```\n",
        "text_analyzer\n",
        "├── __init__.py\n",
        "└── counter_utils.py\n",
        "```\n",
        "Instructions 1/3\n",
        "35 XP\n",
        "1\n",
        "2\n",
        "3\n",
        "Define top_items using plot_counter's inputs."
      ],
      "metadata": {
        "id": "A46lgCYU7UhD"
      }
    },
    {
      "cell_type": "code",
      "source": [
        "# Import needed functionality\n",
        "from collections import Counter\n",
        "\n",
        "def plot_counter(counter, n_most_common=5):\n",
        "  # Subset the n_most_common items from the input counter\n",
        "  top_items = counter.most_common(n_most_common)\n",
        "  # Plot `top_items`\n",
        "  plot_counter_most_common(top_items)\n"
      ],
      "metadata": {
        "id": "0ZmGDIbV7V21"
      },
      "execution_count": null,
      "outputs": []
    },
    {
      "cell_type": "markdown",
      "source": [
        "Instructions 2/3\n",
        "Return the correct output from sum_counters."
      ],
      "metadata": {
        "id": "Kslrb0L58FQt"
      }
    },
    {
      "cell_type": "code",
      "source": [
        "# Import needed functionality\n",
        "from collections import Counter\n",
        "\n",
        "def sum_counters(counters):\n",
        "  # Sum the inputted counters\n",
        "  return sum(counters, Counter())\n"
      ],
      "metadata": {
        "id": "xsjtQ5-d8HAk"
      },
      "execution_count": null,
      "outputs": []
    },
    {
      "cell_type": "markdown",
      "source": [
        "Instructions 3/3\n",
        "Question\n",
        "You just wrote two functions for your package in the file counter_utils.py named plot_counter & sum_counters. Which of the following lines would correctly import these functions in __init__.py using relative import syntax?\n",
        "\n",
        "Possible answers\n",
        "\n",
        "```\n",
        "from counter_utils import plot_counter, sum_counters\n",
        "\n",
        "from .counter_utils import plot_counter, sum_counters\n",
        "\n",
        "from . import plot_counter, sum_counters\n",
        "\n",
        "from .counter_utils import plot_counter & sum_counters\n",
        "```"
      ],
      "metadata": {
        "id": "yd1fUueC9FxA"
      }
    },
    {
      "cell_type": "code",
      "source": [
        "from .counter_utils import plot_counter, sum_counters"
      ],
      "metadata": {
        "id": "CV4M7ST19RBc"
      },
      "execution_count": null,
      "outputs": []
    },
    {
      "cell_type": "markdown",
      "source": [
        "# Using your package's new functionality\n",
        "You've now created some great functionality for text analysis to your package. In this exercise, you'll leverage your package to analyze some tweets written by DataCamp & DataCamp users.\n",
        "\n",
        "The object word_counts is loaded into your environment. It contains a list of Counter objects that contain word counts from a sample of DataCamp tweets.\n",
        "\n",
        "The structure you've created can be seen in the tree below. You'll be working in my_script.py.\n",
        "```\n",
        "working_dir\n",
        "├── text_analyzer\n",
        "│    ├── __init__.py\n",
        "│    ├── counter_utils.py\n",
        "└── my_script.py\n",
        "```\n",
        "Instructions\n",
        "100 XP\n",
        "import your text_analyzer at the top of the script.\n",
        "Use the sum_counters() function from text_analyzer to aggregate all the Counters in word_counts.\n",
        "Use the plot_counter() function from text_analyzer to visualize the tweet's most used words while tweeting."
      ],
      "metadata": {
        "id": "8OLUts8S-rCA"
      }
    },
    {
      "cell_type": "code",
      "source": [
        "# Import local package\n",
        "import text_analyzer\n",
        "\n",
        "# Sum word_counts using sum_counters from text_analyzer\n",
        "word_count_totals = text_analyzer.sum_counters(word_counts)\n",
        "\n",
        "# Plot word_count_totals using plot_counter from text_analyzer\n",
        "text_analyzer.plot_counter(word_count_totals)"
      ],
      "metadata": {
        "id": "o5LT_QBG-s0F"
      },
      "execution_count": null,
      "outputs": []
    },
    {
      "cell_type": "markdown",
      "source": [
        "# Writing requirements.txt\n",
        "We covered how having a requirements.txt file can help your package be more portable by allowing your users to easily recreate its intended environment. In this exercise, you will be writing the contents of a requirements file to a python variable.\n",
        "\n",
        "Note, in practice, the code you write in this exercise would be written to its own txt file instead of a variable in your python session.\n",
        "\n",
        "Instructions\n",
        "100 XP\n",
        "* Write the requirement for matplotlib with at least version 3.0.0 or\n",
        "above.\n",
        "* Write the requirement for numpy version 1.15.4 exactly.\n",
        "* Write the requirement for pandas with at most version 0.22.0.\n",
        "* Write a non-version specific requirement for pycodestyle"
      ],
      "metadata": {
        "id": "VCqkg9dA69Ak"
      }
    },
    {
      "cell_type": "code",
      "source": [
        "requirements = \"\"\"\n",
        "matplotlib>=3.0.0\n",
        "numpy==1.15.4\n",
        "pandas<=0.22.0\n",
        "pycodestyle\n",
        "\"\"\""
      ],
      "metadata": {
        "id": "XNJwVorZ69TR"
      },
      "execution_count": null,
      "outputs": []
    },
    {
      "cell_type": "markdown",
      "source": [
        "# Creating setup.py\n",
        "In order to make your package installable by pip you need to create a setup.py file. In this exercise you will create this file for the text_analyzer package you've been building.\n",
        "\n",
        "Instructions\n",
        "100 XP\n",
        "import the needed function, setup, from the setuptools package.\n",
        "Complete the name & packages arguments; keep in mind your package is located in a directory named text_analyzer.\n",
        "List yourself as the author."
      ],
      "metadata": {
        "id": "7f4w4oH479Wj"
      }
    },
    {
      "cell_type": "code",
      "source": [
        "# Import needed function from setuptools\n",
        "from setuptools import setup\n",
        "\n",
        "# Create proper setup to be used by pip\n",
        "setup(name='text_analyzer',\n",
        "      version='0.0.1',\n",
        "      description='Perform and visualize a text analysis.',\n",
        "      author='James Patrick De Ocampo',\n",
        "      packages=['text_analyzer'])"
      ],
      "metadata": {
        "id": "_JU-isSy79oJ"
      },
      "execution_count": null,
      "outputs": []
    },
    {
      "cell_type": "markdown",
      "source": [
        "# Listing requirements in setup.py\n",
        "We created a setup.py file earlier, but we forgot to list our dependency on matplotlib in the install_requires argument. In this exercise you will practice listing your version specific dependencies by correcting the setup.py you previously wrote for your text_analyzer package.\n",
        "\n",
        "Instructions\n",
        "100 XP\n",
        "import the needed function, setup, from the setuptools package.\n",
        "List yourself as the author.\n",
        "Specify your install_requires to require matplotlib version 3.0.0 or above."
      ],
      "metadata": {
        "id": "tXVfodj78Rfh"
      }
    },
    {
      "cell_type": "code",
      "source": [
        "# Import needed function from setuptools\n",
        "from setuptools import setup\n",
        "\n",
        "# Create proper setup to be used by pip\n",
        "setup(name='text_analyzer',\n",
        "      version='0.0.1',\n",
        "      description='Perform and visualize a text analysis.',\n",
        "      author='James Patrick De Ocampo',\n",
        "      packages=['text_analyzer'],\n",
        "      install_requires=['matplotlib>=3.0.0'])\n"
      ],
      "metadata": {
        "id": "5bwc30gt8R5N"
      },
      "execution_count": null,
      "outputs": []
    }
  ]
}