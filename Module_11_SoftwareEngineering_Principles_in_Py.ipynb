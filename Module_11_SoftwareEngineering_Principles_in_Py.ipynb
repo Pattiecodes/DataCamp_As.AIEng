{
  "nbformat": 4,
  "nbformat_minor": 0,
  "metadata": {
    "colab": {
      "provenance": [],
      "authorship_tag": "ABX9TyO7xFS2s0QLIMM6v2NCcGkp",
      "include_colab_link": true
    },
    "kernelspec": {
      "name": "python3",
      "display_name": "Python 3"
    },
    "language_info": {
      "name": "python"
    }
  },
  "cells": [
    {
      "cell_type": "markdown",
      "metadata": {
        "id": "view-in-github",
        "colab_type": "text"
      },
      "source": [
        "<a href=\"https://colab.research.google.com/github/Pattiecodes/DataCamp_As.AIEng/blob/main/Module_11_SoftwareEngineering_Principles_in_Py.ipynb\" target=\"_parent\"><img src=\"https://colab.research.google.com/assets/colab-badge.svg\" alt=\"Open In Colab\"/></a>"
      ]
    },
    {
      "cell_type": "markdown",
      "source": [
        "# --- Module Start ---"
      ],
      "metadata": {
        "id": "EGaYZj2gmmfu"
      }
    },
    {
      "cell_type": "markdown",
      "source": [
        "# Python modularity in the wild\n",
        "In the slides, we covered 3 ways that you can write modular code with Python: packages, classes, and methods. For reference, you can see the example code we reviewed below.\n",
        "```\n",
        "# Import the pandas PACKAGE\n",
        "import pandas as pd\n",
        "\n",
        "# Create some example data\n",
        "data = {'x': [1, 2, 3, 4],\n",
        "        'y': [20.1, 62.5, 34.8, 42.7]}\n",
        "\n",
        "# Create a dataframe CLASS object\n",
        "df = pd.DataFrame(data)\n",
        "\n",
        "# Use the plot METHOD\n",
        "df.plot('x', 'y')\n",
        "In this exercise, you'll utilize a class & a method from the popular package numpy.\n",
        "```\n",
        "Instructions\n",
        "100 XP\n",
        "Complete the import statement to load the numpy package.\n",
        "Use numpy's array class to define arr.\n",
        "Use arr's sort method to sort the numpy array."
      ],
      "metadata": {
        "id": "BcM7vdxh41mu"
      }
    },
    {
      "cell_type": "code",
      "execution_count": null,
      "metadata": {
        "id": "wuzXGqgdmjg7"
      },
      "outputs": [],
      "source": [
        "# import the numpy package\n",
        "import numpy as np\n",
        "\n",
        "# create an array class object\n",
        "arr = np.array([8, 6, 7, 5, 3, 0, 9])\n",
        "\n",
        "# use the sort method\n",
        "arr.sort()\n",
        "\n",
        "# print the sorted array\n",
        "print(arr)\n"
      ]
    },
    {
      "cell_type": "markdown",
      "source": [
        "# Leveraging documentation\n",
        "When writing code for Data Science, it's inevitable that you'll need to install and use someone else's code. You'll quickly learn that using someone else's code is much more pleasant when they use good software engineering practices. In particular, good documentation makes the right way to call a function obvious. In this exercise you'll use python's help() method to view a function's documentation so you can determine how to correctly call a new method.\n",
        "\n",
        "The list words has been loaded in your session.\n",
        "\n",
        "Instructions 1/2\n",
        "50 XP\n",
        "1\n",
        "2\n",
        "View the documentation of the Counter.most_common method using the help() function. Note, you need to run the import statement before completing this step."
      ],
      "metadata": {
        "id": "XyP81ZF0FVlX"
      }
    },
    {
      "cell_type": "code",
      "source": [
        "# load the Counter function into our environment\n",
        "from collections import Counter\n",
        "\n",
        "# View the documentation for Counter.most_common\n",
        "help(Counter.most_common)\n"
      ],
      "metadata": {
        "id": "geVDqs02FV4G"
      },
      "execution_count": null,
      "outputs": []
    },
    {
      "cell_type": "markdown",
      "source": [
        "Instrcutions 2/2\n",
        "Correctly call Counter.most_common() by reading its documentation.\n",
        "Print the results stored in top_5_words."
      ],
      "metadata": {
        "id": "dWhqdYZBFdqn"
      }
    },
    {
      "cell_type": "code",
      "source": [
        "# load the Counter function into our environment\n",
        "from collections import Counter\n",
        "\n",
        "# View the documentation for Counter.most_common\n",
        "help(Counter.most_common)\n",
        "\n",
        "# use Counter to find the top 5 most common words\n",
        "top_5_words = Counter(words).most_common(5)\n",
        "\n",
        "# display the top 5 most common words\n",
        "print(top_5_words)\n"
      ],
      "metadata": {
        "id": "HFXFKXaVFfvm"
      },
      "execution_count": null,
      "outputs": []
    },
    {
      "cell_type": "markdown",
      "source": [
        "# Using pycodestyle\n",
        "We saw earlier that pycodestyle can be run from the command line to check a file for PEP 8 compliance. Sometimes it's useful to run this kind of check from a Python script.\n",
        "\n",
        "In this exercise, you'll use pycodestyle's StyleGuide class to check multiple files for PEP 8 compliance. Both files accomplish the same task, but they differ greatly in formatting and readability. You can view the contents of the files by following their links below.\n",
        "\n",
        "Instructions\n",
        "100 XP\n",
        "Import the pycodestyle package.\n",
        "Create an instance of StyleGuide named style_checker.\n",
        "There are two files that we'll be checking; they're named 'nay_pep8.py' and 'yay_pep8.py'. Pass a list containing these file names to our style_checker's check_files method.\n",
        "print() the results of our style check to the console. Make sure to read the output!"
      ],
      "metadata": {
        "id": "aVHXNCI4vNDg"
      }
    },
    {
      "cell_type": "code",
      "source": [
        "# Import needed package\n",
        "import pycodestyle\n",
        "\n",
        "# Create a StyleGuide instance\n",
        "style_checker = pycodestyle.StyleGuide()\n",
        "\n",
        "# Run PEP 8 check on multiple files\n",
        "result = style_checker.check_files(['nay_pep8.py', 'yay_pep8.py'])\n",
        "\n",
        "# Print result of PEP 8 style check\n",
        "print(result.messages)\n"
      ],
      "metadata": {
        "id": "eGpTWCW1vNZo"
      },
      "execution_count": null,
      "outputs": []
    },
    {
      "cell_type": "markdown",
      "source": [
        "# Conforming to PEP 8\n",
        "As we've covered, there are tools available to check if your code conforms to the PEP 8 guidelines. One possible way to stay compliant is to use an IDE that warns you when you accidentally stray from the style guide. Another way to check code is to use the pycodestyle package.\n",
        "\n",
        "The results below show the output of running pycodestyle check against the code shown in your editor. The leading number in each line shows how many occurrences there were of that particular violation.\n",
        "```\n",
        "my_script.py:2:2:  E225 missing whitespace around operator\n",
        "my_script.py:2:7:  E231 missing whitespace after ','\n",
        "my_script.py:2:9:  E231 missing whitespace after ','\n",
        "my_script.py:5:7:  E201 whitespace after '('\n",
        "my_script.py:5:11: E202 whitespace before ')'\n",
        "```\n",
        "Instructions\n",
        "100 XP\n",
        "Leverage the output of pycodestyle to edit the code to be compliant with PEP 8."
      ],
      "metadata": {
        "id": "_AdHF-C_vwYV"
      }
    },
    {
      "cell_type": "code",
      "source": [
        "# Assign data to x\n",
        "x = [8, 3, 4]\n",
        "\n",
        "# Print the data\n",
        "print(x)\n"
      ],
      "metadata": {
        "id": "icUQ9MxovyhN"
      },
      "execution_count": null,
      "outputs": []
    },
    {
      "cell_type": "markdown",
      "source": [
        "# PEP 8 in documentation\n",
        "So far we've focused on how PEP 8 affects functional pieces of code. There are also rules to help make comments and documentation more readable. In this exercise, you'll be fixing various types of comments to be PEP 8 compliant.\n",
        "\n",
        "The result of a pycodestyle style check on the code can be seen below.\n",
        "```\n",
        "my_script.py:2:15: E261 at least two spaces before inline comment\n",
        "my_script.py:5:16: E262 inline comment should start with '# '\n",
        "my_script.py:11:1: E265 block comment should start with '# '\n",
        "my_script.py:13:2: E114 indentation is not a multiple of four (comment)\n",
        "my_script.py:13:2: E116 unexpected indentation (comment)\n",
        "```\n",
        "Instructions\n",
        "100 XP\n",
        "Leverage the output of pycodestyle to edit the code's comments to be compliant with PEP 8."
      ],
      "metadata": {
        "id": "zhF_AtdJwRNE"
      }
    },
    {
      "cell_type": "code",
      "source": [
        "def print_phrase(phrase, polite=True, shout=False):\n",
        "    if polite:  # It's generally polite to say please\n",
        "        phrase = 'Please ' + phrase\n",
        "\n",
        "    if shout:  # All caps looks like a written shout\n",
        "        phrase = phrase.upper() + '!!'\n",
        "\n",
        "    print(phrase)\n",
        "\n",
        "\n",
        "# Politely ask for help\n",
        "print_phrase('help me', polite=True)\n",
        "# Shout about a discovery\n",
        "print_phrase('eureka', shout=True)\n"
      ],
      "metadata": {
        "id": "YpdhHx1ywTaf"
      },
      "execution_count": null,
      "outputs": []
    },
    {
      "cell_type": "markdown",
      "source": [
        "# Naming packages\n",
        "We covered the PEP 8 guidelines for naming packages. In this exercise, you'll use that knowledge to identify a package following the requirements.\n",
        "\n",
        "For additional reference, you can view the PEP 8 section on package naming here (https://www.python.org/dev/peps/pep-0008/#package-and-module-name)\n",
        "\n",
        "Instructions\n",
        "100 XP\n",
        "The possible package names to import are the following: text_analyzer, textAnalyzer, TextAnalyzer, & __text_analyzer__.\n",
        "import the package from the list above that follows the PEP 8 naming conventions."
      ],
      "metadata": {
        "id": "b02C6eb2cit1"
      }
    },
    {
      "cell_type": "code",
      "source": [
        "# Import the package with a name that follows PEP 8\n",
        "import text_analyzer\n"
      ],
      "metadata": {
        "id": "s9lXDSAhcnSD"
      },
      "execution_count": null,
      "outputs": []
    }
  ]
}