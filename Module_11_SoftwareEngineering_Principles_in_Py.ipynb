{
  "nbformat": 4,
  "nbformat_minor": 0,
  "metadata": {
    "colab": {
      "provenance": [],
      "authorship_tag": "ABX9TyPBK8xtTJdLv7pNLRh9ENSS",
      "include_colab_link": true
    },
    "kernelspec": {
      "name": "python3",
      "display_name": "Python 3"
    },
    "language_info": {
      "name": "python"
    }
  },
  "cells": [
    {
      "cell_type": "markdown",
      "metadata": {
        "id": "view-in-github",
        "colab_type": "text"
      },
      "source": [
        "<a href=\"https://colab.research.google.com/github/Pattiecodes/DataCamp_As.AIEng/blob/main/Module_11_SoftwareEngineering_Principles_in_Py.ipynb\" target=\"_parent\"><img src=\"https://colab.research.google.com/assets/colab-badge.svg\" alt=\"Open In Colab\"/></a>"
      ]
    },
    {
      "cell_type": "markdown",
      "source": [
        "# --- Module Start ---"
      ],
      "metadata": {
        "id": "EGaYZj2gmmfu"
      }
    },
    {
      "cell_type": "markdown",
      "source": [
        "# Python modularity in the wild\n",
        "In the slides, we covered 3 ways that you can write modular code with Python: packages, classes, and methods. For reference, you can see the example code we reviewed below.\n",
        "```\n",
        "# Import the pandas PACKAGE\n",
        "import pandas as pd\n",
        "\n",
        "# Create some example data\n",
        "data = {'x': [1, 2, 3, 4],\n",
        "        'y': [20.1, 62.5, 34.8, 42.7]}\n",
        "\n",
        "# Create a dataframe CLASS object\n",
        "df = pd.DataFrame(data)\n",
        "\n",
        "# Use the plot METHOD\n",
        "df.plot('x', 'y')\n",
        "In this exercise, you'll utilize a class & a method from the popular package numpy.\n",
        "```\n",
        "Instructions\n",
        "100 XP\n",
        "Complete the import statement to load the numpy package.\n",
        "Use numpy's array class to define arr.\n",
        "Use arr's sort method to sort the numpy array."
      ],
      "metadata": {
        "id": "BcM7vdxh41mu"
      }
    },
    {
      "cell_type": "code",
      "execution_count": null,
      "metadata": {
        "id": "wuzXGqgdmjg7"
      },
      "outputs": [],
      "source": [
        "# import the numpy package\n",
        "import numpy as np\n",
        "\n",
        "# create an array class object\n",
        "arr = np.array([8, 6, 7, 5, 3, 0, 9])\n",
        "\n",
        "# use the sort method\n",
        "arr.sort()\n",
        "\n",
        "# print the sorted array\n",
        "print(arr)\n"
      ]
    }
  ]
}