{
  "nbformat": 4,
  "nbformat_minor": 0,
  "metadata": {
    "colab": {
      "provenance": [],
      "authorship_tag": "ABX9TyPV8RAmFudZ60MtBFvnCo13",
      "include_colab_link": true
    },
    "kernelspec": {
      "name": "python3",
      "display_name": "Python 3"
    },
    "language_info": {
      "name": "python"
    }
  },
  "cells": [
    {
      "cell_type": "markdown",
      "metadata": {
        "id": "view-in-github",
        "colab_type": "text"
      },
      "source": [
        "<a href=\"https://colab.research.google.com/github/Pattiecodes/DataCamp_As.AIEng/blob/main/Module_11_SoftwareEngineering_Principles_in_Py.ipynb\" target=\"_parent\"><img src=\"https://colab.research.google.com/assets/colab-badge.svg\" alt=\"Open In Colab\"/></a>"
      ]
    },
    {
      "cell_type": "markdown",
      "source": [
        "# --- Module Start ---"
      ],
      "metadata": {
        "id": "EGaYZj2gmmfu"
      }
    },
    {
      "cell_type": "markdown",
      "source": [
        "# Python modularity in the wild\n",
        "In the slides, we covered 3 ways that you can write modular code with Python: packages, classes, and methods. For reference, you can see the example code we reviewed below.\n",
        "```\n",
        "# Import the pandas PACKAGE\n",
        "import pandas as pd\n",
        "\n",
        "# Create some example data\n",
        "data = {'x': [1, 2, 3, 4],\n",
        "        'y': [20.1, 62.5, 34.8, 42.7]}\n",
        "\n",
        "# Create a dataframe CLASS object\n",
        "df = pd.DataFrame(data)\n",
        "\n",
        "# Use the plot METHOD\n",
        "df.plot('x', 'y')\n",
        "In this exercise, you'll utilize a class & a method from the popular package numpy.\n",
        "```\n",
        "Instructions\n",
        "100 XP\n",
        "Complete the import statement to load the numpy package.\n",
        "Use numpy's array class to define arr.\n",
        "Use arr's sort method to sort the numpy array."
      ],
      "metadata": {
        "id": "BcM7vdxh41mu"
      }
    },
    {
      "cell_type": "code",
      "execution_count": null,
      "metadata": {
        "id": "wuzXGqgdmjg7"
      },
      "outputs": [],
      "source": [
        "# import the numpy package\n",
        "import numpy as np\n",
        "\n",
        "# create an array class object\n",
        "arr = np.array([8, 6, 7, 5, 3, 0, 9])\n",
        "\n",
        "# use the sort method\n",
        "arr.sort()\n",
        "\n",
        "# print the sorted array\n",
        "print(arr)\n"
      ]
    },
    {
      "cell_type": "markdown",
      "source": [
        "# Leveraging documentation\n",
        "When writing code for Data Science, it's inevitable that you'll need to install and use someone else's code. You'll quickly learn that using someone else's code is much more pleasant when they use good software engineering practices. In particular, good documentation makes the right way to call a function obvious. In this exercise you'll use python's help() method to view a function's documentation so you can determine how to correctly call a new method.\n",
        "\n",
        "The list words has been loaded in your session.\n",
        "\n",
        "Instructions 1/2\n",
        "50 XP\n",
        "1\n",
        "2\n",
        "View the documentation of the Counter.most_common method using the help() function. Note, you need to run the import statement before completing this step."
      ],
      "metadata": {
        "id": "XyP81ZF0FVlX"
      }
    },
    {
      "cell_type": "code",
      "source": [
        "# load the Counter function into our environment\n",
        "from collections import Counter\n",
        "\n",
        "# View the documentation for Counter.most_common\n",
        "help(Counter.most_common)\n"
      ],
      "metadata": {
        "id": "geVDqs02FV4G"
      },
      "execution_count": null,
      "outputs": []
    },
    {
      "cell_type": "markdown",
      "source": [
        "Instrcutions 2/2\n",
        "Correctly call Counter.most_common() by reading its documentation.\n",
        "Print the results stored in top_5_words."
      ],
      "metadata": {
        "id": "dWhqdYZBFdqn"
      }
    },
    {
      "cell_type": "code",
      "source": [
        "# load the Counter function into our environment\n",
        "from collections import Counter\n",
        "\n",
        "# View the documentation for Counter.most_common\n",
        "help(Counter.most_common)\n",
        "\n",
        "# use Counter to find the top 5 most common words\n",
        "top_5_words = Counter(words).most_common(5)\n",
        "\n",
        "# display the top 5 most common words\n",
        "print(top_5_words)\n"
      ],
      "metadata": {
        "id": "HFXFKXaVFfvm"
      },
      "execution_count": null,
      "outputs": []
    },
    {
      "cell_type": "markdown",
      "source": [
        "# Using pycodestyle\n",
        "We saw earlier that pycodestyle can be run from the command line to check a file for PEP 8 compliance. Sometimes it's useful to run this kind of check from a Python script.\n",
        "\n",
        "In this exercise, you'll use pycodestyle's StyleGuide class to check multiple files for PEP 8 compliance. Both files accomplish the same task, but they differ greatly in formatting and readability. You can view the contents of the files by following their links below.\n",
        "\n",
        "Instructions\n",
        "100 XP\n",
        "Import the pycodestyle package.\n",
        "Create an instance of StyleGuide named style_checker.\n",
        "There are two files that we'll be checking; they're named 'nay_pep8.py' and 'yay_pep8.py'. Pass a list containing these file names to our style_checker's check_files method.\n",
        "print() the results of our style check to the console. Make sure to read the output!"
      ],
      "metadata": {
        "id": "aVHXNCI4vNDg"
      }
    },
    {
      "cell_type": "code",
      "source": [
        "# Import needed package\n",
        "import pycodestyle\n",
        "\n",
        "# Create a StyleGuide instance\n",
        "style_checker = pycodestyle.StyleGuide()\n",
        "\n",
        "# Run PEP 8 check on multiple files\n",
        "result = style_checker.check_files(['nay_pep8.py', 'yay_pep8.py'])\n",
        "\n",
        "# Print result of PEP 8 style check\n",
        "print(result.messages)\n"
      ],
      "metadata": {
        "id": "eGpTWCW1vNZo"
      },
      "execution_count": null,
      "outputs": []
    },
    {
      "cell_type": "markdown",
      "source": [
        "# Conforming to PEP 8\n",
        "As we've covered, there are tools available to check if your code conforms to the PEP 8 guidelines. One possible way to stay compliant is to use an IDE that warns you when you accidentally stray from the style guide. Another way to check code is to use the pycodestyle package.\n",
        "\n",
        "The results below show the output of running pycodestyle check against the code shown in your editor. The leading number in each line shows how many occurrences there were of that particular violation.\n",
        "```\n",
        "my_script.py:2:2:  E225 missing whitespace around operator\n",
        "my_script.py:2:7:  E231 missing whitespace after ','\n",
        "my_script.py:2:9:  E231 missing whitespace after ','\n",
        "my_script.py:5:7:  E201 whitespace after '('\n",
        "my_script.py:5:11: E202 whitespace before ')'\n",
        "```\n",
        "Instructions\n",
        "100 XP\n",
        "Leverage the output of pycodestyle to edit the code to be compliant with PEP 8."
      ],
      "metadata": {
        "id": "_AdHF-C_vwYV"
      }
    },
    {
      "cell_type": "code",
      "source": [
        "# Assign data to x\n",
        "x = [8, 3, 4]\n",
        "\n",
        "# Print the data\n",
        "print(x)\n"
      ],
      "metadata": {
        "id": "icUQ9MxovyhN"
      },
      "execution_count": null,
      "outputs": []
    },
    {
      "cell_type": "markdown",
      "source": [
        "# PEP 8 in documentation\n",
        "So far we've focused on how PEP 8 affects functional pieces of code. There are also rules to help make comments and documentation more readable. In this exercise, you'll be fixing various types of comments to be PEP 8 compliant.\n",
        "\n",
        "The result of a pycodestyle style check on the code can be seen below.\n",
        "```\n",
        "my_script.py:2:15: E261 at least two spaces before inline comment\n",
        "my_script.py:5:16: E262 inline comment should start with '# '\n",
        "my_script.py:11:1: E265 block comment should start with '# '\n",
        "my_script.py:13:2: E114 indentation is not a multiple of four (comment)\n",
        "my_script.py:13:2: E116 unexpected indentation (comment)\n",
        "```\n",
        "Instructions\n",
        "100 XP\n",
        "Leverage the output of pycodestyle to edit the code's comments to be compliant with PEP 8."
      ],
      "metadata": {
        "id": "zhF_AtdJwRNE"
      }
    },
    {
      "cell_type": "code",
      "source": [
        "def print_phrase(phrase, polite=True, shout=False):\n",
        "    if polite:  # It's generally polite to say please\n",
        "        phrase = 'Please ' + phrase\n",
        "\n",
        "    if shout:  # All caps looks like a written shout\n",
        "        phrase = phrase.upper() + '!!'\n",
        "\n",
        "    print(phrase)\n",
        "\n",
        "\n",
        "# Politely ask for help\n",
        "print_phrase('help me', polite=True)\n",
        "# Shout about a discovery\n",
        "print_phrase('eureka', shout=True)\n"
      ],
      "metadata": {
        "id": "YpdhHx1ywTaf"
      },
      "execution_count": null,
      "outputs": []
    },
    {
      "cell_type": "markdown",
      "source": [
        "# Naming packages\n",
        "We covered the PEP 8 guidelines for naming packages. In this exercise, you'll use that knowledge to identify a package following the requirements.\n",
        "\n",
        "For additional reference, you can view the PEP 8 section on package naming here (https://www.python.org/dev/peps/pep-0008/#package-and-module-name)\n",
        "\n",
        "Instructions\n",
        "100 XP\n",
        "The possible package names to import are the following: text_analyzer, textAnalyzer, TextAnalyzer, & __text_analyzer__.\n",
        "import the package from the list above that follows the PEP 8 naming conventions."
      ],
      "metadata": {
        "id": "b02C6eb2cit1"
      }
    },
    {
      "cell_type": "code",
      "source": [
        "# Import the package with a name that follows PEP 8\n",
        "import text_analyzer\n"
      ],
      "metadata": {
        "id": "s9lXDSAhcnSD"
      },
      "execution_count": null,
      "outputs": []
    },
    {
      "cell_type": "markdown",
      "source": [
        "# Recognizing packages\n",
        "The structure of your directory tree is printed below. You'll be working in the file my_script.py that you can see in the tree.\n",
        "```\n",
        "recognizing_packages\n",
        "├── MY_PACKAGE\n",
        "│   └── __init__.py\n",
        "├── package\n",
        "│   └── __init__.py\n",
        "├── package_py\n",
        "│   └── __init__\n",
        "│       └── __init__.py\n",
        "├── py_package\n",
        "│   └── __init__.py\n",
        "├── pyackage\n",
        "│   └── init.py\n",
        "└── my_script.py\n",
        "```\n",
        "Instructions\n",
        "100 XP\n",
        "Use the information from the context to identify the packages in the directory that follow the minimal structure.\n",
        "import the two packages that follow the minimal package requirements.\n",
        "Use help() to print information about each imported package."
      ],
      "metadata": {
        "id": "fpxG9ig0dBQK"
      }
    },
    {
      "cell_type": "code",
      "source": [
        "# Import local packages\n",
        "import package\n",
        "import py_package\n",
        "\n",
        "# View the help for each package\n",
        "help(package)\n",
        "help(py_package)\n"
      ],
      "metadata": {
        "id": "jMXaLaXNdDBS"
      },
      "execution_count": null,
      "outputs": []
    },
    {
      "cell_type": "markdown",
      "source": [
        "# Adding functionality to your package\n",
        "Thanks to your work before, you already have a skeleton for your python package. In this exercise, you will work to define the functions needed for a text analysis of word usage.\n",
        "\n",
        "In the file counter_utils.py, you will write 2 functions to be a part of your package: plot_counter and sum_counters. The structure of your package can be seen in the tree below. For the coding portions of this exercise, you will be working in the file counter_utils.py.\n",
        "```\n",
        "text_analyzer\n",
        "├── __init__.py\n",
        "└── counter_utils.py\n",
        "```\n",
        "Instructions 1/3\n",
        "35 XP\n",
        "1\n",
        "2\n",
        "3\n",
        "Define top_items using plot_counter's inputs."
      ],
      "metadata": {
        "id": "A46lgCYU7UhD"
      }
    },
    {
      "cell_type": "code",
      "source": [
        "# Import needed functionality\n",
        "from collections import Counter\n",
        "\n",
        "def plot_counter(counter, n_most_common=5):\n",
        "  # Subset the n_most_common items from the input counter\n",
        "  top_items = counter.most_common(n_most_common)\n",
        "  # Plot `top_items`\n",
        "  plot_counter_most_common(top_items)\n"
      ],
      "metadata": {
        "id": "0ZmGDIbV7V21"
      },
      "execution_count": null,
      "outputs": []
    },
    {
      "cell_type": "markdown",
      "source": [
        "Instructions 2/3\n",
        "Return the correct output from sum_counters."
      ],
      "metadata": {
        "id": "Kslrb0L58FQt"
      }
    },
    {
      "cell_type": "code",
      "source": [
        "# Import needed functionality\n",
        "from collections import Counter\n",
        "\n",
        "def sum_counters(counters):\n",
        "  # Sum the inputted counters\n",
        "  return sum(counters, Counter())\n"
      ],
      "metadata": {
        "id": "xsjtQ5-d8HAk"
      },
      "execution_count": null,
      "outputs": []
    },
    {
      "cell_type": "markdown",
      "source": [
        "Instructions 3/3\n",
        "Question\n",
        "You just wrote two functions for your package in the file counter_utils.py named plot_counter & sum_counters. Which of the following lines would correctly import these functions in __init__.py using relative import syntax?\n",
        "\n",
        "Possible answers\n",
        "\n",
        "```\n",
        "from counter_utils import plot_counter, sum_counters\n",
        "\n",
        "from .counter_utils import plot_counter, sum_counters\n",
        "\n",
        "from . import plot_counter, sum_counters\n",
        "\n",
        "from .counter_utils import plot_counter & sum_counters\n",
        "```"
      ],
      "metadata": {
        "id": "yd1fUueC9FxA"
      }
    },
    {
      "cell_type": "code",
      "source": [
        "from .counter_utils import plot_counter, sum_counters"
      ],
      "metadata": {
        "id": "CV4M7ST19RBc"
      },
      "execution_count": null,
      "outputs": []
    },
    {
      "cell_type": "markdown",
      "source": [
        "# Using your package's new functionality\n",
        "You've now created some great functionality for text analysis to your package. In this exercise, you'll leverage your package to analyze some tweets written by DataCamp & DataCamp users.\n",
        "\n",
        "The object word_counts is loaded into your environment. It contains a list of Counter objects that contain word counts from a sample of DataCamp tweets.\n",
        "\n",
        "The structure you've created can be seen in the tree below. You'll be working in my_script.py.\n",
        "```\n",
        "working_dir\n",
        "├── text_analyzer\n",
        "│    ├── __init__.py\n",
        "│    ├── counter_utils.py\n",
        "└── my_script.py\n",
        "```\n",
        "Instructions\n",
        "100 XP\n",
        "import your text_analyzer at the top of the script.\n",
        "Use the sum_counters() function from text_analyzer to aggregate all the Counters in word_counts.\n",
        "Use the plot_counter() function from text_analyzer to visualize the tweet's most used words while tweeting."
      ],
      "metadata": {
        "id": "8OLUts8S-rCA"
      }
    },
    {
      "cell_type": "code",
      "source": [
        "# Import local package\n",
        "import text_analyzer\n",
        "\n",
        "# Sum word_counts using sum_counters from text_analyzer\n",
        "word_count_totals = text_analyzer.sum_counters(word_counts)\n",
        "\n",
        "# Plot word_count_totals using plot_counter from text_analyzer\n",
        "text_analyzer.plot_counter(word_count_totals)"
      ],
      "metadata": {
        "id": "o5LT_QBG-s0F"
      },
      "execution_count": null,
      "outputs": []
    },
    {
      "cell_type": "markdown",
      "source": [
        "# Writing requirements.txt\n",
        "We covered how having a requirements.txt file can help your package be more portable by allowing your users to easily recreate its intended environment. In this exercise, you will be writing the contents of a requirements file to a python variable.\n",
        "\n",
        "Note, in practice, the code you write in this exercise would be written to its own txt file instead of a variable in your python session.\n",
        "\n",
        "Instructions\n",
        "100 XP\n",
        "* Write the requirement for matplotlib with at least version 3.0.0 or\n",
        "above.\n",
        "* Write the requirement for numpy version 1.15.4 exactly.\n",
        "* Write the requirement for pandas with at most version 0.22.0.\n",
        "* Write a non-version specific requirement for pycodestyle"
      ],
      "metadata": {
        "id": "VCqkg9dA69Ak"
      }
    },
    {
      "cell_type": "code",
      "source": [
        "requirements = \"\"\"\n",
        "matplotlib>=3.0.0\n",
        "numpy==1.15.4\n",
        "pandas<=0.22.0\n",
        "pycodestyle\n",
        "\"\"\""
      ],
      "metadata": {
        "id": "XNJwVorZ69TR"
      },
      "execution_count": null,
      "outputs": []
    },
    {
      "cell_type": "markdown",
      "source": [
        "# Creating setup.py\n",
        "In order to make your package installable by pip you need to create a setup.py file. In this exercise you will create this file for the text_analyzer package you've been building.\n",
        "\n",
        "Instructions\n",
        "100 XP\n",
        "import the needed function, setup, from the setuptools package.\n",
        "Complete the name & packages arguments; keep in mind your package is located in a directory named text_analyzer.\n",
        "List yourself as the author."
      ],
      "metadata": {
        "id": "7f4w4oH479Wj"
      }
    },
    {
      "cell_type": "code",
      "source": [
        "# Import needed function from setuptools\n",
        "from setuptools import setup\n",
        "\n",
        "# Create proper setup to be used by pip\n",
        "setup(name='text_analyzer',\n",
        "      version='0.0.1',\n",
        "      description='Perform and visualize a text analysis.',\n",
        "      author='James Patrick De Ocampo',\n",
        "      packages=['text_analyzer'])"
      ],
      "metadata": {
        "id": "_JU-isSy79oJ"
      },
      "execution_count": null,
      "outputs": []
    },
    {
      "cell_type": "markdown",
      "source": [
        "# Listing requirements in setup.py\n",
        "We created a setup.py file earlier, but we forgot to list our dependency on matplotlib in the install_requires argument. In this exercise you will practice listing your version specific dependencies by correcting the setup.py you previously wrote for your text_analyzer package.\n",
        "\n",
        "Instructions\n",
        "100 XP\n",
        "import the needed function, setup, from the setuptools package.\n",
        "List yourself as the author.\n",
        "Specify your install_requires to require matplotlib version 3.0.0 or above."
      ],
      "metadata": {
        "id": "tXVfodj78Rfh"
      }
    },
    {
      "cell_type": "code",
      "source": [
        "# Import needed function from setuptools\n",
        "from setuptools import setup\n",
        "\n",
        "# Create proper setup to be used by pip\n",
        "setup(name='text_analyzer',\n",
        "      version='0.0.1',\n",
        "      description='Perform and visualize a text analysis.',\n",
        "      author='James Patrick De Ocampo',\n",
        "      packages=['text_analyzer'],\n",
        "      install_requires=['matplotlib>=3.0.0'])\n"
      ],
      "metadata": {
        "id": "5bwc30gt8R5N"
      },
      "execution_count": null,
      "outputs": []
    },
    {
      "cell_type": "markdown",
      "source": [
        "# Writing a class for your package\n",
        "We've covered how classes can be written in Python. In this exercise, you'll be creating the beginnings of a Document class that will be a foundation for text analysis in your package. Once the class is written you will modify your package's __init__.py file to make it easily accessible by your users.\n",
        "\n",
        "Below is the structure of where you'll be working.\n",
        "```\n",
        "working_dir\n",
        "├── text_analyzer\n",
        "│    ├── __init__.py\n",
        "│    ├── counter_utils.py\n",
        "│    ├── document.py\n",
        "└── my_script.py\n",
        "```\n",
        "Instructions 1/2\n",
        "50 XP\n",
        "2\n",
        "You are working in document.py.\n",
        "Finish the def statement that will create a new Document instance when a user calls Document().\n",
        "Use your knowledge of PEP 8 conventions to complete the definition of the newly named class method."
      ],
      "metadata": {
        "id": "KqcGVUtjH9Zn"
      }
    },
    {
      "cell_type": "code",
      "source": [
        "# Define Document class\n",
        "class Document:\n",
        "    \"\"\"A class for text analysis\n",
        "\n",
        "    :param text: string of text to be analyzed\n",
        "    :ivar text: string of text to be analyzed; set by `text` parameter\n",
        "    \"\"\"\n",
        "    # Method to create a new instance of Document\n",
        "    def __init__(self, text):\n",
        "        # Store text parameter to the text attribute\n",
        "        self.text = text\n"
      ],
      "metadata": {
        "id": "i_0OJVsLH_FB"
      },
      "execution_count": null,
      "outputs": []
    },
    {
      "cell_type": "markdown",
      "source": [
        "# Using your package's class\n",
        "You just wrote the beginnings of a Document class that you'll build upon to perform text analysis. In this exercise, you'll test out its current functionality of storing text.\n",
        "\n",
        "Below is the document tree that you've built up so far when developing your package. You'll be working in my_script.py.\n",
        "```\n",
        "working_dir\n",
        "├── text_analyzer\n",
        "│    ├── __init__.py\n",
        "│    ├── counter_utils.py\n",
        "│    ├── document.py\n",
        "└── my_script.py\n",
        "```\n",
        "Instructions\n",
        "100 XP\n",
        "import your text_analyzer package.\n",
        "Create an instance of Document with the datacamp_tweet variable that's been loaded into your session.\n",
        "Print the contents of the text attribute of your newly created Document instance.\n",
        "\n"
      ],
      "metadata": {
        "id": "lil8_vcgIq-q"
      }
    },
    {
      "cell_type": "code",
      "source": [
        "# Import custom text_analyzer package\n",
        "import text_analyzer\n",
        "\n",
        "# Create an instance of Document with datacamp_tweet\n",
        "my_document = text_analyzer.Document(text=datacamp_tweet)\n",
        "\n",
        "# Print the text attribute of the Document instance\n",
        "print(my_document.text)\n"
      ],
      "metadata": {
        "id": "x_ggZOrAItbO"
      },
      "execution_count": null,
      "outputs": []
    },
    {
      "cell_type": "markdown",
      "source": [
        "# Writing a non-public method\n",
        "In the lesson, we covered how to add functionality to classes using non-public methods. By defining methods as non-public you're signifying to the user that the method is only to be used inside the package.\n",
        "\n",
        "In this exercise, you will define a non-public method that will be leveraged by your class to count words.\n",
        "\n",
        "Instructions\n",
        "100 XP\n",
        "Counter from collections has been loaded into your environment, as well as the function tokenize().\n",
        "Add a method named count_words as a non-public method.\n",
        "Give your non-public method the functionality to count the contents tokens attribute using Counter().\n",
        "Utilize your new function in the __init__ method."
      ],
      "metadata": {
        "id": "3pFSKw_UVnZe"
      }
    },
    {
      "cell_type": "code",
      "source": [
        "class Document:\n",
        "  def __init__(self, text):\n",
        "    self.text = text\n",
        "    # pre tokenize the document with non-public tokenize method\n",
        "    self.tokens = self._tokenize()\n",
        "    # pre tokenize the document with non-public count_words\n",
        "    self.word_counts = self._count_words()\n",
        "\n",
        "  def _tokenize(self):\n",
        "    return tokenize(self.text)\n",
        "\n",
        "  # non-public method to tally document's word counts with Counter\n",
        "  def _count_words(self):\n",
        "    return Counter(self.tokens)\n"
      ],
      "metadata": {
        "id": "dxpgEucmVnsw"
      },
      "execution_count": null,
      "outputs": []
    },
    {
      "cell_type": "markdown",
      "source": [
        "# Using your class's functionality\n",
        "You've now added additional functionality to your Document class's __init__ method that automatically processes text for your users. In this exercise, you'll act as one of those users to see the benefits of your hard work.\n",
        "\n",
        "The Document class (copied below) has been loaded into your environment (complete with your new updates).\n",
        "```\n",
        "class Document:\n",
        "  def __init__(self, text):\n",
        "    self.text = text\n",
        "    # pre tokenize the document with non-public tokenize method\n",
        "    self.tokens = self._tokenize()\n",
        "    # pre tokenize the document with non-public count_words\n",
        "    self.word_counts = self._count_words()\n",
        "\n",
        "  def _tokenize(self):\n",
        "    return tokenize(self.text)\n",
        "\n",
        "  # non-public method to tally document's word counts with Counter\n",
        "  def _count_words(self):\n",
        "    return Counter(self.tokens)\n",
        "```\n",
        "Instructions\n",
        "100 XP\n",
        "Create a new Document instance from the datacamp_tweets data set loaded into your environment. The datacamp_tweets object is a single string containing hundreds of tweets written by DataCamp & DataCamp users.\n",
        "Print the first 5 tokens from datacamp_doc.\n",
        "Print the top 5 most common words that were calculated by the non-public _count_words() method automatically in the Document.__init__ method."
      ],
      "metadata": {
        "id": "HZieAcwIWLVp"
      }
    },
    {
      "cell_type": "code",
      "source": [
        "# create a new document instance from datacamp_tweets\n",
        "datacamp_doc = Document(datacamp_tweets)\n",
        "\n",
        "# print the first 5 tokens from datacamp_doc\n",
        "print(datacamp_doc.tokens[:5])\n",
        "\n",
        "# print the top 5 most used words in datacamp_doc\n",
        "print(datacamp_doc.word_counts.most_common(5))\n"
      ],
      "metadata": {
        "id": "P7WcakOsWNrr"
      },
      "execution_count": null,
      "outputs": []
    },
    {
      "cell_type": "markdown",
      "source": [
        "# Using inheritance to create a class\n",
        "You've previously written a Document class for text analysis, but your NLP project will now have a focus on Social Media data. Your general Document class might be useful later so it's best not to destroy it while your focus shifts to tweets.\n",
        "\n",
        "Instead of copy-pasting the already written functionality, you will use the principles of 'DRY' and inheritance to quickly create your new SocialMedia class.\n",
        "\n",
        "Instructions\n",
        "100 XP\n",
        "Document has been preloaded in the session.\n",
        "Complete the class statement to create a SocialMedia class that inherits from Document.\n",
        "Define SocialMedia's __init__() method that initializes a Document.\n",
        "\n"
      ],
      "metadata": {
        "id": "GEMjN1A1Ykcp"
      }
    },
    {
      "cell_type": "code",
      "source": [
        "# Define a SocialMedia class that is a child of the `Document class`\n",
        "class SocialMedia(Document):\n",
        "    def __init__(self, text):\n",
        "        Document.__init__(self, text)\n"
      ],
      "metadata": {
        "id": "3DoSmvF2Ykuq"
      },
      "execution_count": null,
      "outputs": []
    },
    {
      "cell_type": "markdown",
      "source": [
        "# Adding functionality to a child class\n",
        "You've just written a SocialMedia class that inherits functionality from Document. As of now, the SocialMedia class doesn't have any functionality different from Document. In this exercise, you will build features into SocialMedia to specialize it for use with Social Media data.\n",
        "\n",
        "For reference, the definition of Document can be seen below.\n",
        "```\n",
        "class Document:\n",
        "    # Initialize a new Document instance\n",
        "    def __init__(self, text):\n",
        "        self.text = text\n",
        "        # Pre tokenize the document with non-public tokenize method\n",
        "        self.tokens = self._tokenize()\n",
        "        # Pre tokenize the document with non-public count_words\n",
        "        self.word_counts = self._count_words()\n",
        "\n",
        "    def _tokenize(self):\n",
        "        return tokenize(self.text)\n",
        "\n",
        "    # Non-public method to tally document's word counts\n",
        "    def _count_words(self):\n",
        "        # Use collections.Counter to count the document's tokens\n",
        "        return Counter(self.tokens)\n",
        "```\n",
        "Instructions 1/2\n",
        "50 XP\n",
        "1\n",
        "2\n",
        "The function filter_word_counts() has been loaded in your session. Use help() to see its proper usage.\n",
        "Finish the _count_hashtags method using filter_word_counts() so that only words_counts starting with # remain."
      ],
      "metadata": {
        "id": "58PKuE95ZJJV"
      }
    },
    {
      "cell_type": "code",
      "source": [
        "# Define a SocialMedia class that is a child of the `Document class`\n",
        "class SocialMedia(Document):\n",
        "    def __init__(self, text):\n",
        "        Document.__init__(self, text)\n",
        "        self.hashtag_counts = self._count_hashtags()\n",
        "\n",
        "    def _count_hashtags(self):\n",
        "        # Filter attribute so only words starting with '#' remain\n",
        "        return filter_word_counts(self.word_counts, first_char='#')\n"
      ],
      "metadata": {
        "id": "wPwoyRyWZLKB"
      },
      "execution_count": null,
      "outputs": []
    },
    {
      "cell_type": "markdown",
      "source": [
        "Instructions 2/2\n",
        "Fill in the first line ofSocialMedia's __init__ method using the parent class to properly utilize inheritance.\n",
        "Properly call the _count_mentions method in __init__ to add a new feature to SocialMedia.\n",
        "\n"
      ],
      "metadata": {
        "id": "VTDdF7zVZ7X2"
      }
    },
    {
      "cell_type": "code",
      "source": [
        "# Define a SocialMedia class that is a child of the `Document class`\n",
        "class SocialMedia(Document):\n",
        "    def __init__(self, text):\n",
        "        Document.__init__(self, text)\n",
        "        self.hashtag_counts = self._count_hashtags()\n",
        "        self.mention_counts = self._count_mentions()\n",
        "\n",
        "    def _count_hashtags(self):\n",
        "        # Filter attribute so only words starting with '#' remain\n",
        "        return filter_word_counts(self.word_counts, first_char='#')\n",
        "\n",
        "    def _count_mentions(self):\n",
        "        # Filter attribute so only words starting with '@' remain\n",
        "        return filter_word_counts(self.word_counts, first_char='@')\n"
      ],
      "metadata": {
        "id": "gc8JVsJiZ-1W"
      },
      "execution_count": null,
      "outputs": []
    },
    {
      "cell_type": "markdown",
      "source": [
        "# Using your child class\n",
        "Thanks to the power of inheritance you were able to create a feature-rich, SocialMedia class based on its parent, Document. Let's see some of these features in action.\n",
        "\n",
        "Below is the full definition of SocialMedia for reference. Additionally, SocialMedia has been added to __init__.py for ease of use.\n",
        "```\n",
        "class SocialMedia(Document):\n",
        "    def __init__(self, text):\n",
        "        Document.__init__(self, text)\n",
        "        self.hashtag_counts = self._count_hashtags()\n",
        "        self.mention_counts = self._count_mentions()\n",
        "\n",
        "    def _count_hashtags(self):\n",
        "        # Filter attribute so only words starting with '#' remain\n",
        "        return filter_word_counts(self.word_counts, first_char='#')      \n",
        "\n",
        "    def _count_mentions(self):\n",
        "        # Filter attribute so only words starting with '@' remain\n",
        "        return filter_word_counts(self.word_counts, first_char='@')\n",
        "```\n",
        "Instructions\n",
        "100 XP\n",
        "import your text_analyzer custom package.\n",
        "Define dc_tweets as an instance of SocialMedia with the preloaded datacamp_tweets object as the text.\n",
        "print the 5 most_common mentioned users in the data using the appropriate dc_tweets attribute.\n",
        "Use text_analyzer's plot_counter() method to plot the most used hashtags in the data using the appropriate dc_tweets attribute."
      ],
      "metadata": {
        "id": "ytLdLMahazbM"
      }
    },
    {
      "cell_type": "code",
      "source": [
        "# Import custom text_analyzer package\n",
        "import text_analyzer\n",
        "\n",
        "# Create a SocialMedia instance with datacamp_tweets\n",
        "dc_tweets = text_analyzer.SocialMedia(text=datacamp_tweets)\n",
        "\n",
        "# Print the top five most mentioned users\n",
        "print(dc_tweets.mention_counts.most_common(5))\n",
        "\n",
        "# Plot the most used hashtags\n",
        "text_analyzer.plot_counter(dc_tweets.hashtag_counts)\n"
      ],
      "metadata": {
        "id": "VnjSUHwRa1cb"
      },
      "execution_count": null,
      "outputs": []
    },
    {
      "cell_type": "markdown",
      "source": [
        "# Exploring with dir and help\n",
        "A new method has been added to the Document class. The method is a convenience wrapper around the plot_counter() function you wrote in an earlier exercise. In this exercise, you'll use dir() and help() to identify how to utilize the new method.\n",
        "\n",
        "Instructions 1/3\n",
        "35 XP\n",
        "1\n",
        "2\n",
        "3\n",
        "import the text_analyzer package.\n",
        "Define my_doc as an instance of Document with the text stored in datacamp_tweets. datacamp_tweets has been pre-loaded in your environment."
      ],
      "metadata": {
        "id": "b5fJkVAiSzew"
      }
    },
    {
      "cell_type": "code",
      "source": [
        "# Import the text_analyzer package\n",
        "import text_analyzer\n",
        "\n",
        "# Create an instance of Document\n",
        "my_doc = text_analyzer.Document(datacamp_tweets)"
      ],
      "metadata": {
        "id": "zxSiq2ptT_Q0"
      },
      "execution_count": null,
      "outputs": []
    },
    {
      "cell_type": "markdown",
      "source": [
        "Instructions 2/3 Question\n",
        "Use dir to show all of my_doc's methods and attributes. What is the name of the new plot method from the resulting list.\n",
        "\n",
        "Possible answers\n",
        "\n",
        "\n",
        "plot_word_counts\n",
        "\n",
        "plot_counts\n",
        "\n",
        "plot_words\n",
        "\n",
        "plot_text"
      ],
      "metadata": {
        "id": "MMUnwMO2UK0B"
      }
    },
    {
      "cell_type": "code",
      "source": [
        "dir(my_doc)"
      ],
      "metadata": {
        "id": "FN1m3csMUMEK"
      },
      "execution_count": null,
      "outputs": []
    },
    {
      "cell_type": "markdown",
      "source": [
        "Instructions 3/3\n",
        "Run help() on the plot method you discovered with dir() to see how to properly use the functionality.\n",
        "Plot my_doc's word counts using the new plot method."
      ],
      "metadata": {
        "id": "GBlLql2uUe_V"
      }
    },
    {
      "cell_type": "code",
      "source": [
        "# Import needed package\n",
        "import text_analyzer\n",
        "\n",
        "# Create instance of document\n",
        "my_doc = text_analyzer.Document(datacamp_tweets)\n",
        "\n",
        "# Run help on my_doc's plot method\n",
        "help(my_doc.plot_counts)\n",
        "\n",
        "# Plot the word_counts of my_doc\n",
        "my_doc.plot_counts()\n"
      ],
      "metadata": {
        "id": "tIzQLLW9UgRY"
      },
      "execution_count": null,
      "outputs": []
    },
    {
      "cell_type": "markdown",
      "source": [
        "# Creating a grandchild class\n",
        "In this exercise you will be using inheritance to create a Tweet class from your SocialMedia class. This new grandchild class of Document will be able to tackle Twitter specific details such as retweets.\n",
        "\n",
        "Instructions\n",
        "100 XP\n",
        "Complete the class statement so that Tweets inherits from SocialMedia. SocialMedia has already been loaded in your environment.\n",
        "Use super() to call the __init__ method of the parent class.\n",
        "Define retweet_text. Use help() to complete the call to filter_lines with the correct parameter name. filter_lines has already been loaded in your environment.\n",
        "return retweet_text from _process_retweets as an instance of SocialMedia."
      ],
      "metadata": {
        "id": "TIeQhhbiWNqN"
      }
    },
    {
      "cell_type": "code",
      "source": [
        "# Define a Tweet class that inherits from SocialMedia\n",
        "class Tweets(SocialMedia):\n",
        "    def __init__(self, text):\n",
        "        # Call parent's __init__ with super()\n",
        "        super().__init__()\n",
        "        # Define retweets attribute with non-public method\n",
        "        self.retweets = self._process_retweets()\n",
        "\n",
        "    def _process_retweets(self):\n",
        "        # Filter tweet text to only include retweets\n",
        "        retweet_text = filter_lines(self.text, first_chars='RT')\n",
        "        # Ensure you are returning an instance of SocialMedia\n",
        "        return SocialMedia(retweet_text)\n",
        "\n",
        "help(filter_lines)"
      ],
      "metadata": {
        "id": "5bSY4-iMWOHN"
      },
      "execution_count": null,
      "outputs": []
    }
  ]
}