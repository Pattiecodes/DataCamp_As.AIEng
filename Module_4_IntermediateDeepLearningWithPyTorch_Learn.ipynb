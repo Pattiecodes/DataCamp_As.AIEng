{
  "nbformat": 4,
  "nbformat_minor": 0,
  "metadata": {
    "colab": {
      "provenance": [],
      "authorship_tag": "ABX9TyOYlz9ZKEl1xcKKxc7Cfngy",
      "include_colab_link": true
    },
    "kernelspec": {
      "name": "python3",
      "display_name": "Python 3"
    },
    "language_info": {
      "name": "python"
    }
  },
  "cells": [
    {
      "cell_type": "markdown",
      "metadata": {
        "id": "view-in-github",
        "colab_type": "text"
      },
      "source": [
        "<a href=\"https://colab.research.google.com/github/Pattiecodes/DataCamp_As.AIEng/blob/main/Module_4_IntermediateDeepLearningWithPyTorch_Learn.ipynb\" target=\"_parent\"><img src=\"https://colab.research.google.com/assets/colab-badge.svg\" alt=\"Open In Colab\"/></a>"
      ]
    },
    {
      "cell_type": "markdown",
      "source": [
        "### This is the start for Module 4."
      ],
      "metadata": {
        "id": "d2G-39ot8LIZ"
      }
    },
    {
      "cell_type": "markdown",
      "source": [
        "# PyTorch Dataset\n",
        "Time to refresh your PyTorch Datasets knowledge!\n",
        "\n",
        "Before model training can commence, you need to load the data and pass it to the model in the right format. In PyTorch, this is handled by Datasets and DataLoaders. Let's start with building a PyTorch Dataset for our water potability data.\n",
        "\n",
        "In this exercise, you will define a class called WaterDataset to load the data from a CSV file. To do this, you will need to implement the three methods which PyTorch expects a Dataset to have:\n",
        "\n",
        ".__init__() to load the data,\n",
        ".__len__() to return data size,\n",
        ".__getitem()__ to extract features and label for a single sample.\n",
        "The following imports that you need have already been done for you:\n",
        "\n",
        "import pandas as pd\n",
        "from torch.utils.data import Dataset\n",
        "Instructions 1/3\n",
        "In the .__init__() method, load the data from csv_path to a pandas DataFrame and assign it to df.\n",
        "Convert df to a NumPy array and assign the result to self.data."
      ],
      "metadata": {
        "id": "g3oOswAeTVfU"
      }
    },
    {
      "cell_type": "code",
      "source": [
        "class WaterDataset(Dataset):\n",
        "    def __init__(self, csv_path):\n",
        "        super().__init__()\n",
        "        # Load data to pandas DataFrame\n",
        "        df = pd.read_csv(csv_path)\n",
        "        # Convert data to a NumPy array and assign to self.data\n",
        "        self.data = df.to_numpy()"
      ],
      "metadata": {
        "id": "tiWfcW_xTZjT"
      },
      "execution_count": null,
      "outputs": []
    },
    {
      "cell_type": "markdown",
      "source": [
        "Instructions 2/3\n",
        "35 XP\n",
        "Implement the .__len__() method to return the number of data samples."
      ],
      "metadata": {
        "id": "b_fmVkLlUBZQ"
      }
    },
    {
      "cell_type": "code",
      "source": [
        "class WaterDataset(Dataset):\n",
        "    def __init__(self, csv_path):\n",
        "        super().__init__()\n",
        "        # Load data to pandas DataFrame\n",
        "        df = pd.read_csv(csv_path)\n",
        "        # Convert data to a NumPy array and assign to self.data\n",
        "        self.data = df.to_numpy()\n",
        "\n",
        "    # Implement __len__ to return the number of data samples\n",
        "    def __len__(self):\n",
        "        return self.data.shape[0]"
      ],
      "metadata": {
        "id": "bjX4mwv5UCYO"
      },
      "execution_count": null,
      "outputs": []
    },
    {
      "cell_type": "markdown",
      "source": [
        "Instructions 3/3\n",
        "30 XP\n",
        "In the .__getitem__() method, get the label by slicing self.data to extract its last column for the index idx, similarly to how it's done for the features."
      ],
      "metadata": {
        "id": "apm3KEzDUS7a"
      }
    },
    {
      "cell_type": "code",
      "source": [
        "class WaterDataset(Dataset):\n",
        "    def __init__(self, csv_path):\n",
        "        super().__init__()\n",
        "        # Load data to pandas DataFrame\n",
        "        df = pd.read_csv(csv_path)\n",
        "        # Convert data to a NumPy array and assign to self.data\n",
        "        self.data = df.to_numpy()\n",
        "\n",
        "    # Implement __len__ to return the number of data samples\n",
        "    def __len__(self):\n",
        "        return self.data.shape[0]\n",
        "\n",
        "    def __getitem__(self, idx):\n",
        "        features = self.data[idx, :-1]\n",
        "        # Assign last data column to label\n",
        "        label = self.data[idx, -1]\n",
        "        return features, label"
      ],
      "metadata": {
        "id": "iAF7GLJ4UTd7"
      },
      "execution_count": null,
      "outputs": []
    },
    {
      "cell_type": "markdown",
      "source": [
        "# PyTorch DataLoader\n",
        "Good job defining the Dataset class! The WaterDataset you just created is now available for you to use.\n",
        "\n",
        "The next step in preparing the training data is to set up a DataLoader. A PyTorch DataLoader can be created from a Dataset to load data, split it into batches, and perform transformations on the data if desired. Then, it yields a data sample ready for training.\n",
        "\n",
        "In this exercise, you will build a DataLoader based on the WaterDataset. The DataLoader class you will need has already been imported for you from torch.utils.data. Let's get to it!\n",
        "\n",
        "Instructions\n",
        "100 XP\n",
        "Create an instance of WaterDataset from water_train.csv, assigning it to dataset_train.\n",
        "Create dataloader_train based on dataset_train, using a batch size of two and shuffling the samples.\n",
        "Get a batch of features and labels from the DataLoader and print them."
      ],
      "metadata": {
        "id": "F9Y8ikstVAxS"
      }
    },
    {
      "cell_type": "code",
      "source": [
        "# Create an instance of the WaterDataset\n",
        "dataset_train = WaterDataset(\"water_train.csv\")\n",
        "\n",
        "# Create a DataLoader based on dataset_train\n",
        "dataloader_train = DataLoader(\n",
        "    dataset_train,\n",
        "    batch_size=2,\n",
        "    shuffle=True,\n",
        ")\n",
        "\n",
        "# Get a batch of features and labels\n",
        "features, labels = next(iter(dataloader_train))\n",
        "print(features, labels)"
      ],
      "metadata": {
        "id": "X15i2qHkVC7P"
      },
      "execution_count": null,
      "outputs": []
    },
    {
      "cell_type": "markdown",
      "source": [
        "# PyTorch Model\n",
        "You will use the OOP approach to define the model architecture. Recall that this requires setting up a model class and defining two methods inside it:\n",
        "\n",
        ".__init__(), in which you define the layers you want to use;\n",
        "\n",
        "forward(), in which you define what happens to the model inputs once it receives them; this is where you pass inputs through pre-defined layers.\n",
        "\n",
        "Let's build a model with three linear layers and ReLU activations. After the last linear layer, you need a sigmoid activation instead, which is well-suited for binary classification tasks like our water potability prediction problem. Here's the model defined using nn.Sequential(), which you may be more familiar with:\n",
        "\n",
        "net = nn.Sequential(\n",
        "  nn.Linear(9, 16),\n",
        "  nn.ReLU(),\n",
        "  nn.Linear(16, 8),\n",
        "  nn.ReLU(),\n",
        "  nn.Linear(8, 1),\n",
        "  nn.Sigmoid(),\n",
        ")\n",
        "Let's rewrite this model as a class!\n",
        "\n",
        "Instructions\n",
        "100 XP\n",
        "In the .__init__() method, define the three linear layers with dimensions corresponding to the model definition provided and assign them to self.fc1, self.fc2, and self.fc3, respectively.\n",
        "In the forward() method, pass the model input x through all the layers, remembering to add activations on top of them, similarly how it's already done for the first layer."
      ],
      "metadata": {
        "id": "WYdImEqnVpkc"
      }
    },
    {
      "cell_type": "code",
      "source": [
        "import torch.nn as nn\n",
        "import torch.nn.functional as F\n",
        "\n",
        "class Net(nn.Module):\n",
        "    def __init__(self):\n",
        "        super().__init__()\n",
        "        # Define the three linear layers\n",
        "        self.fc1 = nn.Linear(9, 16)\n",
        "        self.fc2 = nn.Linear(16, 8)\n",
        "        self.fc3 = nn.Linear(8, 1)\n",
        "\n",
        "    def forward(self, x):\n",
        "        # Pass x through linear layers adding activations\n",
        "        x = nn.functional.relu(self.fc1(x))\n",
        "        x = nn.functional.relu(self.fc2(x))\n",
        "        x = nn.functional.sigmoid(self.fc3(x))\n",
        "        return x"
      ],
      "metadata": {
        "id": "MEWvHCK-Vtlo"
      },
      "execution_count": null,
      "outputs": []
    },
    {
      "cell_type": "markdown",
      "source": [
        "# Optimizers\n",
        "It's time to explore the different optimizers that you can use for training your model.\n",
        "\n",
        "A custom function called train_model(optimizer, net, num_epochs) has been defined for you. It takes the optimizer, the model, and the number of epochs as inputs, runs the training loops, and prints the training loss at the end.\n",
        "\n",
        "Let's use train_model() to run a few short trainings with different optimizers and compare the results!\n",
        "Instructions 1/3\n",
        "35 XP\n",
        "Define the optimizer as Stochastic Gradient Descent."
      ],
      "metadata": {
        "id": "nZMdqHm1i5F2"
      }
    },
    {
      "cell_type": "code",
      "source": [
        "import torch.optim as optim\n",
        "\n",
        "net = Net()\n",
        "\n",
        "# Define the SGD optimizer\n",
        "optimizer = optim.SGD(net.parameters(), lr=0.001)\n",
        "\n",
        "train_model(\n",
        "    optimizer=optimizer,\n",
        "    net=net,\n",
        "    num_epochs=10,\n",
        ")"
      ],
      "metadata": {
        "id": "sHcXFF2Li8Fa"
      },
      "execution_count": null,
      "outputs": []
    },
    {
      "cell_type": "markdown",
      "source": [
        "Instructions 2/3\n",
        "Define the optimizer as Root Mean Square Propagation (RMSprop), passing the model's parameters as its first argument."
      ],
      "metadata": {
        "id": "9O_TCpa7jD8L"
      }
    },
    {
      "cell_type": "code",
      "source": [
        "import torch.optim as optim\n",
        "\n",
        "net = Net()\n",
        "\n",
        "# Define the RMSprop optimizer\n",
        "optimizer = optim.RMSprop(net.parameters(), lr=0.001)\n",
        "\n",
        "train_model(\n",
        "    optimizer=optimizer,\n",
        "    net=net,\n",
        "    num_epochs=10,\n",
        ")"
      ],
      "metadata": {
        "id": "aLjmiCetjFkD"
      },
      "execution_count": null,
      "outputs": []
    },
    {
      "cell_type": "markdown",
      "source": [
        "Instructions 3/3\n",
        "Define the optimizer as Adaptive Moments Estimation (Adam), setting the learning rate to 0.001."
      ],
      "metadata": {
        "id": "gAKfWVSpjRX_"
      }
    },
    {
      "cell_type": "code",
      "source": [
        "import torch.optim as optim\n",
        "\n",
        "net = Net()\n",
        "\n",
        "# Define the Adam optimizer\n",
        "optimizer = optim.Adam(net.parameters(), lr=0.001)\n",
        "\n",
        "train_model(\n",
        "    optimizer=optimizer,\n",
        "    net=net,\n",
        "    num_epochs=10,\n",
        ")"
      ],
      "metadata": {
        "id": "7w2CkEd0jUV4"
      },
      "execution_count": null,
      "outputs": []
    },
    {
      "cell_type": "markdown",
      "source": [
        "# Model evaluation\n",
        "With the training loop sorted out, you have trained the model for 1000 epochs, and it is available to you as net. You have also set up a test_dataloader in exactly the same way as you did with train_dataloader before—just reading the data from the test rather than the train directory.\n",
        "\n",
        "You can now evaluate the model on test data. To do this, you will need to write the evaluation loop to iterate over the batches of test data, get the model's predictions for each batch, and calculate the accuracy score for it. Let's do it!\n",
        "\n",
        "Instructions\n",
        "100 XP\n",
        "Set up the evaluation metric as Accuracy for binary classification and assign it to acc.\n",
        "For each batch of test data, get the model's outputs and assign them to outputs.\n",
        "After the loop, compute the total test accuracy and assign it to test_accuracy."
      ],
      "metadata": {
        "id": "lygni7pSjwRG"
      }
    },
    {
      "cell_type": "code",
      "source": [
        "import torch\n",
        "from torchmetrics import Accuracy\n",
        "\n",
        "# Set up binary accuracy metric\n",
        "acc = Accuracy(task=\"binary\")\n",
        "\n",
        "net.eval()\n",
        "with torch.no_grad():\n",
        "    for features, labels in dataloader_test:\n",
        "        # Get predicted probabilities for test data batch\n",
        "        outputs = net(features)\n",
        "        preds = (outputs >= 0.5).float()\n",
        "        acc(preds, labels.view(-1, 1))\n",
        "\n",
        "# Compute total test accuracy\n",
        "test_accuracy = acc.compute()\n",
        "print(f\"Test accuracy: {test_accuracy}\")"
      ],
      "metadata": {
        "id": "NyAaSUNcj1BU"
      },
      "execution_count": null,
      "outputs": []
    },
    {
      "cell_type": "markdown",
      "source": [
        "# Initialization and activation\n",
        "The problems of unstable (vanishing or exploding) gradients are a challenge that often arises in training deep neural networks. In this and the following exercises, you will expand the model architecture that you built for the water potability classification task to make it more immune to those problems.\n",
        "\n",
        "As a first step, you'll improve the weights initialization by using He (Kaiming) initialization strategy. To do so, you will need to call the proper initializer from the torch.nn.init module, which has been imported for you as init. Next, you will update the activations functions from the default ReLU to the often better ELU.\n",
        "\n",
        "Instructions\n",
        "100 XP\n",
        "Call the He (Kaiming) initializer on the weight attribute of the second layer, fc2, similarly to how it's done for fc1.\n",
        "Call the He (Kaiming) initializer on the weight attribute of the third layer, fc3, accounting for the different activation function used in the final layer.\n",
        "Update the activation functions in the forward() method from relu to elu."
      ],
      "metadata": {
        "id": "Kq0qRUNdrTx9"
      }
    },
    {
      "cell_type": "code",
      "source": [
        "class Net(nn.Module):\n",
        "    def __init__(self):\n",
        "        super().__init__()\n",
        "        self.fc1 = nn.Linear(9, 16)\n",
        "        self.fc2 = nn.Linear(16, 8)\n",
        "        self.fc3 = nn.Linear(8, 1)\n",
        "\n",
        "        # Apply He initialization\n",
        "        init.kaiming_uniform_(self.fc1.weight)\n",
        "        init.kaiming_uniform_(self.fc2.weight)\n",
        "        init.kaiming_uniform_(self.fc3.weight, nonlinearity=\"sigmoid\")\n",
        "\n",
        "    def forward(self, x):\n",
        "        # Update ReLU activation to ELU\n",
        "        x = nn.functional.elu(self.fc1(x))\n",
        "        x = nn.functional.elu(self.fc2(x))\n",
        "        x = nn.functional.sigmoid(self.fc3(x))\n",
        "        return x"
      ],
      "metadata": {
        "id": "b_RNRTcQ7B58"
      },
      "execution_count": null,
      "outputs": []
    },
    {
      "cell_type": "markdown",
      "source": [
        "# Batch Normalization\n",
        "As a final improvement to the model architecture, let's add the batch normalization layer after each of the two linear layers. The batch norm trick tends to accelerate training convergence and protects the model from vanishing and exploding gradients issues.\n",
        "\n",
        "Both torch.nn and torch.nn.init have already been imported for you as nn and init, respectively. Once you implement the change in the model architecture, be ready to answer a short question on how batch normalization works!\n",
        "\n",
        "Instructions 1/3\n",
        "35 XP\n",
        "Add two BatchNorm1d layers assigning them to self.bn1 and self.bn2."
      ],
      "metadata": {
        "id": "tlmI6oZR7tZO"
      }
    },
    {
      "cell_type": "code",
      "source": [
        "class Net(nn.Module):\n",
        "    def __init__(self):\n",
        "        super().__init__()\n",
        "        self.fc1 = nn.Linear(9, 16)\n",
        "        # Add two batch normalization layers\n",
        "        self.bn1 = nn.BatchNorm1d(16)\n",
        "        self.fc2 = nn.Linear(16, 8)\n",
        "        self.bn2 = nn.BatchNorm1d(8)\n",
        "        self.fc3 = nn.Linear(8, 1)\n",
        "\n",
        "        init.kaiming_uniform_(self.fc1.weight)\n",
        "        init.kaiming_uniform_(self.fc2.weight)\n",
        "        init.kaiming_uniform_(self.fc3.weight, nonlinearity=\"sigmoid\")"
      ],
      "metadata": {
        "id": "DbtP5YN37vr6"
      },
      "execution_count": null,
      "outputs": []
    },
    {
      "cell_type": "markdown",
      "source": [
        "Instructions 2/3\n",
        "35 XP\n",
        "In the forward() method, pass x through the second set of layers: the linear layer, the batch norm layer, and the activations, similarly to how it's done for the first set of layers."
      ],
      "metadata": {
        "id": "tIV7AZlk7yjQ"
      }
    },
    {
      "cell_type": "code",
      "source": [
        "class Net(nn.Module):\n",
        "    def __init__(self):\n",
        "        super().__init__()\n",
        "        self.fc1 = nn.Linear(9, 16)\n",
        "        # Add two batch normalization layers\n",
        "        self.bn1 = nn.BatchNorm1d(16)\n",
        "        self.fc2 = nn.Linear(16, 8)\n",
        "        self.bn2 = nn.BatchNorm1d(8)\n",
        "        self.fc3 = nn.Linear(8, 1)\n",
        "\n",
        "        init.kaiming_uniform_(self.fc1.weight)\n",
        "        init.kaiming_uniform_(self.fc2.weight)\n",
        "        init.kaiming_uniform_(self.fc3.weight, nonlinearity=\"sigmoid\")\n",
        "\n",
        "    def forward(self, x):\n",
        "        x = self.fc1(x)\n",
        "        x = self.bn1(x)\n",
        "        x = nn.functional.elu(x)\n",
        "\n",
        "        # --- Code Added ---\n",
        "        # Pass x through the second set of layers\n",
        "        x = self.fc2(x)\n",
        "        x = self.bn2(x)\n",
        "        x = nn.functional.elu(x)\n",
        "\n",
        "        x = nn.functional.sigmoid(self.fc3(x))\n",
        "        return x\n",
        "\n",
        "# Part 3/3 of Batch Normalization is just a question. No code."
      ],
      "metadata": {
        "id": "RoDI706w7zjA"
      },
      "execution_count": null,
      "outputs": []
    },
    {
      "cell_type": "markdown",
      "source": [
        "# Image dataset\n",
        "Let's start with building a Torch Dataset of images. You'll use it to explore the data and, later, to feed it into a model.\n",
        "\n",
        "The training data for the cloud classification task is stored in the following directory structure:\n",
        "\n",
        "\n",
        "```\n",
        "clouds_train\n",
        "  - cirriform clouds\n",
        "    - 539cd1c356e9c14749988a12fdf6c515.jpg\n",
        "    - ...\n",
        "  - clear sky\n",
        "  - cumulonimbus clouds\n",
        "  - cumulus clouds\n",
        "  - high cumuliform clouds\n",
        "  - stratiform clouds\n",
        "  - stratocumulus clouds\n",
        "\n",
        "```\n",
        "\n",
        "There are seven folders inside clouds_train, each representing one cloud type (or a clear sky). Inside each of these folders sit corresponding image files.\n",
        "\n",
        "The following imports have already been done for you:\n",
        "\n",
        "\n",
        "```\n",
        "from torchvision.datasets import ImageFolder\n",
        "from torchvision import transforms\n",
        "\n",
        "```\n",
        "\n",
        "Instructions\n",
        "100 XP\n",
        "Compose two transformations, the first, to parse the image to a tensor, and one to resize the image to 128 by 128, assigning them to train_transforms.\n",
        "Use ImageFolder to define dataset_train, passing it the directory path to the data (\"clouds_train\") and the transforms defined earlier.\n",
        "\n",
        "\n"
      ],
      "metadata": {
        "id": "hlCwQUiHlnJW"
      }
    },
    {
      "cell_type": "code",
      "source": [
        "# Compose transformations\n",
        "train_transforms = transforms.Compose([\n",
        "    transforms.ToTensor(),\n",
        "    transforms.Resize((128, 128)),\n",
        "])\n",
        "\n",
        "# Create Dataset using ImageFolder\n",
        "dataset_train = ImageFolder(\n",
        "    \"clouds_train\",\n",
        "    transform=train_transforms,\n",
        ")"
      ],
      "metadata": {
        "id": "mzaVqg2sl4DP"
      },
      "execution_count": null,
      "outputs": []
    },
    {
      "cell_type": "markdown",
      "source": [
        "# Data augmentation in PyTorch\n",
        "Let's include data augmentation in your Dataset and inspect some images visually to make sure the desired transformations are applied.\n",
        "\n",
        "First, you'll add the augmenting transformations to train_transforms. Let's use a random horizontal flip and a rotation by a random angle between 0 and 45 degrees. The code that follows to create the Dataset and the DataLoader is exactly the same as before. Finally, you'll reshape the image and display it to see if the new augmenting transformations are visible.\n",
        "\n",
        "All the imports you need have been called for you:\n",
        "\n",
        "\n",
        "```\n",
        "from torchvision.datasets import ImageFolder\n",
        "from torch.utils.data import DataLoader\n",
        "from torchvision import transforms\n",
        "import matplotlib.pyplot as plt\n",
        "```\n",
        "Time to augment some cloud photos!\n",
        "\n",
        "Instructions\n",
        "100 XP\n",
        "Add two more transformations to train_transforms to perform a random horizontal flip and then a rotation by a random angle between 0 and 45 degrees.\n",
        "Reshape the image tensor from the DataLoader to make it suitable for display.\n",
        "Display the image.\n"
      ],
      "metadata": {
        "id": "UAgEWzoFmq8L"
      }
    },
    {
      "cell_type": "code",
      "source": [
        "train_transforms = transforms.Compose([\n",
        "    # Add horizontal flip and rotation\n",
        "    transforms.RandomHorizontalFlip(),\n",
        "    transforms.RandomRotation(45),\n",
        "    transforms.ToTensor(),\n",
        "    transforms.Resize((128, 128)),\n",
        "])\n",
        "\n",
        "dataset_train = ImageFolder(\n",
        "  \"clouds_train\",\n",
        "  transform=train_transforms,\n",
        ")\n",
        "\n",
        "dataloader_train = DataLoader(\n",
        "  dataset_train, shuffle=True, batch_size=1\n",
        ")\n",
        "\n",
        "image, label = next(iter(dataloader_train))\n",
        "# Reshape the image tensor\n",
        "image = image.squeeze().permute(1, 2, 0)\n",
        "# Display the image\n",
        "plt.imshow(image)\n",
        "plt.show()"
      ],
      "metadata": {
        "id": "WjtviupHmwql"
      },
      "execution_count": null,
      "outputs": []
    },
    {
      "cell_type": "markdown",
      "source": [
        "# Building convolutional networks\n",
        "You are on a team building a weather forecasting system. As part of the system, cameras will be installed at various locations to take pictures of the sky. Your task is to build a model to classify different cloud types in these pictures, which will help spot approaching weather fronts.\n",
        "\n",
        "You decide to build a convolutional image classifier. The model will consist of two parts:\n",
        "\n",
        "A feature extractor that learns a vector of features from the input image,\n",
        "A classifier that predicts the image's class based on the learned features.\n",
        "Both torch and torch.nn as nn have already been imported for you, so let's get to it!\n",
        "\n",
        "Instructions 1/3\n",
        "35 XP\n",
        "Define the feature_extractor part of the model by adding another convolutional layer with 64 output feature maps, the ELU activation, and a max pooling layer with a window of size two; at the end, flatten the output."
      ],
      "metadata": {
        "id": "6sJwg8Fu4QDo"
      }
    },
    {
      "cell_type": "code",
      "source": [
        "class Net(nn.Module):\n",
        "    def __init__(self, num_classes):\n",
        "        super().__init__()\n",
        "        # Define feature extractor\n",
        "        self.feature_extractor = nn.Sequential(\n",
        "            nn.Conv2d(3, 32, kernel_size=3, padding=1),\n",
        "            nn.ELU(),\n",
        "            nn.MaxPool2d(kernel_size=2),\n",
        "            nn.Conv2d(32, 64, kernel_size=3, padding=1),\n",
        "            nn.ELU(),\n",
        "            nn.MaxPool2d(kernel_size=2),\n",
        "            nn.Flatten(),\n",
        "        )"
      ],
      "metadata": {
        "id": "WDL3bhJH4TFL"
      },
      "execution_count": null,
      "outputs": []
    },
    {
      "cell_type": "markdown",
      "source": [
        "Instructions 2/3\n",
        "35 XP\n",
        "Define the classifier part of the model as a single linear layer with a number of inputs that reflects an input image of 64x64 and the feature extractor defined; the classifier should have num_classes outputs."
      ],
      "metadata": {
        "id": "BaDP8m9b4fCj"
      }
    },
    {
      "cell_type": "code",
      "source": [
        "class Net(nn.Module):\n",
        "    def __init__(self, num_classes):\n",
        "        super().__init__()\n",
        "        # Define feature extractor\n",
        "        self.feature_extractor = nn.Sequential(\n",
        "            nn.Conv2d(3, 32, kernel_size=3, padding=1),\n",
        "            nn.ELU(),\n",
        "            nn.MaxPool2d(kernel_size=2),\n",
        "            nn.Conv2d(32, 64, kernel_size=3, padding=1),\n",
        "            nn.ELU(),\n",
        "            nn.MaxPool2d(kernel_size=2),\n",
        "            nn.Flatten(),\n",
        "        )\n",
        "        # Define classifier\n",
        "        self.classifier = nn.Linear(64*16*16, num_classes)"
      ],
      "metadata": {
        "id": "UeOLFam74gg0"
      },
      "execution_count": null,
      "outputs": []
    }
  ]
}