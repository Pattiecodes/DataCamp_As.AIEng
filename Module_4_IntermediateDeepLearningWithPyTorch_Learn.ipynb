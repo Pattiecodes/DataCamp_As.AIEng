{
  "nbformat": 4,
  "nbformat_minor": 0,
  "metadata": {
    "colab": {
      "provenance": [],
      "authorship_tag": "ABX9TyMv9RP3TzxmDwjsHSb9/5Sx",
      "include_colab_link": true
    },
    "kernelspec": {
      "name": "python3",
      "display_name": "Python 3"
    },
    "language_info": {
      "name": "python"
    }
  },
  "cells": [
    {
      "cell_type": "markdown",
      "metadata": {
        "id": "view-in-github",
        "colab_type": "text"
      },
      "source": [
        "<a href=\"https://colab.research.google.com/github/Pattiecodes/DataCamp_As.AIEng/blob/main/Module_4_IntermediateDeepLearningWithPyTorch_Learn.ipynb\" target=\"_parent\"><img src=\"https://colab.research.google.com/assets/colab-badge.svg\" alt=\"Open In Colab\"/></a>"
      ]
    },
    {
      "cell_type": "markdown",
      "source": [
        "### This is the start for Module 4."
      ],
      "metadata": {
        "id": "d2G-39ot8LIZ"
      }
    },
    {
      "cell_type": "markdown",
      "source": [
        "# PyTorch Dataset\n",
        "Time to refresh your PyTorch Datasets knowledge!\n",
        "\n",
        "Before model training can commence, you need to load the data and pass it to the model in the right format. In PyTorch, this is handled by Datasets and DataLoaders. Let's start with building a PyTorch Dataset for our water potability data.\n",
        "\n",
        "In this exercise, you will define a class called WaterDataset to load the data from a CSV file. To do this, you will need to implement the three methods which PyTorch expects a Dataset to have:\n",
        "\n",
        ".__init__() to load the data,\n",
        ".__len__() to return data size,\n",
        ".__getitem()__ to extract features and label for a single sample.\n",
        "The following imports that you need have already been done for you:\n",
        "\n",
        "import pandas as pd\n",
        "from torch.utils.data import Dataset\n",
        "Instructions 1/3\n",
        "In the .__init__() method, load the data from csv_path to a pandas DataFrame and assign it to df.\n",
        "Convert df to a NumPy array and assign the result to self.data."
      ],
      "metadata": {
        "id": "g3oOswAeTVfU"
      }
    },
    {
      "cell_type": "code",
      "source": [
        "class WaterDataset(Dataset):\n",
        "    def __init__(self, csv_path):\n",
        "        super().__init__()\n",
        "        # Load data to pandas DataFrame\n",
        "        df = pd.read_csv(csv_path)\n",
        "        # Convert data to a NumPy array and assign to self.data\n",
        "        self.data = df.to_numpy()"
      ],
      "metadata": {
        "id": "tiWfcW_xTZjT"
      },
      "execution_count": null,
      "outputs": []
    }
  ]
}