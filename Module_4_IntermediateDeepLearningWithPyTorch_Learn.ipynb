{
  "nbformat": 4,
  "nbformat_minor": 0,
  "metadata": {
    "colab": {
      "provenance": [],
      "authorship_tag": "ABX9TyPaimA3A1n5fLfkNzv5Xvwy",
      "include_colab_link": true
    },
    "kernelspec": {
      "name": "python3",
      "display_name": "Python 3"
    },
    "language_info": {
      "name": "python"
    }
  },
  "cells": [
    {
      "cell_type": "markdown",
      "metadata": {
        "id": "view-in-github",
        "colab_type": "text"
      },
      "source": [
        "<a href=\"https://colab.research.google.com/github/Pattiecodes/DataCamp_As.AIEng/blob/main/Module_4_IntermediateDeepLearningWithPyTorch_Learn.ipynb\" target=\"_parent\"><img src=\"https://colab.research.google.com/assets/colab-badge.svg\" alt=\"Open In Colab\"/></a>"
      ]
    },
    {
      "cell_type": "markdown",
      "source": [
        "### This is the start for Module 4."
      ],
      "metadata": {
        "id": "d2G-39ot8LIZ"
      }
    },
    {
      "cell_type": "markdown",
      "source": [
        "# PyTorch Dataset\n",
        "Time to refresh your PyTorch Datasets knowledge!\n",
        "\n",
        "Before model training can commence, you need to load the data and pass it to the model in the right format. In PyTorch, this is handled by Datasets and DataLoaders. Let's start with building a PyTorch Dataset for our water potability data.\n",
        "\n",
        "In this exercise, you will define a class called WaterDataset to load the data from a CSV file. To do this, you will need to implement the three methods which PyTorch expects a Dataset to have:\n",
        "\n",
        ".__init__() to load the data,\n",
        ".__len__() to return data size,\n",
        ".__getitem()__ to extract features and label for a single sample.\n",
        "The following imports that you need have already been done for you:\n",
        "\n",
        "import pandas as pd\n",
        "from torch.utils.data import Dataset\n",
        "Instructions 1/3\n",
        "In the .__init__() method, load the data from csv_path to a pandas DataFrame and assign it to df.\n",
        "Convert df to a NumPy array and assign the result to self.data."
      ],
      "metadata": {
        "id": "g3oOswAeTVfU"
      }
    },
    {
      "cell_type": "code",
      "source": [
        "class WaterDataset(Dataset):\n",
        "    def __init__(self, csv_path):\n",
        "        super().__init__()\n",
        "        # Load data to pandas DataFrame\n",
        "        df = pd.read_csv(csv_path)\n",
        "        # Convert data to a NumPy array and assign to self.data\n",
        "        self.data = df.to_numpy()"
      ],
      "metadata": {
        "id": "tiWfcW_xTZjT"
      },
      "execution_count": null,
      "outputs": []
    },
    {
      "cell_type": "markdown",
      "source": [
        "Instructions 2/3\n",
        "35 XP\n",
        "Implement the .__len__() method to return the number of data samples."
      ],
      "metadata": {
        "id": "b_fmVkLlUBZQ"
      }
    },
    {
      "cell_type": "code",
      "source": [
        "class WaterDataset(Dataset):\n",
        "    def __init__(self, csv_path):\n",
        "        super().__init__()\n",
        "        # Load data to pandas DataFrame\n",
        "        df = pd.read_csv(csv_path)\n",
        "        # Convert data to a NumPy array and assign to self.data\n",
        "        self.data = df.to_numpy()\n",
        "\n",
        "    # Implement __len__ to return the number of data samples\n",
        "    def __len__(self):\n",
        "        return self.data.shape[0]"
      ],
      "metadata": {
        "id": "bjX4mwv5UCYO"
      },
      "execution_count": null,
      "outputs": []
    },
    {
      "cell_type": "markdown",
      "source": [
        "Instructions 3/3\n",
        "30 XP\n",
        "In the .__getitem__() method, get the label by slicing self.data to extract its last column for the index idx, similarly to how it's done for the features."
      ],
      "metadata": {
        "id": "apm3KEzDUS7a"
      }
    },
    {
      "cell_type": "code",
      "source": [
        "class WaterDataset(Dataset):\n",
        "    def __init__(self, csv_path):\n",
        "        super().__init__()\n",
        "        # Load data to pandas DataFrame\n",
        "        df = pd.read_csv(csv_path)\n",
        "        # Convert data to a NumPy array and assign to self.data\n",
        "        self.data = df.to_numpy()\n",
        "\n",
        "    # Implement __len__ to return the number of data samples\n",
        "    def __len__(self):\n",
        "        return self.data.shape[0]\n",
        "\n",
        "    def __getitem__(self, idx):\n",
        "        features = self.data[idx, :-1]\n",
        "        # Assign last data column to label\n",
        "        label = self.data[idx, -1]\n",
        "        return features, label"
      ],
      "metadata": {
        "id": "iAF7GLJ4UTd7"
      },
      "execution_count": null,
      "outputs": []
    },
    {
      "cell_type": "markdown",
      "source": [
        "# PyTorch DataLoader\n",
        "Good job defining the Dataset class! The WaterDataset you just created is now available for you to use.\n",
        "\n",
        "The next step in preparing the training data is to set up a DataLoader. A PyTorch DataLoader can be created from a Dataset to load data, split it into batches, and perform transformations on the data if desired. Then, it yields a data sample ready for training.\n",
        "\n",
        "In this exercise, you will build a DataLoader based on the WaterDataset. The DataLoader class you will need has already been imported for you from torch.utils.data. Let's get to it!\n",
        "\n",
        "Instructions\n",
        "100 XP\n",
        "Create an instance of WaterDataset from water_train.csv, assigning it to dataset_train.\n",
        "Create dataloader_train based on dataset_train, using a batch size of two and shuffling the samples.\n",
        "Get a batch of features and labels from the DataLoader and print them."
      ],
      "metadata": {
        "id": "F9Y8ikstVAxS"
      }
    },
    {
      "cell_type": "code",
      "source": [
        "# Create an instance of the WaterDataset\n",
        "dataset_train = WaterDataset(\"water_train.csv\")\n",
        "\n",
        "# Create a DataLoader based on dataset_train\n",
        "dataloader_train = DataLoader(\n",
        "    dataset_train,\n",
        "    batch_size=2,\n",
        "    shuffle=True,\n",
        ")\n",
        "\n",
        "# Get a batch of features and labels\n",
        "features, labels = next(iter(dataloader_train))\n",
        "print(features, labels)"
      ],
      "metadata": {
        "id": "X15i2qHkVC7P"
      },
      "execution_count": null,
      "outputs": []
    }
  ]
}